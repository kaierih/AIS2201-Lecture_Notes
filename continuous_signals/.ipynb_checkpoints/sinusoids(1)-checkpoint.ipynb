{
 "cells": [
  {
   "cell_type": "code",
   "execution_count": 1,
   "id": "c5c27993-e9ac-4899-a08d-e5837236727b",
   "metadata": {
    "slideshow": {
     "slide_type": "skip"
    }
   },
   "outputs": [],
   "source": [
    "from numpy import sin, cos, pi, exp\n",
    "import numpy as np\n",
    "import scipy.signal as sig\n",
    "import matplotlib.pyplot as plt\n",
    "from IPython.display import Audio\n",
    "\n",
    "# Configure default pyplot settings\n",
    "plt.rcParams[\"figure.figsize\"] = [8.00, 4.5]\n",
    "plt.rcParams[\"figure.autolayout\"] = True\n",
    "plt.rcParams[\"axes.grid\"] = True\n",
    "plt.rcParams[\"axes.xmargin\"] = 0.0\n",
    "\n",
    "# Enable importing from modules in top-level directory\n",
    "from sys import path\n",
    "if path[0] != '..': path.insert(0, '..')"
   ]
  },
  {
   "cell_type": "markdown",
   "id": "8a2f2b66-d2cb-4417-8d98-e0b594adaf15",
   "metadata": {
    "slideshow": {
     "slide_type": "slide"
    }
   },
   "source": [
    "<img src=\"figures/NTNU_logo_vertical.svg\" align=\"left\" style=\"width: 30%\">\n",
    "<br clear=\"all\" />\n",
    "<br></br>\n",
    "\n",
    "# Sinusoids\n",
    "\n",
    "* **AIS2201 - Signal Processing**\n",
    "* **Week 34**\n",
    "* **Lecturer: Kai Erik Hoff**"
   ]
  },
  {
   "cell_type": "markdown",
   "id": "c7eaf3bb-8324-471b-bd72-cbc8822b6405",
   "metadata": {
    "slideshow": {
     "slide_type": "slide"
    }
   },
   "source": [
    "# Topics\n",
    "* Intro to signal analysis\n",
    "    - Time domain\n",
    "    - Frequency domain\n",
    "* Sinusoid properties\n",
    "    - Frequency (angular/Hz)\n",
    "    - Amplitude / Magnitude\n",
    "    - Vector addition principle\n",
    "    - Frequency mixing\n",
    "* Sinusoids as basis for frequency analysis"
   ]
  },
  {
   "cell_type": "markdown",
   "id": "f1f54dc4-3ec1-4618-a84e-3fe882447a33",
   "metadata": {
    "slideshow": {
     "slide_type": "slide"
    }
   },
   "source": [
    "## About Signals\n",
    "\n",
    "<div width=\"100%\">\n",
    "    <img src=\"figures/Fig1_signaleksempel.png\" align=\"right\" width=\"35%\"/>\n",
    "    <div style=\"width: 55%\">\n",
    "    <br>\n",
    "    <ul>\n",
    "      <li>A <i>signal</i> can be described as some measurable quantity carrying information. </li>\n",
    "      <ul><li>DSP systems typically use electrical signals.</li>\n",
    "          <li>Can be voltage output from sensors, antennas etc.</li></ul>\n",
    "      <li>1-Dimensional signals of primary concern for this course</li>\n",
    "      <ul><li>Eg. time-varying voltage signal.</li>\n",
    "      <li>Sound, IMU measurements, EMG etc.</li></ul>\n",
    "      <li>Multidimensional signals can also occur.</li>\n",
    "      <ul><li>Images are considered to be 2-dimensional. Signal value (color) varies with both $x$- and $y$ coordinates.</li>\n",
    "      <li>Video counts as a 3-dimensional signal, where time is an additional variable compared to images.</li></ul>\n",
    "    </ul>  \n",
    "    </div>\n",
    "</div> "
   ]
  },
  {
   "cell_type": "markdown",
   "id": "b875fa3d-dded-4f8b-8d65-6c77af0e0558",
   "metadata": {
    "slideshow": {
     "slide_type": "slide"
    }
   },
   "source": [
    "<br>\n",
    "<br>\n",
    "\n",
    "\n",
    "# Signal analysis\n",
    "\n",
    "* Signal Processing Theory provides a number of tools for analyzing signals.\n",
    "* Based on inspecting signal properties in the *time domain* or the *frequency domain*."
   ]
  },
  {
   "cell_type": "markdown",
   "id": "d9cbad62-76ef-4b25-9a61-494bf69770ca",
   "metadata": {
    "slideshow": {
     "slide_type": "slide"
    }
   },
   "source": [
    "### Time domain\n",
    "* 1 second window of an EKG-signal.\n",
    "\n",
    "<img src=\"figures/Fig5_EKG.png\" align=\"center\" width= \"40%\" />"
   ]
  },
  {
   "cell_type": "markdown",
   "id": "b9e0106c-181f-4a6d-ba0a-366250d322f7",
   "metadata": {
    "slideshow": {
     "slide_type": "slide"
    }
   },
   "source": [
    "### Frequency domain\n",
    "* EKG signal frequency spectrum.\n",
    "\n",
    "<img src=\"figures/EKG_Spectrum.png\" align=\"center\" width= \"60%\" />"
   ]
  },
  {
   "cell_type": "markdown",
   "id": "e5b9f974-25ac-4164-983b-5d038819a1da",
   "metadata": {
    "slideshow": {
     "slide_type": "slide"
    }
   },
   "source": [
    "## What is the frequency spectrum?\n",
    "\n",
    "\n",
    "* A function $X(f)$ which represents the decomposition of a time-domain signal $x(t)$ into constituent sine waves / sinusoids.\n",
    "* Graphical representation:\n",
    "\n",
    "<img src=\"figures/Fig6_EKG_decomp.png\" width=\"100%\" />\n"
   ]
  },
  {
   "cell_type": "markdown",
   "id": "91fe1dcb-2a48-4a43-a3cb-cce3cdcb0231",
   "metadata": {
    "slideshow": {
     "slide_type": "slide"
    }
   },
   "source": [
    "# Displaying the frequency spectrum using Python"
   ]
  },
  {
   "cell_type": "code",
   "execution_count": 2,
   "id": "bc10ff52-aa91-4abf-b880-6acf58cbc391",
   "metadata": {
    "editable": true,
    "slideshow": {
     "slide_type": ""
    },
    "tags": []
   },
   "outputs": [
    {
     "ename": "FileNotFoundError",
     "evalue": "[Errno 2] No such file or directory: 'Datafiler/03_Sinussignal/piano.wav'",
     "output_type": "error",
     "traceback": [
      "\u001b[1;31m---------------------------------------------------------------------------\u001b[0m",
      "\u001b[1;31mFileNotFoundError\u001b[0m                         Traceback (most recent call last)",
      "Cell \u001b[1;32mIn[2], line 3\u001b[0m\n\u001b[0;32m      1\u001b[0m \u001b[38;5;28;01mfrom\u001b[39;00m \u001b[38;5;21;01mscipy\u001b[39;00m\u001b[38;5;21;01m.\u001b[39;00m\u001b[38;5;21;01mio\u001b[39;00m \u001b[38;5;28;01mimport\u001b[39;00m wavfile\n\u001b[0;32m      2\u001b[0m \u001b[38;5;28;01mfrom\u001b[39;00m \u001b[38;5;21;01mIPython\u001b[39;00m\u001b[38;5;21;01m.\u001b[39;00m\u001b[38;5;21;01mdisplay\u001b[39;00m \u001b[38;5;28;01mimport\u001b[39;00m Audio\n\u001b[1;32m----> 3\u001b[0m fs, sampleData \u001b[38;5;241m=\u001b[39m \u001b[43mwavfile\u001b[49m\u001b[38;5;241;43m.\u001b[39;49m\u001b[43mread\u001b[49m\u001b[43m(\u001b[49m\u001b[38;5;124;43m\"\u001b[39;49m\u001b[38;5;124;43mDatafiler/03_Sinussignal/piano.wav\u001b[39;49m\u001b[38;5;124;43m\"\u001b[39;49m\u001b[43m)\u001b[49m \u001b[38;5;66;03m# Load audio file\u001b[39;00m\n\u001b[0;32m      4\u001b[0m x \u001b[38;5;241m=\u001b[39m sampleData\u001b[38;5;241m/\u001b[39m\u001b[38;5;28mmax\u001b[39m(\u001b[38;5;28mabs\u001b[39m(sampleData)) \u001b[38;5;66;03m# Normaliser til -1 < x[n] < 1 og konverter til flyttall \u001b[39;00m\n\u001b[0;32m      6\u001b[0m y \u001b[38;5;241m=\u001b[39m x\u001b[38;5;241m.\u001b[39mcopy()\n",
      "File \u001b[1;32m~\\AppData\\Local\\Programs\\Python\\Python312\\Lib\\site-packages\\scipy\\io\\wavfile.py:674\u001b[0m, in \u001b[0;36mread\u001b[1;34m(filename, mmap)\u001b[0m\n\u001b[0;32m    672\u001b[0m     mmap \u001b[38;5;241m=\u001b[39m \u001b[38;5;28;01mFalse\u001b[39;00m\n\u001b[0;32m    673\u001b[0m \u001b[38;5;28;01melse\u001b[39;00m:\n\u001b[1;32m--> 674\u001b[0m     fid \u001b[38;5;241m=\u001b[39m \u001b[38;5;28;43mopen\u001b[39;49m\u001b[43m(\u001b[49m\u001b[43mfilename\u001b[49m\u001b[43m,\u001b[49m\u001b[43m \u001b[49m\u001b[38;5;124;43m'\u001b[39;49m\u001b[38;5;124;43mrb\u001b[39;49m\u001b[38;5;124;43m'\u001b[39;49m\u001b[43m)\u001b[49m\n\u001b[0;32m    676\u001b[0m \u001b[38;5;28;01mtry\u001b[39;00m:\n\u001b[0;32m    677\u001b[0m     file_size, is_big_endian, is_rf64 \u001b[38;5;241m=\u001b[39m _read_riff_chunk(fid)\n",
      "\u001b[1;31mFileNotFoundError\u001b[0m: [Errno 2] No such file or directory: 'Datafiler/03_Sinussignal/piano.wav'"
     ]
    }
   ],
   "source": [
    "from scipy.io import wavfile\n",
    "from IPython.display import Audio\n",
    "fs, sampleData = wavfile.read(\"Datafiler/03_Sinussignal/piano.wav\") # Load audio file\n",
    "x = sampleData/max(abs(sampleData)) # Normaliser til -1 < x[n] < 1 og konverter til flyttall \n",
    "\n",
    "y = x.copy()\n",
    "y[0] = 0\n",
    "print(x[0], y[0])\n",
    "\n",
    "%matplotlib inline\n",
    "plt.figure(figsize=(14,7))\n",
    "plt.magnitude_spectrum(x, fs)\n",
    "plt.xlim([0, 4000])\n",
    "Audio(sampleData, rate = fs)"
   ]
  },
  {
   "cell_type": "markdown",
   "id": "f2ea93a6-2a27-4aa8-a1f0-758b80dff768",
   "metadata": {
    "slideshow": {
     "slide_type": "slide"
    }
   },
   "source": [
    "## Sinusuoids - *the basis for all freqency analysis*\n",
    "* Pure waves - frequency spectrum is a single spike.\n",
    "* Mathematical expresssion\n",
    "$$x(t) = A\\cdot \\cos\\left(\\omega\\cdot t + \\phi \\right)$$\n",
    "    - $A$ is the sinusoid's *Amplitude*\n",
    "    - $\\omega$ is the sinusoid's *angular frequency* (rad/s:)\n",
    "    - Frequency $f$ can also be a measurement of cycles per second ($Hz$)\n",
    "        - $\\omega = 2\\pi \\cdot f \\leftrightarrow f = \\frac{\\omega}{2\\pi}$\n",
    "    - $\\phi$ is the sinusoid's *phase* *fase*\n",
    "      - Unit: radians ($\\text{rad}$) or degrees ($^{\\circ}$)\n",
    "\n",
    "<img src=\"figures/Fig2_sinusbølge.png\" width=\"80%\" />\n"
   ]
  },
  {
   "cell_type": "markdown",
   "id": "8b929053-78dd-4688-befa-4f247f68e081",
   "metadata": {
    "slideshow": {
     "slide_type": "slide"
    }
   },
   "source": [
    "## Important distinctions in terminology"
   ]
  },
  {
   "cell_type": "markdown",
   "id": "7d96bd36-73cb-4bfd-9ba4-d07a6e423799",
   "metadata": {
    "slideshow": {
     "slide_type": "fragment"
    }
   },
   "source": [
    "### Amplitude vs. Magnitude\n",
    "\n",
    "* **Magnitude** is a measure of the strength of a sinusiod's oscillations and is always positive.\n",
    "* **Amplitude** is a mathematical variable in a function expression and can be positive, negative or even complex valued.\n",
    "\n",
    "$$ \\text{Magnitude} =\\boldsymbol{\\big|} \\text{Amplitude} \\boldsymbol{\\big|}$$"
   ]
  },
  {
   "cell_type": "markdown",
   "id": "dc4caf38-360e-4cc7-9f96-96bc094ba56c",
   "metadata": {
    "slideshow": {
     "slide_type": "fragment"
    }
   },
   "source": [
    "## Sinusoids vs. trigonometric functions\n",
    "\n",
    "* A **Sinusoid**  is *any* signal $x(t)$ which can be expressed as using a sine/cosine function: $x(t) = A\\cdot \\cos(\\omega \\cdot t + \\phi)$.\n",
    "* If we are specifically referencing strictly cosine ($A \\cdot \\cos(\\omega \\cdot t)$) or sine ($A \\cdot \\sin(\\omega \\cdot t)$) terms, we will use the term *cosine function* or *sine function*\n"
   ]
  },
  {
   "cell_type": "markdown",
   "id": "5e14391d-40cc-4b5c-9e70-a531324a13ca",
   "metadata": {
    "slideshow": {
     "slide_type": "fragment"
    }
   },
   "source": [
    "* Important note: The only difference between a sine function and a cosine function is a $\\frac{\\pi}{2} \\text{ rad}$ or $90^{\\circ}$ phase shift:\n",
    "$$\\sin(\\omega \\cdot t) = \\cos \\left( \\omega \\cdot t - \\frac{\\pi}{2} \\right) $$"
   ]
  },
  {
   "cell_type": "markdown",
   "id": "6e5fddcc-0f5b-4949-a852-06e0f3d26b2c",
   "metadata": {
    "slideshow": {
     "slide_type": "slide"
    }
   },
   "source": [
    "## Python-demo: *sinusoid* \n",
    "$$x(t) = A\\cdot \\cos(2\\pi \\cdot f \\cdot t + \\phi )$$"
   ]
  },
  {
   "cell_type": "code",
   "execution_count": null,
   "id": "de321097-608a-4931-afa6-4d8554ed79be",
   "metadata": {},
   "outputs": [],
   "source": [
    "%matplotlib ipympl\n",
    "from demos import SineWaveDemo\n",
    "SineWaveDemo(2, fig_size=(9,4));"
   ]
  },
  {
   "cell_type": "markdown",
   "id": "d6235756-f09c-4713-a60c-4826debb119c",
   "metadata": {
    "slideshow": {
     "slide_type": "slide"
    }
   },
   "source": [
    "## Why sinusoids?\n",
    "\n",
    "* Sinusoids not the only function which can be used to decompose signals.\n",
    "* Wouldn't a square wave be simpler?"
   ]
  },
  {
   "cell_type": "markdown",
   "id": "748c6a6e-7e23-4497-a0bf-8041bf6dd686",
   "metadata": {
    "slideshow": {
     "slide_type": "fragment"
    }
   },
   "source": [
    "* Sinusoids have some special properties which make them uniquely useful when analyzing linear systems"
   ]
  },
  {
   "cell_type": "markdown",
   "id": "46a545fa-ee8c-405e-b651-8c58966940b4",
   "metadata": {
    "slideshow": {
     "slide_type": "slide"
    }
   },
   "source": [
    "## Differentiation of sinusoids\n",
    "\n",
    "* The derivative of a sinusoid is another sinusoid\n",
    "\n",
    "$$\\begin{align}\n",
    "\\frac{d}{dt} \\left(A\\cdot \\cos (\\omega \\cdot t) \\right) &= A \\cdot -\\sin( \\omega \\cdot t) \\cdot \\omega & \\text{(kernel rule)} \\\\\n",
    "&= A \\cdot \\omega \\cdot \\cos \\left(\\omega \\cdot t + \\frac{\\pi}{2} \\right) & \n",
    "\\end{align}$$\n",
    "\n"
   ]
  },
  {
   "cell_type": "code",
   "execution_count": null,
   "id": "799e83ed-6764-46c4-8dbe-2082c6a53871",
   "metadata": {
    "slideshow": {
     "slide_type": "fragment"
    }
   },
   "outputs": [],
   "source": [
    "import numpy as np\n",
    "from numpy import cos, sin, pi\n",
    "import matplotlib.pyplot as plt\n",
    "\n",
    "t = np.linspace(0, 1, 201)\n",
    "x1 = 2*cos(2*pi*t + pi/3)\n",
    "\n",
    "x2 = np.diff(x1)/np.diff(t) # Numerical differentiation\n",
    "\n",
    "plt.close(3), plt.figure(3, figsize=(12,4))\n",
    "plt.plot(t, x1, label = \"$x_1(t)$\")\n",
    "plt.plot(t[:-1], x2, \"-.\", label = \"$x_1^'(t)$\")\n",
    "plt.legend()\n",
    "plt.xlabel(\"Time $t$ (s)\")\n",
    "plt.ylabel(\"Amplitude\")\n",
    "plt.title(\"A sinusoid and it's derivative\")"
   ]
  },
  {
   "cell_type": "markdown",
   "id": "a3d68e43-56b8-49fe-9e64-e48e54d30857",
   "metadata": {
    "slideshow": {
     "slide_type": "fragment"
    }
   },
   "source": [
    "* Differentiation causes a change in magnitude and phase, but retains the same shape."
   ]
  },
  {
   "cell_type": "markdown",
   "id": "8be4df77-dfdb-458a-a637-80e05fdd3d74",
   "metadata": {
    "slideshow": {
     "slide_type": "slide"
    }
   },
   "source": [
    "## Adding sinusoids\n",
    "\n",
    "* When two sinusoids of equal frequency are added together, the result is another sinusoid.\n"
   ]
  },
  {
   "cell_type": "code",
   "execution_count": null,
   "id": "ef3aeac7-44f0-485b-a26c-1b7bc8b610bc",
   "metadata": {
    "slideshow": {
     "slide_type": "fragment"
    }
   },
   "outputs": [],
   "source": [
    "import numpy as np\n",
    "from numpy import cos, sin, pi\n",
    "import matplotlib.pyplot as plt\n",
    "%matplotlib inline\n",
    "\n",
    "t = np.linspace(0, 1, 201)\n",
    "x1 = 2*cos(4*pi*t + pi/3)\n",
    "x2 = 3*cos(4*pi*t - pi/4)\n",
    "x3 = x1 + x2\n",
    "\n",
    "plt.close(4), plt.figure(4, figsize=(12,4))\n",
    "plt.plot(t, x1, \":\", label = \"$x_1(t)$\")\n",
    "plt.plot(t, x2, \"-.\", label = \"$x_2(t)$\")\n",
    "plt.plot(t, x3, label = \"$x_3(t)$\")\n",
    "plt.legend()\n",
    "plt.xlabel(\"Time $t$ (s)\")\n",
    "plt.ylabel(\"Amplitude\")\n",
    "plt.title(\"Two sinusoids and their sum\")"
   ]
  },
  {
   "cell_type": "markdown",
   "id": "07ad5175-25e1-45c8-984d-c8c2d65a8c9a",
   "metadata": {},
   "source": [
    "## Phasors\n",
    "* For a given frequency $\\omega$, the properties of a sinusoid $A \\cdot \\cos(\\omega \\cdot t + \\phi)$  can be fully determined by it's amplitude $A$ and it's phase $\\phi$.\n",
    "* The phasor $\\boldsymbol{A} = A\\cdot e^{j\\phi}$ combines amplitude $A$ and phase $\\phi$ to one single vector in the complex plane."
   ]
  },
  {
   "cell_type": "code",
   "execution_count": null,
   "id": "0d7553ef-1e97-4047-8bbe-e590f3623a36",
   "metadata": {},
   "outputs": [],
   "source": [
    "from demos import PhasorDemo\n",
    "%matplotlib ipympl\n",
    "PhasorDemo(fig_num=2);"
   ]
  },
  {
   "cell_type": "markdown",
   "id": "7138bc27-b51d-4006-9764-9fffdf454c7f",
   "metadata": {
    "slideshow": {
     "slide_type": "slide"
    }
   },
   "source": [
    "## Vector addition principle\n",
    "\n",
    "* Given a sum of sinusoids:\n",
    "#### $$\\sum_{k=1}^{N}A_k \\cdot \\cos\\left(\\omega_0 \\cdot t + \\phi_k \\right) = A\\cdot \\cos \\left(\\omega_0 \\cdot t + \\phi \\right)$$\n",
    "\n",
    "* The amplitude $A$ and phase $\\phi$ for the resulting sinusoid can be found through vector addition.\n",
    "    * Represent each component sinusoid as a complex vector (or phasor) $\\boldsymbol{A_i} = A_i \\cdot e^{j\\phi_i}$\n",
    "    * The sum of all component phasors $\\boldsymbol{A}_i$ is the phasor for the sum of all sinusoids.\n",
    "    \n",
    "$$A = \\left|A_1e^{j\\phi_1} + A_2e^{j\\phi_2}+\\cdots\\right|$$\n",
    "$$\\phi = \\angle \\left( A_1e^{j\\phi_1} + A_2e^{j\\phi_2}+\\cdots\\right) $$"
   ]
  },
  {
   "cell_type": "markdown",
   "id": "e5ca0a52-8411-4b1e-a11a-c1f2f09acd64",
   "metadata": {
    "slideshow": {
     "slide_type": "slide"
    }
   },
   "source": [
    "## Demo: *vector addition principle*"
   ]
  },
  {
   "cell_type": "code",
   "execution_count": null,
   "id": "2b5bb75c-5076-4bb3-b36f-1c4ca7c317d7",
   "metadata": {},
   "outputs": [],
   "source": [
    "%matplotlib ipympl\n",
    "from demos import VectorSumDemo\n",
    "VectorSumDemo(5);"
   ]
  },
  {
   "cell_type": "markdown",
   "id": "d1fd8166-52f1-4ee0-90f7-5cff1c5bb990",
   "metadata": {
    "slideshow": {
     "slide_type": "slide"
    }
   },
   "source": [
    "## Example: circuit analysis\n",
    "\n",
    "* Given a series RL circuit as shown with current $i(t) = \\cos(100 \\cdot t)$, what is the voltage $v_1(t)$?\n",
    "\n",
    "<img src=\"figures/RLC.png\" width=\"80%\" />"
   ]
  },
  {
   "cell_type": "markdown",
   "id": "649e077a-5b68-40db-849e-11bc4f8d8cac",
   "metadata": {
    "slideshow": {
     "slide_type": "notes"
    }
   },
   "source": [
    "$$\\begin{align}\n",
    "v_C(t) &= \\frac{1}{C}\\int_0^t i(\\tau) d\\tau\\\\\n",
    " &= \\frac{1}{C}\\int_0^t \\cos(2\\pi \\cdot 50 \\cdot \\tau)d\\tau\\\\\n",
    " &= \\frac{1}{C}\\cdot \\sin(2\\pi \\cdot 50 \\cdot t)\\cdot \\frac{1}{100\\pi}\\\\\n",
    " &= \\frac{1}{C}\\cdot \\cos\\left(2\\pi \\cdot 50 \\cdot t - \\frac{\\pi}{2}\\right)\\cdot \\frac{1}{100\\pi}\\\\ \\\\ \n",
    "v_R(t) &= R \\cdot i(t)\\\\\n",
    "&= R \\cdot \\cos(2\\pi \\cdot 50 \\cdot t) \\\\ \\\\\n",
    "v_1(t) &= v_R(t) + v_C(t) \\\\\n",
    "&= R \\cdot \\cos(2\\pi \\cdot 50 \\cdot t) + \\frac{1}{C\\cdot 100\\pi}\\cdot \\cos\\left(2\\pi \\cdot 50 \\cdot t - \\frac{\\pi}{2}\\right)\n",
    "\\end{align}$$"
   ]
  },
  {
   "cell_type": "markdown",
   "id": "e7e82ad8-1bca-4480-9894-7e2fb0924ac9",
   "metadata": {
    "slideshow": {
     "slide_type": "slide"
    }
   },
   "source": [
    "# Calculating the frequency spectrum of a signal\n",
    "\n",
    "* Accomplished by using the Fourier Transform:\n",
    "$$\\begin{align}\n",
    "X(\\omega) &= \\int_{-\\infty}^{\\infty} x(t) \\cdot e^{-j\\cdot \\omega \\cdot t} dt\\\\\n",
    "&= \\int_{-\\infty}^{\\infty}x(t) \\cdot \\cos( \\omega \\cdot t) dt - j \\cdot \\int_{-\\infty}^{\\infty}x(t) \\cdot \\sin( \\omega \\cdot t) dt\n",
    "\\end{align}$$"
   ]
  },
  {
   "cell_type": "markdown",
   "id": "f7fc564c-1502-4462-b955-a7fd4d85b7ec",
   "metadata": {
    "slideshow": {
     "slide_type": "fragment"
    }
   },
   "source": [
    "* Fair enough, but what's actually going on here?"
   ]
  },
  {
   "cell_type": "markdown",
   "id": "1d34c17b-3ab2-4594-ab12-a632f1cb7f88",
   "metadata": {
    "slideshow": {
     "slide_type": "fragment"
    }
   },
   "source": [
    "* First off, let's start by studying the more approachable *fourier series decomposition* formula:\n",
    "\n",
    "$$ \\boldsymbol{a}_k = \\frac{1}{T}\\int_0^T x(t)\\cdot \\left( \\cos\\left(2\\pi \\cdot \\frac{k}{T} \\cdot t \\right) - j \\sin\\left(2\\pi \\cdot \\frac{k}{T}  \\cdot t\\right) \\right) dt$$"
   ]
  },
  {
   "cell_type": "markdown",
   "id": "89e291e8-83af-4647-a94a-d601f30e062c",
   "metadata": {
    "slideshow": {
     "slide_type": "fragment"
    }
   },
   "source": [
    "* Let's focus on what happens when we multiply a signal $x(t)$ with a sinusoid."
   ]
  },
  {
   "cell_type": "markdown",
   "id": "393a3718-f7ea-4d7e-b9d9-3b89b6908de5",
   "metadata": {
    "slideshow": {
     "slide_type": "slide"
    }
   },
   "source": [
    "<img src=\"figures/waveform.png\" width=\"70%\" />"
   ]
  },
  {
   "cell_type": "markdown",
   "id": "8cd29d93-cc7b-435b-9d0b-abca0973341b",
   "metadata": {
    "slideshow": {
     "slide_type": "slide"
    }
   },
   "source": [
    "#  Frequency mixing\n",
    "\n",
    "* Term for multiplying a signal with a sinusoid\n",
    "* Multiplying two sinusoids will create a new signal with different frequency composition\n",
    "    * This composition can be found using a well known trigonometric idenity:\n",
    "    \n",
    "    $$ \\cos(a)\\cdot \\cos(b) = \\frac{1}{2} \\cdot \\cos(a-b) + \\frac{1}{2} \\cdot \\cos(a+b)$$<br>\n",
    "    \n",
    "    * Substing $a$ with $2\\pi \\cdot f_1 \\cdot t$ and $b$ with $2\\pi \\cdot f_2 \\cdot t$ gives:\n",
    "\n",
    "    $$ \\cos\\left( 2\\pi f_1 \\cdot t \\right) \\cdot \\cos\\left( 2\\pi f_2 \\cdot t \\right) = \\frac{1}{2}\\cos\\left(2\\pi (f_1 - f_2) \\cdot t \\right) + \\frac{1}{2}\\cos\\left(2\\pi (f_1 + f_2) \\cdot t \\right)$$<br>\n",
    "    \n",
    "* The product of two sinusoids is the sum of two new sinusoids, with frequencies $f_1-f_2$ og $f_1+f2$"
   ]
  },
  {
   "cell_type": "markdown",
   "id": "1d99884a-b46c-4b21-b29b-b7e07881a8ba",
   "metadata": {
    "slideshow": {
     "slide_type": "slide"
    }
   },
   "source": [
    "## Demo: *frequency mixing*"
   ]
  },
  {
   "cell_type": "code",
   "execution_count": null,
   "id": "0d71f7f7-9874-4419-b6ad-08e465bfd0cc",
   "metadata": {},
   "outputs": [],
   "source": [
    "%matplotlib ipympl \n",
    "from demos import FrequencyMixingDemo\n",
    "FrequencyMixingDemo(6, fig_size=(9, 4));"
   ]
  },
  {
   "cell_type": "markdown",
   "id": "6538e8b9-07fa-4091-a71c-e935bd179f97",
   "metadata": {
    "slideshow": {
     "slide_type": "notes"
    }
   },
   "source": [
    "## Digression: *frequency mixing in radio systems*\n",
    "\n",
    "* Frequency mixing is an essential component of all radio communication.\n",
    "    * Allows electronic systems to \"move\" the frequency content of a baseband signal such as audio far into the radio frequency spectrum\n",
    " \n",
    "* The science of shaping a high-frequency carrier wave to contain a signal is referred to as *modulation*\n",
    "\n",
    "* Simplest form of modulation is [Amplitude Modulation (AM)](https://en.wikipedia.org/wiki/Amplitude_modulation)"
   ]
  },
  {
   "cell_type": "markdown",
   "id": "6cfe8d0b-a491-4e9d-b77c-30c2b786fb24",
   "metadata": {
    "slideshow": {
     "slide_type": "slide"
    }
   },
   "source": [
    "## Frequency mixing of \"unknown\" sinusoid $x(t)$\n",
    "\n",
    "* Let's look at a case where a sinusoid $x(t)$ has a known frequency $f$, but unknown amplitude $A$ and phase $\\phi$.\n",
    "* Assume $x(t)$ can be written as:\n",
    "  $$x(t) = A_x \\cdot \\cos(2\\pi \\cdot f \\cdot t) + A_y \\cdot \\sin(2\\pi \\cdot f \\cdot t)$$"
   ]
  },
  {
   "cell_type": "code",
   "execution_count": null,
   "id": "b77331b6-6f11-445e-8bdf-d2920df274c7",
   "metadata": {},
   "outputs": [],
   "source": [
    "import numpy as np\n",
    "\n",
    "random_mag, random_phase = np.random.rand(2)*np.array([10, 2*np.pi])\n",
    "t = np.linspace(0, 1, 301)\n",
    "f = 5\n",
    "x = random_mag*np.cos(2*np.pi*f*t + random_phase)"
   ]
  },
  {
   "cell_type": "code",
   "execution_count": null,
   "id": "9119cb7a-8592-40ab-a112-a4a12de45355",
   "metadata": {},
   "outputs": [],
   "source": [
    "%matplotlib inline\n",
    "plt.close(7), plt.figure(7)\n",
    "plt.plot(t, x, label=\"x(t)\")\n",
    "plt.plot(t, x*np.sin(2*np.pi*f*t), label=\"$x(t)\\\\cdot \\\\sin(2\\\\pi f t)$\")\n",
    "plt.legend(loc=\"upper right\")"
   ]
  },
  {
   "cell_type": "markdown",
   "id": "bebab8f5-bb12-480a-ad1d-549674fabd1f",
   "metadata": {
    "slideshow": {
     "slide_type": "slide"
    }
   },
   "source": [
    "# Integration = extracting constant term\n",
    "\n",
    "$$\\int_0^T \\frac{A}{2} + \\frac{A}{2}\\cos(2\\pi \\cdot 2f \\cdot t) dt  = \\frac{A}{2}$$\n",
    "\n",
    "* The constant term in $x(t)\\cdot \\cos(\\omega\\cdot t)$ is proportional to the magnitude of the $\\cos(\\omega\\cdot t)$ term in $x(t)$\n",
    "    * Constant term = signal mean: $\\frac{1}{T}\\int_0^{T} x(t) \\cdot \\cos(2\\pi \\cdot f \\cdot t) dt$\n",
    "* The constant term in $x(t)\\cdot \\sin(\\omega\\cdot t)$ is proportional to the magnitude of the $\\sin(\\omega\\cdot t)$ term in $x(t)$\n",
    "    * Constant term = signal mean: $\\frac{1}{T}\\int_0^{T} x(t) \\cdot \\sin(2\\pi \\cdot f \\cdot t) dt$ "
   ]
  },
  {
   "cell_type": "code",
   "execution_count": null,
   "id": "a6aec6ff-6f15-40ef-a39a-cb7e79636658",
   "metadata": {},
   "outputs": [],
   "source": [
    "plt.close(8);plt.figure(8)\n",
    "\n",
    "x_mixed = x*np.cos(2*np.pi*f*t)\n",
    "x_mixed_sine = x*np.sin(2*np.pi*f*t)\n",
    "Ax_half = np.mean(x_mixed)\n",
    "Ay_half = np.mean(x_mixed_sine)\n",
    "\n",
    "plt.plot(t, x*np.cos(2*np.pi*f*t), label=\"$x(t)\\\\cdot \\\\cos(2\\\\pi f t)$\")\n",
    "plt.plot(t, x*np.sin(2*np.pi*f*t), label=\"$x(t)\\\\cdot \\\\sin(2\\\\pi f t)$\")\n",
    "plt.plot([t[0], t[-1]], Ax_half*np.ones(2), label=\"$\\\\int_0^T x(\\\\tau)\\\\cdot \\\\cos(2\\\\pi f \\\\tau)dt$\")\n",
    "plt.plot([t[0], t[-1]], Ay_half*np.ones(2), label=\"$\\\\int_0^T x(\\\\tau)\\\\cdot \\\\sin(2\\\\pi f \\\\tau)dt$\")\n",
    "plt.legend(loc=\"upper right\")"
   ]
  },
  {
   "cell_type": "markdown",
   "id": "79fdc099-468d-4f96-83e5-dc88dd4a152e",
   "metadata": {
    "slideshow": {
     "slide_type": "fragment"
    }
   },
   "source": [
    "* All other wave components with frequencies other than the mixing frquency $f$ are cancelled out by integration"
   ]
  },
  {
   "cell_type": "markdown",
   "id": "f6cc0a54-dc5e-430d-9de9-476b8f34478f",
   "metadata": {},
   "source": [
    "## Frequency mixing and the fourier series"
   ]
  }
 ],
 "metadata": {
  "kernelspec": {
   "display_name": "Python 3 (ipykernel)",
   "language": "python",
   "name": "python3"
  },
  "language_info": {
   "codemirror_mode": {
    "name": "ipython",
    "version": 3
   },
   "file_extension": ".py",
   "mimetype": "text/x-python",
   "name": "python",
   "nbconvert_exporter": "python",
   "pygments_lexer": "ipython3",
   "version": "3.12.2"
  }
 },
 "nbformat": 4,
 "nbformat_minor": 5
}
