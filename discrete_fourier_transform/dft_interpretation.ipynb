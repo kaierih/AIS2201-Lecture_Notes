{
 "cells": [
  {
   "cell_type": "code",
   "execution_count": 1,
   "id": "1e55291e-2d6b-4451-a200-8e9a60864e44",
   "metadata": {
    "slideshow": {
     "slide_type": "skip"
    }
   },
   "outputs": [],
   "source": [
    "from numpy import sin, cos, pi, exp, e\n",
    "import numpy as np\n",
    "from numpy.fft import fft, rfft\n",
    "import scipy.signal as sig\n",
    "import matplotlib.pyplot as plt\n",
    "from IPython.display import Audio\n",
    "\n",
    "# Configure default pyplot settings\n",
    "plt.rcParams[\"figure.figsize\"] = [8.00, 4.5]\n",
    "plt.rcParams[\"figure.autolayout\"] = True\n",
    "plt.rcParams[\"axes.grid\"] = True\n",
    "plt.rcParams[\"axes.xmargin\"] = 0.0\n",
    "\n",
    "# Enable importing from modules in top-level directory\n",
    "from sys import path\n",
    "if path[0] != '..': path.insert(0, '..')\n"
   ]
  },
  {
   "cell_type": "markdown",
   "id": "76dc0d3c-740a-4470-ac9a-1d46720a4fc9",
   "metadata": {
    "slideshow": {
     "slide_type": "slide"
    }
   },
   "source": [
    "<img src=\"figures/NTNU_logo_vertical.svg\" align=\"left\" style=\"width: 30%\">\n",
    "<br clear=\"all\" />\n",
    "<br></br>\n",
    "\n",
    "# Interpreting the Discrete Fourier Transform\n",
    "\n",
    "* **Emne AIS2201 - Signalbehandling**\n",
    "* **Uke 37, 2024**\n",
    "* **Underviser: Kai Erik Hoff**\n"
   ]
  },
  {
   "cell_type": "markdown",
   "id": "928c6735",
   "metadata": {
    "slideshow": {
     "slide_type": "slide"
    }
   },
   "source": [
    "## Topics\n",
    "\n",
    "* Recap: the discrete fourier transform\n",
    "* Interpreting the fourier transform\n",
    "    * Index and frequency\n",
    "    * Magnitude\n",
    "    * Phase\n",
    "* Important DFT Properties\n",
    "* Methods of computing the DFT\n",
    "    * Fast Fourier Transform\n",
    "    * Real-valued Fast Fourier Transform"
   ]
  },
  {
   "cell_type": "markdown",
   "id": "36787f74-f060-4dea-89c0-4ffbf3470328",
   "metadata": {
    "slideshow": {
     "slide_type": "slide"
    }
   },
   "source": [
    "## Recap: The Discrete Fourier Transform (DFT)\n",
    "\n",
    "1. Signal is observed over a finite sample interval $N$\n",
    "2. Extract magnitude and phase information for each quadrature component completing $m \\in \\mathbb{Z}$ full cycles over the course of $N$ samples\n",
    "\n",
    "<img src=\"figures/Fig2_DFT_IO.png\" style=\"width: 100%; margin-left: 0px\" />"
   ]
  },
  {
   "cell_type": "markdown",
   "id": "86abee8e-86b6-43be-93d9-f7b325f45e6a",
   "metadata": {
    "slideshow": {
     "slide_type": "slide"
    }
   },
   "source": [
    "## Recap: The Discrete Fourier Transform (DFT)\n",
    "\n",
    "\n",
    "\n"
   ]
  },
  {
   "cell_type": "markdown",
   "id": "648339a3-4f70-4527-be81-da2f29ed956f",
   "metadata": {
    "slideshow": {
     "slide_type": "fragment"
    }
   },
   "source": [
    "* Definition:\n",
    "$$X[m] = \\sum_{n=0}^{N-1}x[n]\\cdot e^{-j\\cdot 2\\pi \\frac{m\\cdot n}{N}} $$\n",
    "    * Where $m$ is the *frequency index*"
   ]
  },
  {
   "cell_type": "markdown",
   "id": "bf83f8af-2dfe-4225-942a-b6f131c3dbcb",
   "metadata": {
    "slideshow": {
     "slide_type": "fragment"
    }
   },
   "source": [
    "* Relationship between $m$ and normalized frequency\n",
    "\n",
    "$$\\hat{\\omega}_m = \\frac{2\\pi \\cdot m}{N}$$"
   ]
  },
  {
   "cell_type": "markdown",
   "id": "b9fa0aa9-72f2-4bd9-b22c-f92129d4a397",
   "metadata": {
    "slideshow": {
     "slide_type": "fragment"
    }
   },
   "source": [
    "* *Almost* the same principle as fourier series decomposition"
   ]
  },
  {
   "cell_type": "markdown",
   "id": "906cf118-d134-4692-9327-3ce36635bd16",
   "metadata": {
    "slideshow": {
     "slide_type": "fragment"
    }
   },
   "source": [
    "* Results in frequency componets which make up the signal *window*  $x[n], n \\in \\{0, 1, 2, \\ldots , N-1 \\}$"
   ]
  },
  {
   "cell_type": "markdown",
   "id": "f15ad14f-75fb-4875-81ce-f28f3db43a7e",
   "metadata": {
    "slideshow": {
     "slide_type": "fragment"
    }
   },
   "source": [
    "* Output sequence $X[m]$ periodic over $N$ samples."
   ]
  },
  {
   "cell_type": "markdown",
   "id": "556501d2-d323-4620-aef8-8b3554989c3c",
   "metadata": {
    "slideshow": {
     "slide_type": "slide"
    }
   },
   "source": [
    "# The DFT Sequence\n",
    "\n",
    "* Frequency content is *only* calculated for integer frequency indices $m \\in \\{1, 2, 3, \\ldots, N-1\\}$.\n",
    "    * Frequency indices $m > \\frac{N}{2}$ belong to the *negative halv* of the two-sided frequency spectrum.\n",
    "\n",
    "    \n",
    "<img src=\"figures/Fig4_DFT_1.png\" style=\"width: 85%\" />"
   ]
  },
  {
   "cell_type": "markdown",
   "id": "c108ebd1-b86a-4162-a8e2-841ca7ce4e60",
   "metadata": {
    "slideshow": {
     "slide_type": "slide"
    }
   },
   "source": [
    "## Example 1:\n",
    "\n",
    "* The table below provides $N=4$ samples of the signal $x[n]$.\n",
    "\n",
    "|n|0|1|2|3|\n",
    "|--- |---|---|---|---|\n",
    "|x\\[n\\]|2|-1|2|1|\n",
    "\n",
    "* Perform the 4-point DFT of $x[n]$."
   ]
  },
  {
   "cell_type": "markdown",
   "id": "22b4799c-f153-433c-bc2f-5e7f22b6f1d7",
   "metadata": {
    "slideshow": {
     "slide_type": "slide"
    }
   },
   "source": [
    "# Key concept: resolution bandwidth (RBW)\n",
    "\n",
    "* The distance in the frequency domain between each computed frequency component $\\Delta \\hat{\\omega}$.\n",
    "* Inversely proportional to the window lenght $N$, ie. the number of samples used to compute the DFT.\n",
    "\n",
    "\\begin{align}\n",
    "\\Delta \\hat{\\omega} &= \\frac{2\\pi}{N} \\\\\n",
    "\\Delta \\hat{f} &= \\frac{1}{N}\n",
    "\\end{align}\n",
    "\n",
    "* For signals sampled at a sampling rate $f_s$, the resolution bandwidth in $\\text{Hz}$ is:\n",
    "\n",
    "\\begin{align}\n",
    "\\Delta f &= \\Delta \\hat{f} \\cdot f_s \\\\\n",
    "&= \\frac{f_s}{N}\n",
    "\\end{align}\n"
   ]
  },
  {
   "cell_type": "markdown",
   "id": "4ceddc01-72b9-4b8e-b883-520435292e38",
   "metadata": {
    "slideshow": {
     "slide_type": "slide"
    }
   },
   "source": [
    "# Frequency index $m$ \n",
    "\n",
    "* DFT provides a finite sequence of \"frequency samples\".\n",
    "    * A sampled version of some continuous frequency-domain representation.\n",
    "* Each sample has a corresponding index $m$\n",
    "* The frequency of any point in the DFT can be calculated using the index $m$ and the resolution bandwidth\n",
    "    * For a $N$ point DFT this becomes:\n",
    "\n",
    "$$\\hat{\\omega}_m = m\\cdot \\Delta \\hat{\\omega} = m\\cdot \\frac{2\\pi}{N}$$\n",
    "\n",
    "$$f_m = m\\cdot \\Delta f = m\\cdot \\frac{f_s}{N}$$\n",
    "\n",
    "\n"
   ]
  },
  {
   "cell_type": "markdown",
   "id": "661a11f6-710d-47d3-9be1-4d3cfce52e95",
   "metadata": {
    "slideshow": {
     "slide_type": "slide"
    }
   },
   "source": [
    "# Properties of the DFT\n",
    "\n",
    "* Periodic over $N$ samples.\n",
    "$$X[m] = X[m+l\\cdot N], \\ \\ \\ l \\in \\mathbb{Z}$$\n",
    "* Complex conjugate symmetry for real-valued signals.\n",
    "$$X[m] = X[-m]^* = X[N-m]^*$$\n",
    "\n",
    "* DC-component:\n",
    "    - Located at $m=0$.\n",
    "    - Phase is either $0$ or $\\pi$ (positive or negative sign for a real value)\n",
    "* Midpoint $\\left( m=\\frac{N}{2} \\right)$\n",
    "    - Nyquist frequency\n",
    "        - 2 samples per cycle\n",
    "    - Phase is either $0$ or $\\pi$ (for real-valued signals)."
   ]
  },
  {
   "cell_type": "markdown",
   "id": "af1879cb-0105-41d1-8902-0091ba7a5aaf",
   "metadata": {
    "slideshow": {
     "slide_type": "slide"
    }
   },
   "source": [
    "# Linearity\n",
    "\n",
    "* The DFT is a **linear** transformation\n",
    "    * Satisfies the *superposition principle*:\n",
    "\n",
    "$$ \\text{DFT}\\left(x_1[n] + x_2[n] \\right) = X_1[m] + X_2[m]$$\n",
    "\n",
    "* Linearity illustrated: \n",
    "\n",
    "<img src=\"figures/Fig10_DFT_Linearity.png\" style=\"width: 80%; margin-left: 100px\" />"
   ]
  },
  {
   "cell_type": "markdown",
   "id": "b9042afe-4923-4355-b726-53eb5c79105e",
   "metadata": {
    "slideshow": {
     "slide_type": "notes"
    }
   },
   "source": [
    "* Without this property the DFT would be unsuitablefor analysis of anything other than pure sine waves."
   ]
  },
  {
   "cell_type": "markdown",
   "id": "ef059da9-3bb1-4763-9f4b-d40aa0c6b5d1",
   "metadata": {
    "slideshow": {
     "slide_type": "slide"
    }
   },
   "source": [
    "# Interpreting the DFT: Magnitude\n",
    "* Magnitude of frequency sample $|X[m]|$ relates to sinusoid magnitude\n",
    "\n",
    "<img src=\"figures/Fig5_DFT_2.png\" style=\"width: 80%; margin-left: 100px\" />"
   ]
  },
  {
   "cell_type": "markdown",
   "id": "46d8e0dd-8f29-420d-be4d-ed67f25ff4ec",
   "metadata": {
    "slideshow": {
     "slide_type": "slide"
    }
   },
   "source": [
    "# Interpreting the DFT: Phase\n",
    "* Angle of complex frequency sample $\\angle X[m]$ relates to sinusoid phase\n",
    "\n",
    "<img src=\"figures/Fig6_DFT_3.png\" width=\"80%\" />\n",
    "[tweak figure]"
   ]
  },
  {
   "cell_type": "markdown",
   "id": "39a74f36-94da-44c0-9d7e-afb225236ddf",
   "metadata": {
    "slideshow": {
     "slide_type": "notes"
    }
   },
   "source": [
    "#### Notes:\n",
    "Very good video explaining how to use the DFT: [Understanding the Discrete Fourier Transform and the FFT](https://www.youtube.com/watch?v=QmgJmh2I3Fw)"
   ]
  },
  {
   "cell_type": "markdown",
   "id": "60e6a061-e844-4f6a-bb18-0c0b3d179eb5",
   "metadata": {
    "slideshow": {
     "slide_type": "slide"
    }
   },
   "source": [
    "## DFT of a sinusoid"
   ]
  },
  {
   "cell_type": "code",
   "execution_count": 3,
   "id": "a7d56e15-0224-4911-8b37-42de65b7bd55",
   "metadata": {
    "slideshow": {
     "slide_type": "fragment"
    }
   },
   "outputs": [
    {
     "data": {
      "application/vnd.jupyter.widget-view+json": {
       "model_id": "d08a59c14beb448a9d5093b669c2e103",
       "version_major": 2,
       "version_minor": 0
      },
      "text/plain": [
       "HBox(children=(VBox(children=(FloatSlider(value=1.0, continuous_update=False, description='Ampltiude:', layout…"
      ]
     },
     "metadata": {},
     "output_type": "display_data"
    },
    {
     "data": {
      "application/vnd.jupyter.widget-view+json": {
       "model_id": "fecc6dc4de9a491186a852e9dfdc19a6",
       "version_major": 2,
       "version_minor": 0
      },
      "text/plain": [
       "Output()"
      ]
     },
     "metadata": {},
     "output_type": "display_data"
    },
    {
     "data": {
      "application/vnd.jupyter.widget-view+json": {
       "model_id": "0d3e7e95b5dc43a595fce01e659114a0",
       "version_major": 2,
       "version_minor": 0
      },
      "image/png": "[encoded data removed]",
      "text/html": [
       "\n",
       "            <div style=\"display: inline-block;\">\n",
       "                <div class=\"jupyter-widgets widget-label\" style=\"text-align: center;\">\n",
       "                    Figure\n",
       "                </div>\n",
       "                <img src='data:image/png;base64,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' width=900.0/>\n",
       "            </div>\n",
       "        "
      ],
      "text/plain": [
       "Canvas(toolbar=Toolbar(toolitems=[('Home', 'Reset original view', 'home', 'home'), ('Back', 'Back to previous …"
      ]
     },
     "metadata": {},
     "output_type": "display_data"
    }
   ],
   "source": [
    "from demos import DFT_Demo\n",
    "%matplotlib ipympl\n",
    "DFT_Demo(2);"
   ]
  },
  {
   "cell_type": "markdown",
   "id": "ea2b9e11-373e-4d18-8c2a-d236cb7a2099",
   "metadata": {
    "slideshow": {
     "slide_type": "slide"
    }
   },
   "source": [
    "## Example 2\n",
    "\n",
    "* The formula below represents the $N=16$-point DFT of some unknown sinusoid $x[n]$.\n",
    "\n",
    "$$ X[m]= \n",
    "\\begin{cases}\n",
    " 4\\sqrt{3} -j4, \\ \\ & m = 3\\\\\n",
    " 4\\sqrt{3} +j4, \\ \\ & m = 13\\\\\n",
    " 0, & \\text{ellers}\n",
    "\\end{cases}\n",
    "$$\n",
    "\n",
    "* Find normalized angular frequency $\\hat{\\omega}$, magnitude $|A|$ and phase $\\phi$ for the sinusoid $x[n]$."
   ]
  },
  {
   "cell_type": "markdown",
   "id": "e52e0b44-2f16-460d-8813-0f4e372afdf7",
   "metadata": {
    "slideshow": {
     "slide_type": "slide"
    }
   },
   "source": [
    "# Fast Fourier Transform (FFT)\n",
    "\n",
    "* Computationally effective algorithm for calculating the DFT\n",
    "    - No \"normal\" DFT function exists for Python (would be redundant and inefficient)\n",
    "    - `numpy` FFT-function: [`numpy.fft.fft()`](https://numpy.org/doc/stable/reference/generated/numpy.fft.fft.html#numpy.fft.fft)\n",
    "    \n",
    "    \n",
    "```python\n",
    "import numpy as np\n",
    "x_n = np.array([1, 2, 3, 4, 0, 4, 2 , 5, 3, 1, 4, 2])\n",
    "X_m = np.fft.fft(x_n)\n",
    "X_m\n",
    "```\n",
    "Gir: \n",
    "\n",
    "```Python\n",
    "array([31.        +0.00000000e+00j, -3.33012702+9.64101615e-01j,\n",
    "       -0.5       -2.59807621e+00j, -5.        +4.00000000e+00j,\n",
    "       -3.5       +8.66025404e-01j,  5.33012702-5.96410162e+00j,\n",
    "       -5.        +2.22044605e-16j,  5.33012702+5.96410162e+00j,\n",
    "       -3.5       -8.66025404e-01j, -5.        -4.00000000e+00j,\n",
    "       -0.5       +2.59807621e+00j, -3.33012702-9.64101615e-01j])``` "
   ]
  },
  {
   "cell_type": "markdown",
   "id": "d25c3cd2-2dff-4582-9c06-a2833407a9d0",
   "metadata": {
    "slideshow": {
     "slide_type": "notes"
    }
   },
   "source": [
    "#### Notes:\n",
    "Interesting video on the Fast Fourier Transform: [The Most Important Algorithm Of All Time](https://www.youtube.com/watch?v=nmgFG7PUHfo)"
   ]
  },
  {
   "cell_type": "markdown",
   "id": "0515f192-cf9a-4b7d-8f96-2ed13fe7e372",
   "metadata": {
    "slideshow": {
     "slide_type": "slide"
    }
   },
   "source": [
    "## Code example:\n",
    "* Use `fft()` to calculate the frequency content of the signal  `x_n` from the datafile, and show a two-sided frequency spectrum with frequency in Hertz along the x-axis.\n",
    "    * P.S. the function `numpy.fft.fftshift()` is useful for this purpose."
   ]
  },
  {
   "cell_type": "code",
   "execution_count": 5,
   "id": "831b57bb-933d-48d3-8242-d3d73fdb57b3",
   "metadata": {},
   "outputs": [],
   "source": [
    "from scipy.io import loadmat\n",
    "data = loadmat('Datafiler/06_DFT/06_DFT_data.mat', squeeze_me=True)\n",
    "x_n = data['x2_n']\n",
    "Fs = data['f_s']"
   ]
  },
  {
   "cell_type": "markdown",
   "id": "cdd2eb0e-442d-4280-8040-b41d636dd883",
   "metadata": {
    "slideshow": {
     "slide_type": "slide"
    }
   },
   "source": [
    "# Real-valued Fast Fourier Transform (RFFT)"
   ]
  },
  {
   "cell_type": "markdown",
   "id": "199d804c-3d04-42b0-89e4-ca15303709dd",
   "metadata": {
    "slideshow": {
     "slide_type": "fragment"
    }
   },
   "source": [
    "* Effective FFT algorithm optimized for real-valued signals"
   ]
  },
  {
   "cell_type": "markdown",
   "id": "142957cd-8329-4e50-bb84-fc198d90d99c",
   "metadata": {
    "slideshow": {
     "slide_type": "fragment"
    }
   },
   "source": [
    "* \"Half-length\" output\n",
    "    * Representing symmetrical two-sided spectrum is redundant\n",
    "    * Calculates $X[m]$ for:\n",
    "\n",
    "$$m \\in [0, m_{\\text{max}} ], \\ \\ \\ m_{\\text{max}} = \\begin{cases} \\frac{N}{2}, & N \\text{ even} \\\\ \\\\ \\frac{N-1}{2}, & N \\text{ odd} \\end{cases}$$"
   ]
  },
  {
   "cell_type": "markdown",
   "id": "efe6c509-650f-4a27-9ac1-4c7ef6949124",
   "metadata": {
    "slideshow": {
     "slide_type": "fragment"
    }
   },
   "source": [
    "* Beware, one RFFT output may originate from two signals!\n",
    "    * Example:\n",
    "        * If $N = 8$, $m_{\\text{max}} = 4$\n",
    "        * If $N = 9$, $m_{\\text{max}} = 4$\n",
    "    * Important to keep track of original length $N$ when using `rfft`"
   ]
  },
  {
   "cell_type": "markdown",
   "id": "984fc554-722d-41f2-b588-d5d0497565e9",
   "metadata": {
    "slideshow": {
     "slide_type": "slide"
    }
   },
   "source": [
    "## Code example:\n",
    "\n",
    "* Given two signals:\n",
    "\\begin{align}\n",
    "x_1[n] &= \\{9, 9, 9, 9, 9, 9, 9, 9\\} \\\\ \\\\\n",
    "x_2[n] &= \\{8, 8, 8, 8, 8, 8, 8, 8, 8\\}\n",
    "\\end{align}\n",
    "use `rfft` to calculate the real-valued DFT of each signal. "
   ]
  },
  {
   "cell_type": "code",
   "execution_count": 2,
   "id": "256e23fc-f9c6-4369-83c6-58f3ee3677c0",
   "metadata": {},
   "outputs": [
    {
     "name": "stdout",
     "output_type": "stream",
     "text": [
      "rfft(x_1) = array([72.+0.j,  0.+0.j,  0.-0.j,  0.+0.j,  0.+0.j])\n",
      "rfft(x_2) = array([72.+0.j,  0.+0.j,  0.+0.j,  0.+0.j,  0.+0.j])\n"
     ]
    }
   ],
   "source": [
    "x_1 = np.ones(8)*9\n",
    "x_2 = np.ones(9)*8\n",
    "\n",
    "print(f\"{rfft(x_1) = }\")\n",
    "print(f\"{rfft(x_2) = }\")"
   ]
  },
  {
   "cell_type": "markdown",
   "id": "a1bfcc62",
   "metadata": {
    "slideshow": {
     "slide_type": "notes"
    }
   },
   "source": [
    "As we see, both signals while having different length and content, produce the exact same RFFT output."
   ]
  },
  {
   "cell_type": "markdown",
   "id": "e6386693-a27e-4b83-9b35-639cfc9f0554",
   "metadata": {
    "slideshow": {
     "slide_type": "slide"
    }
   },
   "source": [
    "# Any Questions?"
   ]
  }
 ],
 "metadata": {
  "celltoolbar": "Slideshow",
  "kernelspec": {
   "display_name": "Python 3 (ipykernel)",
   "language": "python",
   "name": "python3"
  },
  "language_info": {
   "codemirror_mode": {
    "name": "ipython",
    "version": 3
   },
   "file_extension": ".py",
   "mimetype": "text/x-python",
   "name": "python",
   "nbconvert_exporter": "python",
   "pygments_lexer": "ipython3",
   "version": "3.12.2"
  }
 },
 "nbformat": 4,
 "nbformat_minor": 5
}
