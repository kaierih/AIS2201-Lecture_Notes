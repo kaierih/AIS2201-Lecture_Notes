{
 "cells": [
  {
   "cell_type": "markdown",
   "id": "6c38129f-d7f6-4f64-8c7f-ee51728f12f9",
   "metadata": {},
   "source": [
    "# AIS2201 - Digital Signal Processing\n",
    "\n",
    "[text here>\n",
    "\n",
    "\n",
    "# 1. Introduction\n",
    "* [1.1 - About the Course](introduction/Course_Info.ipynb)\n",
    "* [1.2 - Introduction to Digital Signal Processing](introduction/Intro_to_DSP.ipynb)\n",
    "\n",
    "# 2. Signals in the time- and frequency domain\n",
    "* [2.1 - The Frequency Spectrum](continuous_signals/spectral_representations.ipynb)\n",
    "* [2.2 - Sinusoids](continuous_signals/sinusoids.ipynb)\n",
    "* [2.3 - Quadrature Signals](continuous_signals/quadrature_signals.ipynb)\n",
    "* [2.4 - Fourier Series](continuous_signals/fourier_series.ipynb)\n",
    "<!--* [2.5 - Practical Spectral Analysis]-->\n",
    "\n",
    "# 3. Analog to digital conversion\n",
    "* [2.1 - Ideal Analog-to-Digital (A/D) conversion]\n",
    "* [2.2 - Aliasing in the time domain]\n",
    "* [2.3 - Aliasing in the frequency domain]\n",
    "* [2.4 - Quantization]\n",
    "* [2.5 - ADC Theory]\n",
    "\n",
    "# 4. The Discrete Fourier Transform (DFT)\n",
    "* [4.1 - Introduction/Definition]\n",
    "* [4.2 - Interpreting the DFT]\n",
    "* [4.3 - The Inverse DFT]\n",
    "* [4.4 - Spectral Leakage and windowing]\n",
    "* [4.5 - Zero padding and the Discrete-Time Fourier Transform (DTFT)]\n",
    "* [4.6 - Power Spectral Density Estimation]\n",
    "* [4.7 - The Spectrogram]\n",
    "* [4.8 - Summary]\n",
    "\n",
    "# 5. Discrete-time Filtering\n",
    "* [5.1 - Introduction to discrete-time Linear & Time-Invariant (LTI) systems]\n",
    "* [5.2 - Convolution and Finite Impulse Response (FIR) filters]\n",
    "* [5.3 - Correlation]\n",
    "* [5.4 - Frequency response of FIR filters]\n",
    "* [5.5 - Frequency-domain manipulation of FIR filters]\n",
    "* [5.6 - FIR filter windowing design method]\n",
    "* [5.7 - Optimal FIR filter design]\n",
    "* [5.8 - Summary]\n",
    "\n",
    "# 6. Sample rate conversion\n",
    "* [7.1 - Decimation and Downsampling]\n",
    "* [7.2 - Interpolation and Upsampling]\n",
    "* [7.3 - Resampling and polyphase filter]\n",
    "* [7.4 - Cascaded Integrator-Comb Filters]\n",
    "\n",
    "# 7. Advanced filtering topics\n",
    "* [6.1 - Wiener Filtering]\n",
    "* [6.2 - The Least Mean Squares (LMS) algorithm]\n",
    "\n"
   ]
  }
 ],
 "metadata": {
  "kernelspec": {
   "display_name": "Python 3 (ipykernel)",
   "language": "python",
   "name": "python3"
  },
  "language_info": {
   "codemirror_mode": {
    "name": "ipython",
    "version": 3
   },
   "file_extension": ".py",
   "mimetype": "text/x-python",
   "name": "python",
   "nbconvert_exporter": "python",
   "pygments_lexer": "ipython3",
   "version": "3.12.2"
  }
 },
 "nbformat": 4,
 "nbformat_minor": 5
}
