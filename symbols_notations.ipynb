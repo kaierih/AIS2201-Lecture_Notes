{
 "cells": [
  {
   "cell_type": "markdown",
   "id": "651337ed-f64b-4902-887f-4c765f3e92ca",
   "metadata": {},
   "source": [
    "# Symbols\n",
    "\n",
    "Here is an overview of symbols which are used frequently in the course, and are reserved for a specific purpose:\n",
    "\n",
    "| symbol | Description | Relation |\n",
    "| --- | --- | --- |\n",
    "| $$ t $$ | Time variable, usually measured in seconds ($s$)||\n",
    "| $$ f $$ | Frequency measured in Hertz $\\text{Hz}$ (cycles per second).||\n",
    "| $$ T $$ | Signal period, measured in seconds per cycle | $ T = \\frac{1}{f}$|\n",
    "| $$ \\omega $$ | Angular frequency measured in radians per second $\\text{rad/s}$. | $\\omega = 2\\pi \\cdot f$ |\n",
    "| $$ f_s$$ | Sampling frequency, samples per second |\n",
    "| $$ T_s$$ | Sampling period, duration of time interval between each sample. | $T_s = \\frac{1}{f_s}$.|\n",
    "| $$ n $$ | Sample number,  | $$t \\cdot f_s$$ |\n",
    "| $$ N $$ | Sength of signal segment in samples | |\n",
    "| $$ \\hat{f} $$ | Normalized frequency, cycles per sample. | $\\hat{f} = \\frac{f}{f_s}$ |\n",
    "| $$ \\hat{\\omega} $$ | Normalized angular frequency, radians per sample. | $\\hat{\\omega} = \\frac{\\omega}{f_s}$ | \n",
    "| $$ m $$ | Frequency Index | $$f_m = \\frac{m}{N}\\cdot f_s$$"
   ]
  },
  {
   "cell_type": "markdown",
   "id": "cae4a73a-6cf5-4fc2-a68d-758013207f10",
   "metadata": {},
   "source": [
    "# Signals\n",
    "\n",
    "Signals can be represented either in the frequency domain or time domain, and as either continuous functions or discrete sequences. Given a signal variable $x$, here is an overview of the different notations we will use depending on domain:\n",
    "\n",
    "| Notation | Description | Relation |\n",
    "| --- | --- | --- |\n",
    "| $$x(t) $$ | Countinuous-time signal described as a function of time. ||\n",
    "| $$X(f) / X(\\omega) $$ | Frequency-domain representation of continuous-time signal $x(t)$ | $$ x(t) \\xrightarrow{FT} X(f)$$ \n",
    "| $$x[n]$$ | Discrete-time signal described as a sequence of values indexed by $n$. | $$x[n] = x(t) \\bigg|_{t =  n \\cdot T_s } $$|\n",
    "| $$ X(\\hat{f}) / X(\\hat{\\omega}) $$ | Frequency-domain representation of a discrete-time signal $x[n]$ | $$ x[n] \\xrightarrow{DTFT} X(\\hat{f})$$ \n",
    "| $$ X[m]$$ | Discrete frequency representation of discrete-time signal $x[n]$ | $$ x[n] \\xrightarrow{DFT} X[m]$$ \n",
    "\n",
    "To summarize:\n",
    "* Lowercase letters ($x$, $y$, $v$ etc.) denotes the time domain\n",
    "* Uppercase letters ($X$, $Y$, $V$ etc.) denotes the frequency domanin\n",
    "* Parentheses `()` means continuous function\n",
    "* Square brackets `[]` means discrete sequence "
   ]
  },
  {
   "cell_type": "markdown",
   "id": "ac3fc33a-12a8-49b7-abfb-e70dc63d4066",
   "metadata": {},
   "source": [
    "# Systems\n",
    "\n",
    "Convention for linear single-input single-output systems:\n",
    "\n",
    "| Notation | Explanation |\n",
    "| --- | --- | \n",
    "| $$ x(t) / x[n] $$ | Input signal (continuous / discrete) |\n",
    "| $$ y(t) / y[n] $$ | Output signal (continuous / discrete) |\n",
    "| $$\\delta(t) / \\delta [n]$$ | [Delta function](https://en.wikipedia.org/wiki/Dirac_delta_function) (aka. unit impulse)|\n",
    "| $$ h(t) / h[n] $$ | Impulse response (continuous / discrete) | \n",
    "| $$H(f) / H(\\omega) $$ | Frequency response of continuous-time system"
   ]
  },
  {
   "cell_type": "markdown",
   "id": "88400036-287e-41ca-87f7-9494f4576663",
   "metadata": {},
   "source": [
    "# Abbreviations\n",
    "\n",
    "| Abbreviation | Full name |\n",
    "|---|---|\n",
    "|ADC|Analog-to-Digital Converter|\n",
    "|FT| Fourier Transform |\n",
    "|IFT| Inverse Fourier Transform |\n",
    "|DTFT | Discrete-Time Fourier Transform |\n",
    "|IDTFT| Inverse Discrete-Time Fourier Transform |\n",
    "|DFT | Discrete Fourier Transform |\n",
    "|IDFT| Inverse Discrete Fourier Transform |\n",
    "|FFT| Fast Fourier Transform |\n",
    "|IFFT | Inverse Fast Fourier Transform |\n",
    "|RFFT| Real-valued Fast Fourier Transform |\n",
    "|IRFFT| Inverse Real-valued Fast Fourier Transform |\n",
    "|FIR | Finite Impulse Response|\n",
    "|IIR| Infinite Impulse Response|"
   ]
  },
  {
   "cell_type": "markdown",
   "id": "aa605cd4-0001-4f67-8a8a-03727a2137ea",
   "metadata": {},
   "source": [
    "# Map of different fourier transforms"
   ]
  }
 ],
 "metadata": {
  "kernelspec": {
   "display_name": "Python 3 (ipykernel)",
   "language": "python",
   "name": "python3"
  },
  "language_info": {
   "codemirror_mode": {
    "name": "ipython",
    "version": 3
   },
   "file_extension": ".py",
   "mimetype": "text/x-python",
   "name": "python",
   "nbconvert_exporter": "python",
   "pygments_lexer": "ipython3",
   "version": "3.11.5"
  }
 },
 "nbformat": 4,
 "nbformat_minor": 5
}
