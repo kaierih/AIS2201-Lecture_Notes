{
 "cells": [
  {
   "cell_type": "markdown",
   "id": "651337ed-f64b-4902-887f-4c765f3e92ca",
   "metadata": {},
   "source": [
    "# Symbols\n",
    "\n",
    "| symbol | Description | Relation |\n",
    "| --- | --- | --- |\n",
    "| $$ t $$ | Time variable, usually measured in seconds ($s$)||\n",
    "| $$ f $$ | Frequency measured in Hertz $\\text{Hz}$ (cycles per second).||\n",
    "| $$ T $$ | Signal period Measured in seconds | $ T = \\frac{1}{f}$|\n",
    "| $$ \\omega $$ | Angular frequency measured in radians per second $\\text{rad/s}$. | $\\omega = 2\\pi \\cdot f$ |\n",
    "| $$ f_s$$ | Sampling frequency, samples per second |\n",
    "| $$ T_s$$ | Sample period, duration of time interval between each sample. | $T_s = \\frac{1}{f_s}$.|\n",
    "| $$ n $$ | Sample number |  |\n",
    "| $$ \\hat{f} $$ | Normalized frequency, cycles per sample. | $\\hat{f} = \\frac{f}{f_s}$ |\n",
    "| $$ \\hat{\\omega} $$ | Normalized angular frequency, radians per sample. | $\\hat{\\omega} = \\frac{\\omega}{f_s}$ | \n",
    "| $$ m $$ | Frequency Index |"
   ]
  },
  {
   "cell_type": "markdown",
   "id": "cae4a73a-6cf5-4fc2-a68d-758013207f10",
   "metadata": {},
   "source": [
    "# Signals\n",
    "\n",
    "| Notation | Description | Relation |\n",
    "| --- | --- | --- |\n",
    "| $$x(t) $$ | Countinuous-time signal described as a function of time. ||\n",
    "| $$X(f) / X(\\omega) $$ | Frequency-domain representation of continuous-time signal $x(t)$ | $$ x(t) \\xrightarrow{FT} X(f)$$ \n",
    "| $$x[n]$$ | Discrete-time signal described as a sequence of values indexed by $n$. | $$x[n] = x\\left( n \\cdot T_s \\right) $$|\n",
    "| $$ X(\\hat{f}) / X(\\hat{\\omega}) $$ | Frequency-domain representation of a discrete-time signal $x[n]$ | $$ x[n] \\xrightarrow{DTFT} X(\\hat{f})$$ \n",
    "| $$ X[m]$$ | Discrete frequency representation of discrete-time signal $x[n]$ | $$ x[n] \\xrightarrow{DFT} X[m]$$ "
   ]
  },
  {
   "cell_type": "markdown",
   "id": "ac3fc33a-12a8-49b7-abfb-e70dc63d4066",
   "metadata": {},
   "source": [
    "# Systems\n",
    "\n",
    "| Notation | Explanation |\n",
    "| --- | --- | \n",
    "| $$ x(t) / x[n] $$ | Input signal (continuous / discrete) |\n",
    "| $$ y(t) / y[n] $$ | Output signal (continuous / discrete) |\n",
    "| $$\\delta(t) / \\delta [n]$$ | Dirac delta |\n",
    "| $$ h(t) / h[n] $$ | Impulse response (continuous / discrete) | \n",
    "| $$H(f) / H(\\omega) $$ | Frequency response of continuous-time system"
   ]
  },
  {
   "cell_type": "code",
   "execution_count": null,
   "id": "ca71bcf1-38c6-4f38-88d2-4def97f8519e",
   "metadata": {},
   "outputs": [],
   "source": []
  }
 ],
 "metadata": {
  "kernelspec": {
   "display_name": "Python 3 (ipykernel)",
   "language": "python",
   "name": "python3"
  },
  "language_info": {
   "codemirror_mode": {
    "name": "ipython",
    "version": 3
   },
   "file_extension": ".py",
   "mimetype": "text/x-python",
   "name": "python",
   "nbconvert_exporter": "python",
   "pygments_lexer": "ipython3",
   "version": "3.12.2"
  }
 },
 "nbformat": 4,
 "nbformat_minor": 5
}
