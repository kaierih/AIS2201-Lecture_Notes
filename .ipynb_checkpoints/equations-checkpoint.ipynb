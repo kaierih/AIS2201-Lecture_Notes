{
 "cells": [
  {
   "cell_type": "markdown",
   "id": "1d2a1a82-ee89-4579-bf05-52db9e456b57",
   "metadata": {},
   "source": [
    "# 1. Sinusoids\n",
    "\n",
    "- **General expression:**\n",
    "$$ \\Large A \\cdot \\cos(2\\pi \\cdot f \\cdot t + \\phi )$$\n",
    "    - **Parameters:**\n",
    "        - $A$: Amplitude\n",
    "        - $\\phi$: Phase angle\n",
    "        - $f$: Frequency\n",
    "        - $t$: time value\n",
    "    - **Metrics:**\n",
    "        - Magnitude: $\\text{Mag} = |A|$\n",
    "        - Power: $P = |A|^2$\n",
    "\n",
    "\n",
    "- **Frequency and Period**\n",
    "\n",
    "$$ f = \\frac{1}{T} $$\n",
    "\n",
    "- **Angular Frequency**\n",
    "\n",
    "$$ \\omega = 2\\pi \\cdot f $$\n",
    "\n",
    "- **Phase Angle and Time Shift relation**\n",
    "$$ \\cos\\left(\\omega \\cdot (t + \\tau_d)\\right) = \\cos\\left(\\omega \\cdot t + \\phi_d\\right) $$\n",
    "where  \n",
    "$$ \\phi_d = \\omega \\cdot \\tau_d $$\n",
    "\n",
    "- **Phasor addition principle**\n",
    "$$ \\sum_{k=0}^{N-1} A_k \\cdot \\cos(\\omega_0 \\cdot t + \\phi_k) = A \\cdot \\cos(\\omega_0 \\cdot t + \\phi) $$\n",
    "where  \n",
    "$$ A = \\left| \\sum_{k=0}^{N-1} A_k \\cdot e^{j\\phi_k} \\right| $$\n",
    "$$ \\phi = \\angle \\left( \\sum_{k=0}^{N-1} A_k \\cdot e^{j\\phi_k} \\right) $$\n"
   ]
  },
  {
   "cell_type": "markdown",
   "id": "2b3ee283-efbd-49a2-ab7d-2f35ee3fea73",
   "metadata": {},
   "source": [
    "# 2. Signal power and signal quality"
   ]
  },
  {
   "cell_type": "markdown",
   "id": "7fd0be10-b81c-42f0-86e7-acb1998030ae",
   "metadata": {},
   "source": [
    "# 3. Sampling and Aliasing"
   ]
  },
  {
   "cell_type": "markdown",
   "id": "523eca94-3293-4cb5-a2b4-0d56aa61c107",
   "metadata": {},
   "source": [
    "# 4. The Discrete Fourier Transform (DFT)"
   ]
  },
  {
   "cell_type": "markdown",
   "id": "b9033689-d535-419a-8b19-d96da355808e",
   "metadata": {},
   "source": [
    "# 5. The Discrete-Time Fourier Transform DTFT"
   ]
  },
  {
   "cell_type": "markdown",
   "id": "f6985131-7fa7-4255-87af-27f0e08d5c98",
   "metadata": {},
   "source": [
    "# 6. Important functions"
   ]
  },
  {
   "cell_type": "markdown",
   "id": "d47fdf4d-a519-49a1-903a-680e9eb273bc",
   "metadata": {},
   "source": [
    "# 7. Discrete LTI-systems"
   ]
  },
  {
   "cell_type": "markdown",
   "id": "431c081f-ebdf-42a5-9b1c-a32b0174d7c0",
   "metadata": {},
   "source": [
    "# 8. Trigonometric identities:"
   ]
  },
  {
   "cell_type": "markdown",
   "id": "2579d4ab-2716-485d-b929-c13ba44be3d7",
   "metadata": {},
   "source": [
    "# 9: Complex Identities:"
   ]
  }
 ],
 "metadata": {
  "kernelspec": {
   "display_name": "Python 3 (ipykernel)",
   "language": "python",
   "name": "python3"
  },
  "language_info": {
   "codemirror_mode": {
    "name": "ipython",
    "version": 3
   },
   "file_extension": ".py",
   "mimetype": "text/x-python",
   "name": "python",
   "nbconvert_exporter": "python",
   "pygments_lexer": "ipython3",
   "version": "3.11.5"
  }
 },
 "nbformat": 4,
 "nbformat_minor": 5
}
