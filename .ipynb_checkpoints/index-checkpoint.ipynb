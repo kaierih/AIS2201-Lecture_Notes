{
 "cells": [
  {
   "cell_type": "markdown",
   "id": "6c38129f-d7f6-4f64-8c7f-ee51728f12f9",
   "metadata": {
    "editable": true,
    "slideshow": {
     "slide_type": "slide"
    },
    "tags": []
   },
   "source": [
    "# AIS2201 - Digital Signal Processing\n",
    "\n",
    "This collection of jupyter notebooks introduces signal processing topics taught in the course AIS2201 - Digital Signal Processing (NTNU). The material makes extensive use of computational examples and illustrations written in Python to make the material both more approachable as well as provide examples of applied theory. Each subchapter is intended to *approximately* fit into one $45$ minute lecture, and lectures will follow the lecture plan as published on the couse schedule. The lecture notes also serve as RISE slideshows, and are written with this use in mind.\n",
    "\n",
    "Lecture notes will be continuously updated as the semester progresses, and any lecture notes belonging to future lectures will likely be somewhat incomplete or may be subject to change.\n",
    "\n",
    "# 1. Introduction\n",
    "* [1.1 - About the Course](introduction/Course_Info.ipynb)\n",
    "* [1.2 - Introduction to Digital Signal Processing](introduction/Intro_to_DSP.ipynb)\n",
    "\n",
    "# 2. Signals in the time- and frequency domain\n",
    "* [2.1 - Continuous signals and their representations](continuous_signals/signal_representations.ipynb)\n",
    "* [2.2 - Sinusoids](continuous_signals/sinusoids.ipynb)\n",
    "* [2.3 - Quadrature Signals](continuous_signals/quadrature_signals.ipynb)\n",
    "* [2.4 - Fourier Series](continuous_signals/fourier_series.ipynb)\n",
    "<!--* [2.5 - Practical Spectral Analysis]-->\n",
    "\n",
    "# 3. Analog to digital conversion\n",
    "* [3.1 - Ideal Sampling](sampling_and_aliasing/ideal_sampling.ipynb)\n",
    "* [3.2 - The Nyquist Sampling Theorem](sampling_and_aliasing/sampling_theorem.ipynb)\n",
    "* [3.3 - Aliasing in the Frequency Domain](sampling_and_aliasing/aliasing.ipynb)\n",
    "* [3.4 - Quantization](sampling_and_aliasing/sampling_quantization.ipynb)\n",
    "\n",
    "# 4. The Discrete Fourier Transform (DFT)\n",
    "* [4.1 - Introduction/Definition](discrete_fourier_transform/definition.ipynb)\n",
    "* [4.2 - Interpreting the DFT](discrete_fourier_transform/dft_interpretation.ipynb)\n",
    "* [4.3 - The Inverse DFT](discrete_fourier_transform/inverse_dft.ipynb)\n",
    "* [4.4 - Spectral Leakage and Windowing](discrete_fourier_transform/spectral_leakage.ipynb)\n",
    "* [4.5 - Zero Padding and the Discrete-Time Fourier Transform (DTFT)](discrete_fourier_transform/zero_padding.ipynb)\n",
    "* [4.6 - Window Functions in the Frequency Domain](discrete_fourier_transform/window_analysis.ipynb)\n",
    "* [4.7 - Comprehensive Guide to Spectral Representations](discrete_fourier_transform/spectral_representations.ipynb)\n",
    "* [4.8 - Analyzing Noisy & Non-Stationary Signals](discrete_fourier_transform/noisy_nonstationary_signals.ipynb)\n",
    "\n",
    "# 5. Discrete-time Filtering\n",
    "* [5.1 - Introduction to discrete-time Linear & Time-Invariant (LTI) systems](digital_filters/dlti_introduction.ipynb)\n",
    "* [5.2 - Convolution and Finite Impulse Response (FIR) filters](digital_filters/convolution.ipynb)\n",
    "* [5.3 - Cross-correlation and autocorrelation](digital_filters/correlation.ipynb)\n",
    "* [5.4 - Frequency response of FIR filters](digital_filters/frequency_response.ipynb)\n",
    "* [5.5 - Frequency-domain manipulation of FIR filters]\n",
    "* [5.6 - FIR filter windowing design method]\n",
    "* [5.7 - Optimal FIR filter design]\n",
    "* [5.8 - Summary]\n",
    "\n",
    "# 6. Sample rate conversion\n",
    "* [7.1 - Decimation and Downsampling]\n",
    "* [7.2 - Interpolation and Upsampling]\n",
    "* [7.3 - Resampling and polyphase filter]\n",
    "* [7.4 - Cascaded Integrator-Comb Filters]\n",
    "\n",
    "# 7. Advanced filtering topics\n",
    "* [6.1 - Wiener Filtering]\n",
    "* [6.2 - The Least Mean Squares (LMS) algorithm]\n",
    "\n",
    "# Appendix A. Embedded Programming\n",
    "* [A1 - Intro to Programming an STM32](appendix/stm32_embedded_intro.ipynb)"
   ]
  }
 ],
 "metadata": {
  "kernelspec": {
   "display_name": "Python 3 (ipykernel)",
   "language": "python",
   "name": "python3"
  },
  "language_info": {
   "codemirror_mode": {
    "name": "ipython",
    "version": 3
   },
   "file_extension": ".py",
   "mimetype": "text/x-python",
   "name": "python",
   "nbconvert_exporter": "python",
   "pygments_lexer": "ipython3",
   "version": "3.11.5"
  }
 },
 "nbformat": 4,
 "nbformat_minor": 5
}
