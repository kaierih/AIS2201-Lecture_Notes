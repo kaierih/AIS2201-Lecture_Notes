{
 "cells": [
  {
   "cell_type": "code",
   "execution_count": 1,
   "id": "d4c15d70-c4c9-4fd5-849c-ca4ae9d1ab96",
   "metadata": {
    "slideshow": {
     "slide_type": "skip"
    }
   },
   "outputs": [],
   "source": [
    "# Generelle moduler og funksjonsbeskrivelser brukt i forelesningen\n",
    "import numpy as np\n",
    "import matplotlib.pyplot as plt\n",
    "\n",
    "plt.rcParams[\"figure.figsize\"] = [8.00, 4.5]\n",
    "plt.rcParams[\"figure.autolayout\"] = True\n",
    "plt.rcParams[\"axes.grid\"] = True\n",
    "plt.rcParams[\"axes.xmargin\"] = 0.0\n",
    "\n",
    "%matplotlib ipympl"
   ]
  },
  {
   "cell_type": "markdown",
   "id": "3f951e67-0905-4bbc-9ac6-d05ec604f3c6",
   "metadata": {
    "slideshow": {
     "slide_type": "slide"
    }
   },
   "source": [
    "<img src=\"figures/NTNU_logo_vertical.svg\" align=\"left\" style=\"width: 30%\">\n",
    "\n",
    "<br clear=\"all\" />\n",
    "<br></br>\n",
    "\n",
    "# Real-time FFT\n",
    "\n",
    "* **Course AIS2201 - Signal Processing**\n",
    "* **Week 39, 2024**\n",
    "* **Lecturer: Kai Erik Hoff**"
   ]
  },
  {
   "cell_type": "markdown",
   "id": "6e8989a4-e0c5-4c4f-9bbe-9697635f43fd",
   "metadata": {
    "slideshow": {
     "slide_type": "slide"
    }
   },
   "source": [
    "# Topics\n",
    "\n",
    "* Hardware Timers\n",
    "* Direct Memory Access (DMA)\n",
    "* Pointers and Arrays in `C`\n",
    "* Using the DSP Library\n",
    "* The FFT function(s)"
   ]
  },
  {
   "cell_type": "markdown",
   "id": "ca765434-68fb-47fa-b048-b914493ed1f2",
   "metadata": {
    "slideshow": {
     "slide_type": "slide"
    }
   },
   "source": [
    "# Double Buffering\n",
    "\n",
    "* Technique to accommodate processing of samples stream in \"batches\"\n"
   ]
  },
  {
   "cell_type": "markdown",
   "id": "e77ba8bf-9164-46f5-bed6-adb8542de20a",
   "metadata": {},
   "source": [
    "* ADC writes to buffer B while the contents of buffer A are processed\n",
    "\n",
    "* May be implemented on an STM32 using one buffer $2\\times$ FFT window size and callback functions for \"conversion complete\" and \"conversion half complete\"\n",
    "<img src=\"figures/DualBufferAnim.gif\" width=\"80%\" style=\"margin-left:100px\" />"
   ]
  },
  {
   "cell_type": "markdown",
   "id": "3171a3da-47a7-417a-adc5-98d5cda7d302",
   "metadata": {
    "slideshow": {
     "slide_type": "fragment"
    }
   },
   "source": [
    "* Alternating halves of the `ADC_buffer` are copied to FFT input."
   ]
  },
  {
   "cell_type": "markdown",
   "id": "c37d226b-76eb-42d9-a252-1b8850a1f277",
   "metadata": {
    "slideshow": {
     "slide_type": "slide"
    }
   },
   "source": [
    "# Direct Memory Access"
   ]
  },
  {
   "cell_type": "markdown",
   "id": "4f42711a-7cc0-4c26-877c-29a2f01a02ef",
   "metadata": {
    "slideshow": {
     "slide_type": "fragment"
    }
   },
   "source": [
    "* What is DMA?\n",
    ">\"DMA is a bus master and system peripheral providing high-speed data transfers between peripherals and memory, as well as memory-to-memory.\n",
    "Data can be quickly moved by DMA without any CPU action, keeping CPU resources free for other operations.\"\n",
    ">\n",
    "*Source: [wiki.st.com](https://wiki.st.com/stm32mcu/wiki/Getting_started_with_DMA)* "
   ]
  },
  {
   "cell_type": "markdown",
   "id": "ce128814-bfc7-49ea-a0a4-0a1247cd6a13",
   "metadata": {
    "slideshow": {
     "slide_type": "fragment"
    }
   },
   "source": [
    "* Using DMA, the ADC can write a constant stream of input samples to memory without requiring any CPU action.\n",
    "    * DMA Bus width is `32` bit (4 bytes).\n",
    "    * Given information on buffer location and buffer size, the DMA strema can write directly to the memory set aside as buffer.\n",
    "    * DMA buffer can be configured as `circular` or `normal`.\n",
    "    * Buffer allocation is achieved using `arrays`."
   ]
  },
  {
   "cell_type": "markdown",
   "id": "e72ad6e6-858b-4428-96a6-bfc6c7db363c",
   "metadata": {
    "slideshow": {
     "slide_type": "fragment"
    }
   },
   "source": [
    "* DMA can trigger interrupts once the buffer is overwritten."
   ]
  }
 ],
 "metadata": {
  "celltoolbar": "Slideshow",
  "kernelspec": {
   "display_name": "Python 3 (ipykernel)",
   "language": "python",
   "name": "python3"
  },
  "language_info": {
   "codemirror_mode": {
    "name": "ipython",
    "version": 3
   },
   "file_extension": ".py",
   "mimetype": "text/x-python",
   "name": "python",
   "nbconvert_exporter": "python",
   "pygments_lexer": "ipython3",
   "version": "3.11.5"
  }
 },
 "nbformat": 4,
 "nbformat_minor": 5
}
