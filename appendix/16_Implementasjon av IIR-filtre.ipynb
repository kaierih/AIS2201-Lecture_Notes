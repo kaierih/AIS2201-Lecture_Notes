{
 "cells": [
  {
   "cell_type": "code",
   "execution_count": 1,
   "metadata": {
    "slideshow": {
     "slide_type": "skip"
    }
   },
   "outputs": [],
   "source": [
    "# Generelle moduler og funksjonsbeskrivelser brukt i forelesningen\n",
    "from numpy import sin, cos, pi, exp\n",
    "import numpy as np\n",
    "import scipy.signal as sig\n",
    "import matplotlib.pyplot as plt\n",
    "\n",
    "%matplotlib ipympl"
   ]
  },
  {
   "cell_type": "markdown",
   "metadata": {
    "slideshow": {
     "slide_type": "slide"
    }
   },
   "source": [
    "<img src=\"NTNU_Logo.png\" align=\"left\" style=\"width: 30%\">\n",
    "<br clear=\"all\" />\n",
    "<br></br>\n",
    "\n",
    "# Implementasjon av IIR-filtre\n",
    "\n",
    "* **Emne AIS2201 - Signalbehandling**\n",
    "* **Uke 16, 2022**\n",
    "* **Relevant Pensummateriell:**\n",
    "* **Underviser: Kai Erik Hoff**"
   ]
  },
  {
   "cell_type": "markdown",
   "metadata": {
    "slideshow": {
     "slide_type": "slide"
    }
   },
   "source": [
    "# Tema:\n",
    "\n",
    "* Repetisjon Diskretisering\n",
    "* Om Sanntidsimplementasjon på MCU (Arduino)\n",
    "* Direkte form I\n",
    "* Direkte form II \n",
    "* Transponert direkte form"
   ]
  },
  {
   "cell_type": "markdown",
   "metadata": {
    "slideshow": {
     "slide_type": "slide"
    }
   },
   "source": [
    "# Filterimplementasjon\n",
    "#### Premiss:\n",
    "* Vi tar utgangspunkt i at vi har identifisert alle de ønskede filterkoeffisientene $b_k$ og $a_k$.\n",
    "\n",
    "#### Utfordring:\n",
    "* For å implementere filteret må vi kunne skrive et program som utfører beregningene i filteralgoritmen.\n"
   ]
  },
  {
   "cell_type": "markdown",
   "metadata": {
    "slideshow": {
     "slide_type": "slide"
    }
   },
   "source": [
    "## Løsningen så langt:\n",
    "\n",
    "* Vi kan lage en funksjon i `Python` for å utføre filtrering av et signal gitt parametrene `b`, `a` og `x`.\n",
    "* Filteralgoritme:\n",
    "$$y[n] =\\frac{1}{a_0}\\cdot \\left(\\sum_{k=0}^{M} b_k \\cdot x[n-k] - \\sum_{k=1}^{N}a_k\\cdot  y[n-k] \\right)$$\n",
    "\n",
    "* Funksjonsbeskrivelse:\n",
    "```python\n",
    "def IIRfilt(b, a, x):\n",
    "    M = len(b)-1 # Filterorden FIR \"del\"\n",
    "    N = len(a)-1 # Filterorden IIR \"del\"\n",
    "    L = len(x)   # Lengde på inngangssignal\n",
    "    \n",
    "    y = np.zeros(L) # Iniatilisering av utgangssignal\n",
    "    \n",
    "    for n in range(L):\n",
    "        # For-løkke med første summasjonstegn\n",
    "        for k in range(min(M+1, n+1)):\n",
    "            y[n] += b[k]*x[n-k]\n",
    "            \n",
    "        # For-løkke med andre summasjonstegn\n",
    "        for k in range(1, min(N+1, n+1)):\n",
    "            y[n] -= a[k]*y[n-k]\n",
    "            \n",
    "        y[n] /= a[0]\n",
    "        \n",
    "    return y\n",
    "```"
   ]
  },
  {
   "cell_type": "markdown",
   "metadata": {
    "slideshow": {
     "slide_type": "slide"
    }
   },
   "source": [
    "# Implementasjon i \"sanntid\"\n",
    "\n",
    "* Hele signalet er ikke lagret i en array som er lett tilgjengelig.\n",
    "* Vi må lage en funksjon som kan returnere en filtrert sample-verdi `y` når den mottar nyeste målte inngangsverdi `x` som funksjonsargument.\n",
    "    * En funksjon (f.eks. `filter()`) må da ha tilgang til informasjon om filterkoeffisienter og tidligere sampleverdier.\n",
    "    * Denne informasjonen må ivaretas fra ett funksjonskall til neste (*typisk scenario der globale variabler er aktuelle*).\n",
    "    * Det er ønskelig å unngå unødvendig bruk av systemressurser. I den sammenheng er det enkelte fremgangsmåter som kan vise seg å være mindre ressurskrevende enn andre.\n",
    "    \n",
    "    <pre>\n",
    "<font color=\"#00979c\">void</font> <font color=\"#5e6d03\">loop</font><font color=\"#000000\">(</font><font color=\"#000000\">)</font>\n",
    "<font color=\"#000000\">{</font>\n",
    " &nbsp;<font color=\"#5e6d03\">if</font><font color=\"#000000\">(</font><font color=\"#000000\">sigTimer</font><font color=\"#434f54\">.</font><font color=\"#000000\">timeTick</font><font color=\"#000000\">(</font><font color=\"#000000\">)</font><font color=\"#000000\">)</font>\n",
    " &nbsp;<font color=\"#000000\">{</font>\n",
    " &nbsp;&nbsp;&nbsp;<font color=\"#00979c\">float</font> <font color=\"#000000\">x</font> <font color=\"#434f54\">=</font> <font color=\"#000000\">(</font><font color=\"#00979c\">float</font><font color=\"#000000\">)</font><font color=\"#d35400\">analogRead</font><font color=\"#000000\">(</font><font color=\"#000000\">A0</font><font color=\"#000000\">)</font><font color=\"#000000\">;</font>\n",
    " &nbsp;&nbsp;&nbsp;<font color=\"#00979c\">float</font> <font color=\"#000000\">y</font> <font color=\"#434f54\">=</font> <font color=\"#000000\">filter</font><font color=\"#000000\">(</font><font color=\"#000000\">x</font><font color=\"#000000\">)</font><font color=\"#000000\">;</font>\n",
    " &nbsp;&nbsp;&nbsp;<font color=\"#000000\">MCP</font><font color=\"#434f54\">.</font><font color=\"#d35400\">analogWrite</font><font color=\"#000000\">(</font><font color=\"#000000\">(</font><font color=\"#00979c\">int</font><font color=\"#000000\">)</font><font color=\"#000000\">y</font><font color=\"#434f54\">,</font> <font color=\"#000000\">0</font><font color=\"#000000\">)</font><font color=\"#000000\">;</font>\n",
    " &nbsp;<font color=\"#000000\">}</font>\n",
    "<font color=\"#000000\">}</font>\n",
    "\n",
    "</pre>"
   ]
  },
  {
   "cell_type": "markdown",
   "metadata": {
    "slideshow": {
     "slide_type": "slide"
    }
   },
   "source": [
    "## Blokkskjema\n",
    "\n",
    "* Grafisk representasjon av ulike typer filteralgoritmer.\n",
    "    * Vi antar i alle eksempler at filteret er normalisert slik at $a_0 = 1$ og at det er likt antall filterkoeffisienter $a_k$ og $b_k$.\n",
    "* Noen forskjellige filteralgoritmer / filterstrukturer:\n",
    "    * Direkte Form 1 (DF1)\n",
    "    * Direkte Form 2 (DF2)\n",
    "    * Transponert Direkte Form (TDF)\n",
    "    "
   ]
  },
  {
   "cell_type": "markdown",
   "metadata": {
    "slideshow": {
     "slide_type": "slide"
    }
   },
   "source": [
    "# Direkte Form 1\n",
    "<img src=\"Figurer/16_DigitalKontroller/Fig5_DF1.png\" style=\"width: 60%; margin-left: 200px\" />\n",
    "\n",
    "* Alt utregnes i ett steg:\n",
    "$$y[n] = \\sum_{k=0}^{M} b_k \\cdot x[n-k] - \\sum_{k=1}^{N} a_k \\cdot y[n-k]$$\n",
    "* Krever $M + N$ antall sampler lagret i \"buffer\"."
   ]
  },
  {
   "cell_type": "markdown",
   "metadata": {
    "slideshow": {
     "slide_type": "slide"
    }
   },
   "source": [
    "# Filterprosessen forklart\n",
    "\n",
    "#### Nødvendige forhåndsdefinerte verdier og datastrukturer\n",
    "* Filterorden M (kan f.eks. være en global variabel)\n",
    "* Filterkonstantene $b_k$ (kan f.eks. være en global array med lengde $M+1$)\n",
    "* Foregående sampleverdier av inngangssignalet, dvs. $x[n-1], x[n-2], \\ldots, x[n-M]$\n",
    "    * Må ikke \"nullstilles\" mellom prosessering av sampler. Global array med lengde $M$ vil fungere godt.\n",
    "    * Kan antås å ha verdien $0$ før oppstart.\n",
    "* Filterkonstantene $a_k$ (kan f.eks. være en global array)\n",
    "* Foregående sampleverdier av utgangssignalet, dvs. $y[n-1], y[n-2], \\ldots, x[n-M]$\n",
    "    * Må ikke \"nullstilles\" mellom prosessering av sampler. Global array med lengde $M$ vil fungere godt.\n",
    "    * Kan antås å ha verdien $0$ før oppstart.\n",
    "\n",
    "#### Prosessflyt i filteralgoritmen\n",
    "1. Bruk verdiene til inngangssignalet, foregående signalverdier lagred i globale arrays og filterkoeffisienter til å regne ut nyeste sampleverdi til utgangssignalet.\n",
    "    * En løkke kan med fordel benyttes her\n",
    "2. Oppdater arrayene med foregående signalverdier slik at neste gang en sample prosesseres, ligger sampleverdien som nettopp ble håndtert i \"bufferen\".\n",
    "    * Her må det utføres en \"right shift\" av alle verdiene i arrayene for gamle verdier $x[n-k]$ og $y[n-k]$, der den aller eldste sampleverdien forkastes.\n",
    "    * I posisjonen til den \"nyeste\" sampleverdien i loggen vil vi plassere sampleverdiene til $x[n]$ og $y[n]$ som nettopp ble håndtert."
   ]
  },
  {
   "cell_type": "markdown",
   "metadata": {},
   "source": [
    "## Arduino C implementasjon\n",
    "\n",
    "<pre>\n",
    "<font color=\"#434f54\">&#47;&#47; Legg til globale variabler etter behov her:</font>\n",
    "<font color=\"#00979c\">const</font> <font color=\"#00979c\">int</font> <font color=\"#000000\">M</font> <font color=\"#434f54\">=</font> <font color=\"#000000\">3</font><font color=\"#000000\">;</font>\n",
    "<font color=\"#00979c\">const</font> <font color=\"#00979c\">float</font> <font color=\"#000000\">b</font><font color=\"#000000\">[</font><font color=\"#000000\">]</font> <font color=\"#434f54\">=</font> <font color=\"#000000\">{</font><font color=\"#000000\">0.0</font><font color=\"#434f54\">,</font>\n",
    " &nbsp;&nbsp;&nbsp;&nbsp;&nbsp;&nbsp;&nbsp;&nbsp;&nbsp;&nbsp;&nbsp;&nbsp;&nbsp;&nbsp;&nbsp;&nbsp;&nbsp;&nbsp;<font color=\"#000000\">0.004405638449924254018696956336498260498046875</font><font color=\"#434f54\">,</font>\n",
    " &nbsp;&nbsp;&nbsp;&nbsp;&nbsp;&nbsp;&nbsp;&nbsp;&nbsp;&nbsp;&nbsp;&nbsp;&nbsp;&nbsp;&nbsp;&nbsp;&nbsp;&nbsp;<font color=\"#000000\">0.01502353965715119699098067940212786197662353515625</font><font color=\"#434f54\">,</font>\n",
    " &nbsp;&nbsp;&nbsp;&nbsp;&nbsp;&nbsp;&nbsp;&nbsp;&nbsp;&nbsp;&nbsp;&nbsp;&nbsp;&nbsp;&nbsp;&nbsp;&nbsp;&nbsp;<font color=\"#000000\">0.0032178901796118264400092812138609588146209716796875</font>\n",
    " &nbsp;&nbsp;&nbsp;&nbsp;&nbsp;&nbsp;&nbsp;&nbsp;&nbsp;&nbsp;&nbsp;&nbsp;&nbsp;&nbsp;&nbsp;&nbsp;&nbsp;<font color=\"#000000\">}</font><font color=\"#000000\">;</font>\n",
    "<font color=\"#00979c\">const</font> <font color=\"#00979c\">float</font> <font color=\"#000000\">a</font><font color=\"#000000\">[</font><font color=\"#000000\">]</font> <font color=\"#434f54\">=</font> <font color=\"#000000\">{</font><font color=\"#000000\">1.0</font><font color=\"#434f54\">,</font>\n",
    " &nbsp;&nbsp;&nbsp;&nbsp;&nbsp;&nbsp;&nbsp;&nbsp;&nbsp;&nbsp;&nbsp;&nbsp;&nbsp;&nbsp;&nbsp;&nbsp;&nbsp;&nbsp;<font color=\"#434f54\">-</font> <font color=\"#000000\">2.37680206479869848834596268716268241405487060546875</font><font color=\"#434f54\">,</font>\n",
    " &nbsp;&nbsp;&nbsp;&nbsp;&nbsp;&nbsp;&nbsp;&nbsp;&nbsp;&nbsp;&nbsp;&nbsp;&nbsp;&nbsp;&nbsp;&nbsp;&nbsp;&nbsp;<font color=\"#000000\">1.932937224176488388849293187377043068408966064453125</font><font color=\"#434f54\">,</font>\n",
    " &nbsp;&nbsp;&nbsp;&nbsp;&nbsp;&nbsp;&nbsp;&nbsp;&nbsp;&nbsp;&nbsp;&nbsp;&nbsp;&nbsp;&nbsp;&nbsp;&nbsp;&nbsp;<font color=\"#434f54\">-</font> <font color=\"#000000\">0.5334880910911028450982485082931816577911376953125</font>\n",
    " &nbsp;&nbsp;&nbsp;&nbsp;&nbsp;&nbsp;&nbsp;&nbsp;&nbsp;&nbsp;&nbsp;&nbsp;&nbsp;&nbsp;&nbsp;&nbsp;&nbsp;<font color=\"#000000\">}</font><font color=\"#000000\">;</font>\n",
    "<font color=\"#00979c\">float</font> <font color=\"#000000\">x_log</font><font color=\"#000000\">[</font><font color=\"#000000\">M</font><font color=\"#000000\">]</font> <font color=\"#434f54\">=</font> <font color=\"#000000\">{</font><font color=\"#000000\">}</font><font color=\"#000000\">;</font>\n",
    "<font color=\"#00979c\">float</font> <font color=\"#000000\">y_log</font><font color=\"#000000\">[</font><font color=\"#000000\">M</font><font color=\"#000000\">]</font> <font color=\"#434f54\">=</font> <font color=\"#000000\">{</font><font color=\"#000000\">}</font><font color=\"#000000\">;</font>\n",
    "\n",
    "<font color=\"#00979c\">float</font> <font color=\"#000000\">filter</font><font color=\"#000000\">(</font><font color=\"#00979c\">float</font> <font color=\"#000000\">x</font><font color=\"#000000\">)</font> <font color=\"#000000\">{</font>\n",
    " &nbsp;<font color=\"#434f54\">&#47;&#47; Erstatt innholdet med kode som vil utfører filtrering av sample &#34;x&#34;</font>\n",
    " &nbsp;<font color=\"#00979c\">float</font> <font color=\"#000000\">y</font> <font color=\"#434f54\">=</font> <font color=\"#000000\">x</font> <font color=\"#434f54\">*</font> <font color=\"#000000\">b</font><font color=\"#000000\">[</font><font color=\"#000000\">0</font><font color=\"#000000\">]</font><font color=\"#000000\">;</font>\n",
    " &nbsp;<font color=\"#5e6d03\">for</font> <font color=\"#000000\">(</font><font color=\"#00979c\">int</font> <font color=\"#000000\">i</font> <font color=\"#434f54\">=</font> <font color=\"#000000\">0</font><font color=\"#000000\">;</font> <font color=\"#000000\">i</font> <font color=\"#434f54\">&lt;</font> <font color=\"#000000\">M</font><font color=\"#000000\">;</font> <font color=\"#000000\">i</font><font color=\"#434f54\">++</font><font color=\"#000000\">)</font>\n",
    " &nbsp;<font color=\"#000000\">{</font>\n",
    " &nbsp;&nbsp;&nbsp;<font color=\"#000000\">y</font> <font color=\"#434f54\">+=</font> <font color=\"#000000\">x_log</font><font color=\"#000000\">[</font><font color=\"#000000\">i</font><font color=\"#000000\">]</font> <font color=\"#434f54\">*</font> <font color=\"#000000\">b</font><font color=\"#000000\">[</font><font color=\"#000000\">i</font> <font color=\"#434f54\">+</font> <font color=\"#000000\">1</font><font color=\"#000000\">]</font><font color=\"#000000\">;</font>\n",
    " &nbsp;&nbsp;&nbsp;<font color=\"#000000\">y</font> <font color=\"#434f54\">-=</font> <font color=\"#000000\">y_log</font><font color=\"#000000\">[</font><font color=\"#000000\">i</font><font color=\"#000000\">]</font> <font color=\"#434f54\">*</font> <font color=\"#000000\">a</font><font color=\"#000000\">[</font><font color=\"#000000\">i</font> <font color=\"#434f54\">+</font> <font color=\"#000000\">1</font><font color=\"#000000\">]</font><font color=\"#000000\">;</font>\n",
    " &nbsp;<font color=\"#000000\">}</font>\n",
    " &nbsp;<font color=\"#000000\">y</font> <font color=\"#434f54\">&#47;=</font> <font color=\"#000000\">a</font><font color=\"#000000\">[</font><font color=\"#000000\">0</font><font color=\"#000000\">]</font><font color=\"#000000\">;</font>\n",
    "\n",
    " &nbsp;<font color=\"#5e6d03\">for</font> <font color=\"#000000\">(</font><font color=\"#00979c\">int</font> <font color=\"#000000\">i</font> <font color=\"#434f54\">=</font> <font color=\"#000000\">M</font> <font color=\"#434f54\">-</font> <font color=\"#000000\">1</font><font color=\"#000000\">;</font> <font color=\"#000000\">i</font> <font color=\"#434f54\">&gt;</font> <font color=\"#000000\">0</font><font color=\"#000000\">;</font> <font color=\"#000000\">i</font><font color=\"#434f54\">--</font><font color=\"#000000\">)</font>\n",
    " &nbsp;<font color=\"#000000\">{</font>\n",
    " &nbsp;&nbsp;&nbsp;<font color=\"#000000\">y_log</font><font color=\"#000000\">[</font><font color=\"#000000\">i</font><font color=\"#000000\">]</font> <font color=\"#434f54\">=</font> <font color=\"#000000\">y_log</font><font color=\"#000000\">[</font><font color=\"#000000\">i</font> <font color=\"#434f54\">-</font> <font color=\"#000000\">1</font><font color=\"#000000\">]</font><font color=\"#000000\">;</font>\n",
    " &nbsp;&nbsp;&nbsp;<font color=\"#000000\">x_log</font><font color=\"#000000\">[</font><font color=\"#000000\">i</font><font color=\"#000000\">]</font> <font color=\"#434f54\">=</font> <font color=\"#000000\">x_log</font><font color=\"#000000\">[</font><font color=\"#000000\">i</font> <font color=\"#434f54\">-</font> <font color=\"#000000\">1</font><font color=\"#000000\">]</font><font color=\"#000000\">;</font>\n",
    " &nbsp;<font color=\"#000000\">}</font>\n",
    " &nbsp;<font color=\"#000000\">y_log</font><font color=\"#000000\">[</font><font color=\"#000000\">0</font><font color=\"#000000\">]</font> <font color=\"#434f54\">=</font> <font color=\"#000000\">y</font><font color=\"#000000\">;</font>\n",
    " &nbsp;<font color=\"#000000\">x_log</font><font color=\"#000000\">[</font><font color=\"#000000\">0</font><font color=\"#000000\">]</font> <font color=\"#434f54\">=</font> <font color=\"#000000\">x</font><font color=\"#000000\">;</font>\n",
    " &nbsp;<font color=\"#434f54\">&#47;&#47; --------------------------------</font>\n",
    " &nbsp;<font color=\"#5e6d03\">return</font> <font color=\"#000000\">y</font><font color=\"#000000\">;</font>\n",
    "<font color=\"#000000\">}</font>\n",
    "\n",
    "</pre>"
   ]
  },
  {
   "cell_type": "markdown",
   "metadata": {
    "slideshow": {
     "slide_type": "slide"
    }
   },
   "source": [
    "# Direkte Form 2\n",
    "<img src=\"Figurer/16_DigitalKontroller/Fig6_DF2_int.png\" style=\"width: 60%; margin-left: 200px\" />\n",
    "\n",
    "* Deler opp filteret fra DF1 i én rekursiv, og én ikke-rekursiv del.\n",
    "* Ettersom dette er LTI-system, kan man enkelt bytte om på rekkefølgen.\n",
    "* $y_1[n]$ og $x_2[n]$ er samme signal.\n"
   ]
  },
  {
   "cell_type": "markdown",
   "metadata": {
    "slideshow": {
     "slide_type": "slide"
    }
   },
   "source": [
    "# Direkte Form 2\n",
    "<img src=\"Figurer/16_DigitalKontroller/Fig7_DF2.png\" style=\"width: 50%; margin-left: 200px\" />\n",
    "\n",
    "* Utregnes i to steg:\n",
    "\\begin{align}\n",
    "w[n] &= x[n] - \\sum_{k=1}^{N} a_k \\cdot y[n-k]\\\\\n",
    "y[n] &= \\sum_{k=0}^{M} b_k \\cdot w[n-k]\n",
    "\\end{align}\n",
    "* Krever kun $\\text{max}(M, N)$ antall sampler lagret i \"buffer\"."
   ]
  },
  {
   "cell_type": "markdown",
   "metadata": {},
   "source": [
    "# Arduino-implementasjon\n",
    "\n",
    "<pre>\n",
    "<font color=\"#434f54\">&#47;&#47; Legg til globale variabler etter behov her:</font>\n",
    "<font color=\"#00979c\">const</font> <font color=\"#00979c\">int</font> <font color=\"#000000\">M</font> <font color=\"#434f54\">=</font> <font color=\"#000000\">3</font><font color=\"#000000\">;</font>\n",
    "<font color=\"#00979c\">const</font> <font color=\"#00979c\">float</font> <font color=\"#000000\">b</font><font color=\"#000000\">[</font><font color=\"#000000\">]</font> <font color=\"#434f54\">=</font> <font color=\"#000000\">{</font><font color=\"#000000\">0.0</font><font color=\"#434f54\">,</font>\n",
    " &nbsp;&nbsp;&nbsp;&nbsp;&nbsp;&nbsp;&nbsp;&nbsp;&nbsp;&nbsp;&nbsp;&nbsp;&nbsp;&nbsp;&nbsp;&nbsp;&nbsp;&nbsp;<font color=\"#000000\">0.004405638449924254018696956336498260498046875</font><font color=\"#434f54\">,</font>\n",
    " &nbsp;&nbsp;&nbsp;&nbsp;&nbsp;&nbsp;&nbsp;&nbsp;&nbsp;&nbsp;&nbsp;&nbsp;&nbsp;&nbsp;&nbsp;&nbsp;&nbsp;&nbsp;<font color=\"#000000\">0.01502353965715119699098067940212786197662353515625</font><font color=\"#434f54\">,</font>\n",
    " &nbsp;&nbsp;&nbsp;&nbsp;&nbsp;&nbsp;&nbsp;&nbsp;&nbsp;&nbsp;&nbsp;&nbsp;&nbsp;&nbsp;&nbsp;&nbsp;&nbsp;&nbsp;<font color=\"#000000\">0.0032178901796118264400092812138609588146209716796875</font>\n",
    " &nbsp;&nbsp;&nbsp;&nbsp;&nbsp;&nbsp;&nbsp;&nbsp;&nbsp;&nbsp;&nbsp;&nbsp;&nbsp;&nbsp;&nbsp;&nbsp;&nbsp;<font color=\"#000000\">}</font><font color=\"#000000\">;</font>\n",
    "<font color=\"#00979c\">const</font> <font color=\"#00979c\">float</font> <font color=\"#000000\">a</font><font color=\"#000000\">[</font><font color=\"#000000\">]</font> <font color=\"#434f54\">=</font> <font color=\"#000000\">{</font><font color=\"#000000\">1.0</font><font color=\"#434f54\">,</font>\n",
    " &nbsp;&nbsp;&nbsp;&nbsp;&nbsp;&nbsp;&nbsp;&nbsp;&nbsp;&nbsp;&nbsp;&nbsp;&nbsp;&nbsp;&nbsp;&nbsp;&nbsp;&nbsp;<font color=\"#434f54\">-</font> <font color=\"#000000\">2.37680206479869848834596268716268241405487060546875</font><font color=\"#434f54\">,</font>\n",
    " &nbsp;&nbsp;&nbsp;&nbsp;&nbsp;&nbsp;&nbsp;&nbsp;&nbsp;&nbsp;&nbsp;&nbsp;&nbsp;&nbsp;&nbsp;&nbsp;&nbsp;&nbsp;<font color=\"#000000\">1.932937224176488388849293187377043068408966064453125</font><font color=\"#434f54\">,</font>\n",
    " &nbsp;&nbsp;&nbsp;&nbsp;&nbsp;&nbsp;&nbsp;&nbsp;&nbsp;&nbsp;&nbsp;&nbsp;&nbsp;&nbsp;&nbsp;&nbsp;&nbsp;&nbsp;<font color=\"#434f54\">-</font> <font color=\"#000000\">0.5334880910911028450982485082931816577911376953125</font>\n",
    " &nbsp;&nbsp;&nbsp;&nbsp;&nbsp;&nbsp;&nbsp;&nbsp;&nbsp;&nbsp;&nbsp;&nbsp;&nbsp;&nbsp;&nbsp;&nbsp;&nbsp;<font color=\"#000000\">}</font><font color=\"#000000\">;</font>\n",
    "<font color=\"#00979c\">float</font> <font color=\"#000000\">w_buffer</font><font color=\"#000000\">[</font><font color=\"#000000\">M</font><font color=\"#000000\">]</font> <font color=\"#434f54\">=</font> <font color=\"#000000\">{</font><font color=\"#000000\">}</font><font color=\"#000000\">;</font>\n",
    "\n",
    "<font color=\"#00979c\">float</font> <font color=\"#000000\">filter</font><font color=\"#000000\">(</font><font color=\"#00979c\">float</font> <font color=\"#000000\">x</font><font color=\"#000000\">)</font> <font color=\"#000000\">{</font>\n",
    " &nbsp;<font color=\"#434f54\">&#47;&#47; Erstatt innholdet med kode som vil utfører filtrering av sample &#34;x&#34;</font>\n",
    " &nbsp;<font color=\"#95a5a6\">&#47;* Claculate intermediary output in first section</font>\n",
    "<font color=\"#95a5a6\"> &nbsp;&nbsp;* &nbsp;w[n] = x[n] - a1*w[n-1] -a2*w[n-2] -...</font>\n",
    "<font color=\"#95a5a6\"> &nbsp;&nbsp;*&#47;</font>\n",
    " &nbsp;<font color=\"#00979c\">float</font> <font color=\"#000000\">w</font> <font color=\"#434f54\">=</font> <font color=\"#000000\">x</font><font color=\"#434f54\">&#47;</font><font color=\"#000000\">a</font><font color=\"#000000\">[</font><font color=\"#000000\">0</font><font color=\"#000000\">]</font><font color=\"#000000\">;</font>\n",
    " &nbsp;<font color=\"#5e6d03\">for</font> <font color=\"#000000\">(</font><font color=\"#00979c\">int</font> <font color=\"#000000\">i</font> <font color=\"#434f54\">=</font> <font color=\"#000000\">0</font><font color=\"#000000\">;</font> <font color=\"#000000\">i</font> <font color=\"#434f54\">&lt;</font> <font color=\"#000000\">M</font><font color=\"#000000\">;</font> <font color=\"#000000\">i</font><font color=\"#434f54\">++</font><font color=\"#000000\">)</font>\n",
    " &nbsp;<font color=\"#000000\">{</font>\n",
    " &nbsp;&nbsp;&nbsp;<font color=\"#000000\">w</font> <font color=\"#434f54\">-=</font> <font color=\"#000000\">w_buffer</font><font color=\"#000000\">[</font><font color=\"#000000\">i</font><font color=\"#000000\">]</font> <font color=\"#434f54\">*</font> <font color=\"#000000\">a</font><font color=\"#000000\">[</font><font color=\"#000000\">i</font> <font color=\"#434f54\">+</font> <font color=\"#000000\">1</font><font color=\"#000000\">]</font><font color=\"#000000\">;</font>\n",
    " &nbsp;<font color=\"#000000\">}</font>\n",
    " &nbsp;<font color=\"#95a5a6\">&#47;* Claculate final output in second section</font>\n",
    "<font color=\"#95a5a6\"> &nbsp;&nbsp;* &nbsp;y[n] = b0*w[n] + b1*w[n-1] + b2*w[n-2] -...</font>\n",
    "<font color=\"#95a5a6\"> &nbsp;&nbsp;*&#47;</font>\n",
    " &nbsp;<font color=\"#00979c\">float</font> <font color=\"#000000\">y</font> <font color=\"#434f54\">=</font> <font color=\"#000000\">w</font><font color=\"#434f54\">*</font><font color=\"#000000\">b</font><font color=\"#000000\">[</font><font color=\"#000000\">0</font><font color=\"#000000\">]</font><font color=\"#000000\">;</font>\n",
    " &nbsp;<font color=\"#5e6d03\">for</font> <font color=\"#000000\">(</font><font color=\"#00979c\">int</font> <font color=\"#000000\">i</font> <font color=\"#434f54\">=</font> <font color=\"#000000\">0</font><font color=\"#000000\">;</font> <font color=\"#000000\">i</font> <font color=\"#434f54\">&lt;</font> <font color=\"#000000\">M</font><font color=\"#000000\">;</font> <font color=\"#000000\">i</font><font color=\"#434f54\">++</font><font color=\"#000000\">)</font>\n",
    " &nbsp;<font color=\"#000000\">{</font>\n",
    " &nbsp;&nbsp;&nbsp;<font color=\"#000000\">y</font> <font color=\"#434f54\">+=</font> <font color=\"#000000\">w_buffer</font><font color=\"#000000\">[</font><font color=\"#000000\">i</font><font color=\"#000000\">]</font> <font color=\"#434f54\">*</font> <font color=\"#000000\">b</font><font color=\"#000000\">[</font><font color=\"#000000\">i</font> <font color=\"#434f54\">+</font> <font color=\"#000000\">1</font><font color=\"#000000\">]</font><font color=\"#000000\">;</font>\n",
    " &nbsp;<font color=\"#000000\">}</font>\n",
    "\n",
    " &nbsp;<font color=\"#434f54\">&#47;&#47; Oppdater buffer</font>\n",
    " &nbsp;<font color=\"#5e6d03\">for</font> <font color=\"#000000\">(</font><font color=\"#00979c\">int</font> <font color=\"#000000\">i</font> <font color=\"#434f54\">=</font> <font color=\"#000000\">M</font> <font color=\"#434f54\">-</font> <font color=\"#000000\">1</font><font color=\"#000000\">;</font> <font color=\"#000000\">i</font> <font color=\"#434f54\">&gt;</font> <font color=\"#000000\">0</font><font color=\"#000000\">;</font> <font color=\"#000000\">i</font><font color=\"#434f54\">--</font><font color=\"#000000\">)</font>\n",
    " &nbsp;<font color=\"#000000\">{</font>\n",
    " &nbsp;&nbsp;&nbsp;<font color=\"#000000\">w_buffer</font><font color=\"#000000\">[</font><font color=\"#000000\">i</font><font color=\"#000000\">]</font> <font color=\"#434f54\">=</font> <font color=\"#000000\">w_buffer</font><font color=\"#000000\">[</font><font color=\"#000000\">i</font> <font color=\"#434f54\">-</font> <font color=\"#000000\">1</font><font color=\"#000000\">]</font><font color=\"#000000\">;</font>\n",
    " &nbsp;<font color=\"#000000\">}</font>\n",
    " &nbsp;<font color=\"#000000\">w_buffer</font><font color=\"#000000\">[</font><font color=\"#000000\">0</font><font color=\"#000000\">]</font> <font color=\"#434f54\">=</font> <font color=\"#000000\">w</font><font color=\"#000000\">;</font>\n",
    " &nbsp;<font color=\"#434f54\">&#47;&#47; --------------------------------</font>\n",
    " &nbsp;<font color=\"#5e6d03\">return</font> <font color=\"#000000\">y</font><font color=\"#000000\">;</font>\n",
    "<font color=\"#000000\">}</font>\n",
    "\n",
    "</pre>"
   ]
  },
  {
   "cell_type": "markdown",
   "metadata": {
    "slideshow": {
     "slide_type": "slide"
    }
   },
   "source": [
    "# Transponert Direkte Form\n",
    "<img src=\"Figurer/16_DigitalKontroller/Fig8_TDF.png\" style=\"width: 50%; margin-left: 200px\" />\n",
    "\n",
    "* Ligner på Direkte Form 1, men tidsforsinkelsen skjer etter addisjon.\n",
    "    * \"halvferdige\" utgangsverdier ligger i buffer.\n",
    "* Krever kun $\\text{max}(M, N)$ antall sampler lagret i buffer.\n"
   ]
  },
  {
   "cell_type": "markdown",
   "metadata": {
    "slideshow": {
     "slide_type": "slide"
    }
   },
   "source": [
    "## Transponert direkte form utledning:\n",
    "\\begin{align}\n",
    "y[n] &= b_0\\cdot x[n] + v_1[n-1]\\\\\n",
    " &= b_0\\cdot x[n] + b_1\\cdot x[n-1] - a_1 \\cdot y[n-1] + v_2[n-2]\\\\\n",
    " &= b_0\\cdot x[n] + b_1\\cdot x[n-1] - a_1 \\cdot y[n-1] + b_2\\cdot x[n-2] - a_2 \\cdot y[n-2] + v_3[n-3]\\\\\n",
    " &\\vdots\n",
    "\\end{align}"
   ]
  },
  {
   "cell_type": "markdown",
   "metadata": {},
   "source": [
    "# Arduino-implementasjon\n",
    "\n",
    "<pre>\n",
    "<font color=\"#434f54\">&#47;&#47; Legg til globale variabler etter behov her:</font>\n",
    "<font color=\"#00979c\">const</font> <font color=\"#00979c\">int</font> <font color=\"#000000\">M</font> <font color=\"#434f54\">=</font> <font color=\"#000000\">3</font><font color=\"#000000\">;</font>\n",
    "<font color=\"#00979c\">const</font> <font color=\"#00979c\">float</font> <font color=\"#000000\">b</font><font color=\"#000000\">[</font><font color=\"#000000\">]</font> <font color=\"#434f54\">=</font> <font color=\"#000000\">{</font><font color=\"#000000\">0.0</font><font color=\"#434f54\">,</font>\n",
    " &nbsp;&nbsp;&nbsp;&nbsp;&nbsp;&nbsp;&nbsp;&nbsp;&nbsp;&nbsp;&nbsp;&nbsp;&nbsp;&nbsp;&nbsp;&nbsp;&nbsp;&nbsp;<font color=\"#000000\">0.004405638449924254018696956336498260498046875</font><font color=\"#434f54\">,</font>\n",
    " &nbsp;&nbsp;&nbsp;&nbsp;&nbsp;&nbsp;&nbsp;&nbsp;&nbsp;&nbsp;&nbsp;&nbsp;&nbsp;&nbsp;&nbsp;&nbsp;&nbsp;&nbsp;<font color=\"#000000\">0.01502353965715119699098067940212786197662353515625</font><font color=\"#434f54\">,</font>\n",
    " &nbsp;&nbsp;&nbsp;&nbsp;&nbsp;&nbsp;&nbsp;&nbsp;&nbsp;&nbsp;&nbsp;&nbsp;&nbsp;&nbsp;&nbsp;&nbsp;&nbsp;&nbsp;<font color=\"#000000\">0.0032178901796118264400092812138609588146209716796875</font>\n",
    " &nbsp;&nbsp;&nbsp;&nbsp;&nbsp;&nbsp;&nbsp;&nbsp;&nbsp;&nbsp;&nbsp;&nbsp;&nbsp;&nbsp;&nbsp;&nbsp;&nbsp;<font color=\"#000000\">}</font><font color=\"#000000\">;</font>\n",
    "<font color=\"#00979c\">const</font> <font color=\"#00979c\">float</font> <font color=\"#000000\">a</font><font color=\"#000000\">[</font><font color=\"#000000\">]</font> <font color=\"#434f54\">=</font> <font color=\"#000000\">{</font><font color=\"#000000\">1.0</font><font color=\"#434f54\">,</font>\n",
    " &nbsp;&nbsp;&nbsp;&nbsp;&nbsp;&nbsp;&nbsp;&nbsp;&nbsp;&nbsp;&nbsp;&nbsp;&nbsp;&nbsp;&nbsp;&nbsp;&nbsp;&nbsp;<font color=\"#434f54\">-</font> <font color=\"#000000\">2.37680206479869848834596268716268241405487060546875</font><font color=\"#434f54\">,</font>\n",
    " &nbsp;&nbsp;&nbsp;&nbsp;&nbsp;&nbsp;&nbsp;&nbsp;&nbsp;&nbsp;&nbsp;&nbsp;&nbsp;&nbsp;&nbsp;&nbsp;&nbsp;&nbsp;<font color=\"#000000\">1.932937224176488388849293187377043068408966064453125</font><font color=\"#434f54\">,</font>\n",
    " &nbsp;&nbsp;&nbsp;&nbsp;&nbsp;&nbsp;&nbsp;&nbsp;&nbsp;&nbsp;&nbsp;&nbsp;&nbsp;&nbsp;&nbsp;&nbsp;&nbsp;&nbsp;<font color=\"#434f54\">-</font> <font color=\"#000000\">0.5334880910911028450982485082931816577911376953125</font>\n",
    " &nbsp;&nbsp;&nbsp;&nbsp;&nbsp;&nbsp;&nbsp;&nbsp;&nbsp;&nbsp;&nbsp;&nbsp;&nbsp;&nbsp;&nbsp;&nbsp;&nbsp;<font color=\"#000000\">}</font><font color=\"#000000\">;</font>\n",
    "<font color=\"#00979c\">float</font> <font color=\"#000000\">v_buffer</font><font color=\"#000000\">[</font><font color=\"#000000\">M</font><font color=\"#000000\">]</font> <font color=\"#434f54\">=</font> <font color=\"#000000\">{</font><font color=\"#000000\">}</font><font color=\"#000000\">;</font>\n",
    "\n",
    "<font color=\"#00979c\">float</font> <font color=\"#000000\">filter</font><font color=\"#000000\">(</font><font color=\"#00979c\">float</font> <font color=\"#000000\">x</font><font color=\"#000000\">)</font> <font color=\"#000000\">{</font>\n",
    " &nbsp;<font color=\"#434f54\">&#47;&#47; Erstatt innholdet med kode som vil utfører filtrering av sample &#34;x&#34;</font>\n",
    "\n",
    " &nbsp;<font color=\"#434f54\">&#47;&#47; Calculate output y[n] = b0*x[n] + v1[n-1]</font>\n",
    " &nbsp;<font color=\"#00979c\">float</font> <font color=\"#000000\">y</font> <font color=\"#434f54\">=</font> <font color=\"#000000\">b</font><font color=\"#000000\">[</font><font color=\"#000000\">0</font><font color=\"#000000\">]</font><font color=\"#434f54\">*</font><font color=\"#000000\">x</font> <font color=\"#434f54\">+</font> <font color=\"#000000\">v_buffer</font><font color=\"#000000\">[</font><font color=\"#000000\">0</font><font color=\"#000000\">]</font><font color=\"#000000\">;</font>\n",
    " &nbsp;\n",
    " &nbsp;<font color=\"#434f54\">&#47;&#47; Update intermediary output values vk[n]</font>\n",
    " &nbsp;<font color=\"#5e6d03\">for</font> <font color=\"#000000\">(</font><font color=\"#00979c\">int</font> <font color=\"#000000\">i</font> <font color=\"#434f54\">=</font> <font color=\"#000000\">0</font><font color=\"#000000\">;</font> <font color=\"#000000\">i</font> <font color=\"#434f54\">&lt;</font> <font color=\"#000000\">M</font><font color=\"#434f54\">-</font><font color=\"#000000\">1</font><font color=\"#000000\">;</font> <font color=\"#000000\">i</font><font color=\"#434f54\">++</font><font color=\"#000000\">)</font>\n",
    " &nbsp;<font color=\"#000000\">{</font>\n",
    " &nbsp;&nbsp;&nbsp;<font color=\"#000000\">v_buffer</font><font color=\"#000000\">[</font><font color=\"#000000\">i</font><font color=\"#000000\">]</font> <font color=\"#434f54\">=</font> <font color=\"#000000\">x</font><font color=\"#434f54\">*</font><font color=\"#000000\">b</font><font color=\"#000000\">[</font><font color=\"#000000\">i</font><font color=\"#434f54\">+</font><font color=\"#000000\">1</font><font color=\"#000000\">]</font><font color=\"#434f54\">-</font><font color=\"#000000\">y</font><font color=\"#434f54\">*</font><font color=\"#000000\">a</font><font color=\"#000000\">[</font><font color=\"#000000\">i</font><font color=\"#434f54\">+</font><font color=\"#000000\">1</font><font color=\"#000000\">]</font><font color=\"#434f54\">+</font><font color=\"#000000\">v_buffer</font><font color=\"#000000\">[</font><font color=\"#000000\">i</font><font color=\"#434f54\">+</font><font color=\"#000000\">1</font><font color=\"#000000\">]</font><font color=\"#000000\">;</font>\n",
    " &nbsp;<font color=\"#000000\">}</font>\n",
    " &nbsp;<font color=\"#000000\">v_buffer</font><font color=\"#000000\">[</font><font color=\"#000000\">M</font><font color=\"#434f54\">-</font><font color=\"#000000\">1</font><font color=\"#000000\">]</font> <font color=\"#434f54\">=</font> <font color=\"#000000\">x</font><font color=\"#434f54\">*</font><font color=\"#000000\">b</font><font color=\"#000000\">[</font><font color=\"#000000\">m</font><font color=\"#000000\">]</font> <font color=\"#434f54\">-</font> <font color=\"#000000\">y</font><font color=\"#434f54\">*</font><font color=\"#000000\">a</font><font color=\"#000000\">[</font><font color=\"#000000\">m</font><font color=\"#000000\">]</font><font color=\"#000000\">;</font>\n",
    " &nbsp;<font color=\"#434f54\">&#47;&#47; --------------------------------</font>\n",
    " &nbsp;<font color=\"#5e6d03\">return</font> <font color=\"#000000\">y</font><font color=\"#000000\">;</font>\n",
    "<font color=\"#000000\">}</font>\n",
    "\n",
    "</pre>"
   ]
  },
  {
   "cell_type": "markdown",
   "metadata": {
    "slideshow": {
     "slide_type": "slide"
    }
   },
   "source": [
    "# Andre Spørsmål?"
   ]
  }
 ],
 "metadata": {
  "celltoolbar": "Slideshow",
  "hide_input": false,
  "kernelspec": {
   "display_name": "Python 3 (ipykernel)",
   "language": "python",
   "name": "python3"
  },
  "language_info": {
   "codemirror_mode": {
    "name": "ipython",
    "version": 3
   },
   "file_extension": ".py",
   "mimetype": "text/x-python",
   "name": "python",
   "nbconvert_exporter": "python",
   "pygments_lexer": "ipython3",
   "version": "3.10.8"
  },
  "toc": {
   "base_numbering": 1,
   "nav_menu": {},
   "number_sections": false,
   "sideBar": true,
   "skip_h1_title": false,
   "title_cell": "Innholdstabell",
   "title_sidebar": "Innhold",
   "toc_cell": false,
   "toc_position": {},
   "toc_section_display": true,
   "toc_window_display": false
  },
  "varInspector": {
   "cols": {
    "lenName": 16,
    "lenType": 16,
    "lenVar": 40
   },
   "kernels_config": {
    "python": {
     "delete_cmd_postfix": "",
     "delete_cmd_prefix": "del ",
     "library": "var_list.py",
     "varRefreshCmd": "print(var_dic_list())"
    },
    "r": {
     "delete_cmd_postfix": ") ",
     "delete_cmd_prefix": "rm(",
     "library": "var_list.r",
     "varRefreshCmd": "cat(var_dic_list()) "
    }
   },
   "types_to_exclude": [
    "module",
    "function",
    "builtin_function_or_method",
    "instance",
    "_Feature"
   ],
   "window_display": false
  }
 },
 "nbformat": 4,
 "nbformat_minor": 4
}
