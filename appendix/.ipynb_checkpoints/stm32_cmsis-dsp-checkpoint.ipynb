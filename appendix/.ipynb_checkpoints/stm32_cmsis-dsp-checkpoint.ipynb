{
 "cells": [
  {
   "cell_type": "code",
   "execution_count": 1,
   "id": "d4c15d70-c4c9-4fd5-849c-ca4ae9d1ab96",
   "metadata": {
    "slideshow": {
     "slide_type": "skip"
    }
   },
   "outputs": [],
   "source": [
    "# Generelle moduler og funksjonsbeskrivelser brukt i forelesningen\n",
    "import numpy as np\n",
    "import matplotlib.pyplot as plt\n",
    "\n",
    "plt.rcParams[\"figure.figsize\"] = [8.00, 4.5]\n",
    "plt.rcParams[\"figure.autolayout\"] = True\n",
    "plt.rcParams[\"axes.grid\"] = True\n",
    "plt.rcParams[\"axes.xmargin\"] = 0.0\n",
    "\n",
    "%matplotlib ipympl"
   ]
  },
  {
   "cell_type": "markdown",
   "id": "3f951e67-0905-4bbc-9ac6-d05ec604f3c6",
   "metadata": {
    "slideshow": {
     "slide_type": "slide"
    }
   },
   "source": [
    "<img src=\"figures/NTNU_logo_vertical.svg\" align=\"left\" style=\"width: 30%\">\n",
    "\n",
    "<br clear=\"all\" />\n",
    "<br></br>\n",
    "\n",
    "# Intro to CMSIS-DSP\n",
    "\n",
    "* **Course AIS2201 - Signal Processing**\n",
    "* **Week 39, 2024**\n",
    "* **Lecturer: Kai Erik Hoff**"
   ]
  },
  {
   "cell_type": "markdown",
   "id": "6e8989a4-e0c5-4c4f-9bbe-9697635f43fd",
   "metadata": {
    "slideshow": {
     "slide_type": "slide"
    }
   },
   "source": [
    "# Topics\n",
    "\n",
    "* What is `arm_math.h`\n",
    "* C arrays and pointers\n",
    "* Example of typical `arm_math.h` function\n",
    "* How to import to STM32 project"
   ]
  },
  {
   "cell_type": "markdown",
   "id": "8cdaeab7-059a-4548-8929-17c572048d51",
   "metadata": {},
   "source": [
    "# What is CMSIS-DSP?"
   ]
  },
  {
   "cell_type": "markdown",
   "id": "2fb319de-b143-4140-be65-2325936c7db1",
   "metadata": {},
   "source": [
    "* **CMSIS-DSP** is an open-source software library that implements common compute processing functions optimized for use on Arm Cortex-M and Cortex-A processors. [\\[1\\]](https://arm-software.github.io/CMSIS_6/latest/DSP/index.html)\n"
   ]
  },
  {
   "cell_type": "markdown",
   "id": "e79918f9-9fb5-4dab-ae47-c5b206028f6f",
   "metadata": {},
   "source": [
    "* Part of [ARM](https://en.wikipedia.org/wiki/ARM_Architecture_(company))'s [Common Microcontroller Software Interface Standard (CMSIS)](https://arm-software.github.io/CMSIS_6/latest/General/index.html)"
   ]
  },
  {
   "cell_type": "markdown",
   "id": "3d751fa8-5caf-46ed-8502-a1d77af75b26",
   "metadata": {},
   "source": [
    "* Processing functions created to process signals as arrays containing numerous samples at a time\n",
    "    * Similar in concept to e.g.  `numpy` "
   ]
  },
  {
   "cell_type": "markdown",
   "id": "0aa8d2ec-3f0f-4d33-8fd0-60d538fc2130",
   "metadata": {
    "slideshow": {
     "slide_type": "slide"
    }
   },
   "source": [
    "# Arrays in `C`\n"
   ]
  },
  {
   "cell_type": "markdown",
   "id": "c0412249-bd54-4ded-a1f4-ca77207bd8b4",
   "metadata": {
    "slideshow": {
     "slide_type": "fragment"
    }
   },
   "source": [
    "* Used to store a sequence of values of a certain type:\n",
    "\n",
    ">```C\n",
    ">int my_array[] = {1, 2, 3, 4, 5}; // Declares an array of length 5 with integer values 1-5\n",
    ">```"
   ]
  },
  {
   "cell_type": "markdown",
   "id": "a1e724a5-c072-4d1b-9508-db180588c967",
   "metadata": {
    "slideshow": {
     "slide_type": "fragment"
    }
   },
   "source": [
    "* Since datatype `int` is 2 bytes, the above declaration of `my_array` will allocate $5\\cdot 2 = 10$ bytes for storage of array values."
   ]
  },
  {
   "cell_type": "markdown",
   "id": "8cb1bcab",
   "metadata": {
    "slideshow": {
     "slide_type": "fragment"
    }
   },
   "source": [
    "* Array elements are accessed using indexing:\n",
    "\n",
    ">```C\n",
    "> int value_at_2 = my_array[2];\n",
    ">```"
   ]
  },
  {
   "cell_type": "markdown",
   "id": "983a8d38",
   "metadata": {
    "slideshow": {
     "slide_type": "fragment"
    }
   },
   "source": [
    "* Indexing out of bounds will not be prevented by compiler. The following will run without errors:\n",
    "\n",
    ">```C\n",
    "> int mystery_value = my_array[5]; // Acquires whatever is stored \"next to\" the array in system memory, and casts to 'int'\n",
    ">```"
   ]
  },
  {
   "cell_type": "markdown",
   "id": "1d1fe79c-d0c1-470c-90b5-4781b57650c7",
   "metadata": {
    "slideshow": {
     "slide_type": "slide"
    }
   },
   "source": [
    "# Pointers in `C`"
   ]
  },
  {
   "cell_type": "markdown",
   "id": "a142eba0-be3a-48d4-bb88-2478ec44b071",
   "metadata": {
    "slideshow": {
     "slide_type": "fragment"
    }
   },
   "source": [
    "* A pointer is a reference to the memory location where a value is stored.<br>**Quick overview:**\n",
    "\n",
    "\n",
    ">```C\n",
    "> int my_value = 10;  // Declares integer variable\n",
    "> int *value_ptr = &my_value;  // Creates pointer variable wich contains address for 'my_value' (eg. 0xd2e6eea4)\n",
    "> int new_value = *value_ptr;  // Extracts value stored in address referenced by 'value_ptr' (i.e. 10)\n",
    "> /* The variable 'new_value' is now equal to 10 */ \n",
    ">```"
   ]
  },
  {
   "cell_type": "markdown",
   "id": "10a46b88-52be-458c-8a99-d390fac735da",
   "metadata": {
    "slideshow": {
     "slide_type": "fragment"
    }
   },
   "source": [
    "* Pointers allow functions to edit variables which are fed as input.\n",
    "\n",
    ">```C\n",
    "> /* Example function description */\n",
    "> void increment(int* x){\n",
    ">     *x = *x + 1;\n",
    "> }\n",
    "> \n",
    "> /* Example function call */\n",
    "> void main() {\n",
    ">     int my_value = 10;\n",
    ">     increment(&my_value);\n",
    ">     printf(\"%d\", my_value); // Prints '11'\n",
    "> }\n",
    ">```"
   ]
  },
  {
   "cell_type": "markdown",
   "id": "0d54bab5-975e-4116-ac4d-404319ed014a",
   "metadata": {
    "slideshow": {
     "slide_type": "slide"
    }
   },
   "source": [
    "# Arrays are pointers!"
   ]
  },
  {
   "cell_type": "markdown",
   "id": "9a34d9ae-ca51-4d3a-a1a1-7cb18f64e0ee",
   "metadata": {
    "slideshow": {
     "slide_type": "fragment"
    }
   },
   "source": [
    "* An array variable declared using `[]` simply contains a pointer to the location of the first element in the array.\n",
    "    * Indexing becomes equivalent to incrementing the pointer addreess:\n",
    "\n",
    ">```C\n",
    "> int my_array[] = {1, 2, 3, 4, 5}; // Declares an array of length 5 with integer values 1-5\n",
    "> int a = my_array[3]; // Assigns value at index 3 to variable 'a'\n",
    "> int b = *(my_array + 3); // Assigns integer stored at address 'my_array + 3' to variable b \n",
    "> printf(\"%d %d\", a, b); // Prints '4 4'\n",
    ">```"
   ]
  },
  {
   "cell_type": "markdown",
   "id": "da05d010-c26f-477b-8e20-21966ed703a1",
   "metadata": {
    "slideshow": {
     "slide_type": "fragment"
    }
   },
   "source": [
    "* Functions processing arrays use pointers.\n",
    "    * To avoid out-of-bounds errors, information about array size **must** be passed as well.\n",
    "\n",
    ">```C\n",
    "> void square(int* x, int* y, int size){\n",
    ">     for (int i=0; i<size; i++){\n",
    ">         y[i] = x[i]*x[i];\n",
    ">     }\n",
    "> }\n",
    "> \n",
    "> void main() {\n",
    ">     int my_array[] = {1, 2, 3, 4, 5}; // Declares an array of length 5 with integer values 1-5\n",
    ">     int out_array[5] = {}; // Allocate memory for output array\n",
    ">     square(my_array, out_array, 5); // Compute elementwise squared\n",
    ">     printf(\"%d^2 = %d\", my_array[2], out_array[2]); // Prints 3^2 = 9\n",
    "> }\n",
    ">```"
   ]
  },
  {
   "cell_type": "markdown",
   "id": "347be926-7acf-4be3-baa0-d59f4d107044",
   "metadata": {
    "slideshow": {
     "slide_type": "fragment"
    }
   },
   "source": [
    "* Arrays can be cast to different types (*Not generally advisable, but common practice when using DMA.*)\n",
    "\n",
    ">```C\n",
    "> uint32_t my_array[] = {0x1111aaaa}; // Declares an array of length 5 with integer values 1-5\n",
    "> uint16_t* array_copy = (uint16_t*) my_array; \n",
    "> printf(\"%x %x\", array_copy[1], array_copy[0]); // Prints '1111 aaaa'\n",
    ">```"
   ]
  },
  {
   "cell_type": "markdown",
   "id": "c6de4553",
   "metadata": {
    "slideshow": {
     "slide_type": "slide"
    }
   },
   "source": [
    "# Using the CMSIS-DSP Library"
   ]
  },
  {
   "cell_type": "markdown",
   "id": "469af809",
   "metadata": {
    "slideshow": {
     "slide_type": "fragment"
    }
   },
   "source": [
    "* Full library part of firmware package installed with CubeMX\n",
    "    * Location: `<install_directory>\\STM32Cube\\Repository\\STM32Cube_FW_Fx_Vx.xx.x\\Drivers\\CMSIS\\DSP`"
   ]
  },
  {
   "cell_type": "markdown",
   "id": "c95c1fd5",
   "metadata": {
    "slideshow": {
     "slide_type": "fragment"
    }
   },
   "source": [
    "* Both input and output arrays are passed as arguments along with number of data points.\n",
    "    * Allocate space for input *and* output in separate arrays, then pass both input and output to function.\n",
    "    * Example using [arm_abs_f32](https://arm-software.github.io/CMSIS_5/DSP/html/group__BasicAbs.html#ga0e8fc7df3033cdbe9cda8a766a46e6d9):\n",
    "\n",
    ">```C\n",
    ">float32_t input[2] = {-5, 5};\n",
    ">float32_t output[2] = {};\n",
    ">arm_abs_f32(input, output, 2);\n",
    ">```\n",
    "\n"
   ]
  },
  {
   "cell_type": "markdown",
   "id": "fdab40b3-18a3-4f7d-9147-c120c1830e2c",
   "metadata": {},
   "source": [
    "* Each mathematical function has a number of variants depending on data type\n",
    "    * Data type specified at end of function\n",
    "    * Floating point data types used: `f16`, `f32` & `f64`\n",
    "    * Fixed point data types used: `q16` & `q32`\n",
    "        * Functionally integers, but interpreted as having \"normalized range\" $-1 \\leq x < 1$"
   ]
  },
  {
   "cell_type": "markdown",
   "id": "fa9c1213",
   "metadata": {
    "slideshow": {
     "slide_type": "fragment"
    }
   },
   "source": [
    "* Include instructions found [here](https://community.st.com/t5/stm32-mcus/how-to-integrate-cmsis-dsp-libraries-on-a-stm32-project/ta-p/666790)"
   ]
  },
  {
   "cell_type": "markdown",
   "id": "ddc8c876-bde9-42fc-8723-1c94b52966f9",
   "metadata": {
    "slideshow": {
     "slide_type": "slide"
    }
   },
   "source": [
    "# Double Buffering\n",
    "\n",
    "* Overall program structure for handling sample stream in \"batches\"\n",
    "\n",
    "\n",
    "\n",
    "<img src=\"figures/DualBufferAnim.gif\" width=\"80%\" style=\"margin-left:100px\" />"
   ]
  },
  {
   "cell_type": "markdown",
   "id": "d0b7e69d-5cfa-4a40-a0fb-165d03e12e5c",
   "metadata": {
    "slideshow": {
     "slide_type": "fragment"
    }
   },
   "source": [
    "* Total sample buffer size must be $2\\times$ FFT window size"
   ]
  },
  {
   "cell_type": "markdown",
   "id": "bdb8970b-1edf-446f-bb2e-44396fa77144",
   "metadata": {
    "slideshow": {
     "slide_type": "fragment"
    }
   },
   "source": [
    "* Alternating halves of the `ADC_buffer` are copied to FFT input."
   ]
  },
  {
   "cell_type": "markdown",
   "id": "809e8590-076c-4c33-9584-301bcb287301",
   "metadata": {
    "slideshow": {
     "slide_type": "slide"
    }
   },
   "source": [
    "# FFT on an STM32\n",
    "\n",
    "\n",
    "\n"
   ]
  },
  {
   "cell_type": "markdown",
   "id": "c1001865",
   "metadata": {
    "slideshow": {
     "slide_type": "fragment"
    }
   },
   "source": [
    "* Makes use of \"basic\" fft algorithms such as *radix-2*.\n",
    "    * Divide and conquer algorithm expexts window size $N=2^k, k \\in \\mathbb{Z}$\n",
    "    * Due to hardware limitations, FFT will only work for window sizes $N \\in \\{16, 32, 64, 128, 256, 512, 1024, 2048, 4096\\}$"
   ]
  },
  {
   "cell_type": "markdown",
   "id": "683b8540",
   "metadata": {
    "slideshow": {
     "slide_type": "fragment"
    }
   },
   "source": [
    "* FFT functions found in folder `TransformFunctions`\n",
    "    * Requires inclusion of `\"arm_const_structs.h\"` in addition to `\"arm_math.h\"`"
   ]
  },
  {
   "cell_type": "markdown",
   "id": "1adc38f1",
   "metadata": {
    "slideshow": {
     "slide_type": "fragment"
    }
   },
   "source": [
    "* An FFT-algorithm `struct` instance must be initialized before calculating FFT\n",
    "    * Accomplished with separate `init`-function\n",
    "    * Window size is determined here!\n",
    "    * Allocates memory needed "
   ]
  },
  {
   "cell_type": "markdown",
   "id": "086ba67c",
   "metadata": {
    "slideshow": {
     "slide_type": "fragment"
    }
   },
   "source": [
    "* Choose between `cfft` and `rfft`.\n",
    "    * `cfft` produces two-sided DFT. <br>Expects complex input.\n",
    "    * `rfft` produces one-sided DFT. <br>Expects real-valued input."
   ]
  },
  {
   "cell_type": "markdown",
   "id": "6dd45afa",
   "metadata": {
    "slideshow": {
     "slide_type": "fragment"
    }
   },
   "source": [
    "* Separate functions for different data types:\n",
    "    * Floating-point: `f16`, `f32`, `f64`\n",
    "    * Fixed-point: `q15`, `q31`\n",
    "    * Example: `arm_cfft_f32` for calculating two-sided DFT with 32-bit floating point values."
   ]
  },
  {
   "cell_type": "markdown",
   "id": "0a470f08-9e23-4cbe-bd15-5b5630297a6e",
   "metadata": {
    "slideshow": {
     "slide_type": "slide"
    }
   },
   "source": [
    "## Example:\n",
    "\n",
    "```C\n",
    "/* Parameters */\n",
    "uint32_t fftSize = 1024;\n",
    "uint32_t ifftFlag = 0;\n",
    "uint32_t doBitReverse = 1;\n",
    "\n",
    "/* Create struct for computing CFFT */\n",
    "arm_cfft_instance_f32 varInstCfftF32;\n",
    "\n",
    "/* Initialize FFT struct */\n",
    "arm_cfft_init_f32(&varInstCfftF32,fftSize);\n",
    "\n",
    "/* Process the data through the CFFT/CIFFT module \n",
    " Take note: the data in 'testInput_f32_10khz' is modified BY the function\n",
    " 'arm_cfft_f32 and will contain the FFT output once the function has \n",
    " executed.*/\n",
    "arm_cfft_f32(&varInstCfftF32, testInput_f32_10khz, ifftFlag, doBitReverse);\n",
    "```"
   ]
  }
 ],
 "metadata": {
  "celltoolbar": "Slideshow",
  "kernelspec": {
   "display_name": "Python 3 (ipykernel)",
   "language": "python",
   "name": "python3"
  },
  "language_info": {
   "codemirror_mode": {
    "name": "ipython",
    "version": 3
   },
   "file_extension": ".py",
   "mimetype": "text/x-python",
   "name": "python",
   "nbconvert_exporter": "python",
   "pygments_lexer": "ipython3",
   "version": "3.11.5"
  }
 },
 "nbformat": 4,
 "nbformat_minor": 5
}
