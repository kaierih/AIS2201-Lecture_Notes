{
 "cells": [
  {
   "cell_type": "markdown",
   "metadata": {
    "slideshow": {
     "slide_type": "slide"
    }
   },
   "source": [
    "<img src=\"Figurer/NTNU_Logo.png\" align=\"left\" width=\"30%\">\n",
    "<br clear=\"all\" />\n",
    "<br></br>\n",
    "\n",
    "# Crash course: digitale reguleringssystemer\n",
    "\n",
    "* **Emne AIS2102 - Signalbehandling**\n",
    "* ***dato***: 19. april 2023\n",
    "* **Relevant Pensummateriell:**\n",
    "    * Kapittel 13 i Nise\n",
    "* **Foreleser: Kai Erik Hoff**"
   ]
  },
  {
   "cell_type": "markdown",
   "metadata": {},
   "source": [
    "# Disposisjon\n",
    "\n",
    "* Hvorfor er diskretisering viktig\n",
    "* Distinksjonen mellom tidskontinuerlige og tidsdiskrete system\n",
    "* Om sampling, samplingsfrekvens og notasjon for digitale system\n",
    "* Fra tidsdiskret til kontinuerlig (ZOH)\n",
    "* Designvurderinger: innførte forsinkelser.\n",
    "    * Hvordan oversettes dette til faseforsinkelse?\n",
    "* Hvordan kan et tidsdiskret system se ut?\n",
    "    * Eksempel med Arduino og ADC\n",
    "    * \n"
   ]
  },
  {
   "cell_type": "markdown",
   "metadata": {
    "slideshow": {
     "slide_type": "slide"
    }
   },
   "source": [
    "# Hvorfor er diskretisering relevant?\n",
    "\n",
    "`illustrasjon med transferfunksjon og MCU`"
   ]
  },
  {
   "cell_type": "markdown",
   "metadata": {
    "slideshow": {
     "slide_type": "fragment"
    }
   },
   "source": [
    "* *Hvordan kan vi programmere en digital enhet til å gjengi egenskapene gitt av en differensiallikning på en god måte?*"
   ]
  },
  {
   "cell_type": "markdown",
   "metadata": {
    "slideshow": {
     "slide_type": "slide"
    }
   },
   "source": [
    "# Tema:\n",
    "\n",
    "* Grunnleggende teori\n",
    "    * Sampling, samplingsfrekvens og sampletid\n",
    "    * Kontinuerlige og diskréte signal\n",
    "    * Hybridsystem overblikk\n",
    "* Case: diskretisering av PID-kontrolleren med eulerdifferanse\n",
    "    * Integrasjon med arduino\n",
    "    * Derivasjon med arduino\n",
    "* Tidsforsinkelser i digitale system\n",
    "* Andre diskretiseringsmetoder"
   ]
  },
  {
   "cell_type": "markdown",
   "metadata": {
    "slideshow": {
     "slide_type": "slide"
    }
   },
   "source": [
    "# Steg 1: diskretisering av et signal\n",
    "\n",
    "* Signalet representeres som en serie med måleverdier.\n",
    "* Oppnås ved å ta gjentatte punktprøver.\n",
    "    * På f.eks. en Arduino utføres dette med gjentatte kall til funksjonen `analogRead()`.\n",
    "* Denne prosessen er kjent som sampling.\n",
    "\n",
    "<div style=\"width: 80%;\">\n",
    "    <img src=\"Figurer/01_Introduksjon/Fig5_DigitalSig.png\" style=\"float: left; width: 45%\" />\n",
    "    <div style=\"float: right; width: 35%\">\n",
    "    <br>\n",
    "        <b>Notasjon</b>:\n",
    "        $$x[n],  \\ x(n) \\text{ eller } x_n$$\n",
    "    <ul>\n",
    "        <li><i>Temperatursignalet i figuren er en \"tidsdiskret\" funksjon av samplenummer \n",
    "            </i> $n \\in \\mathbb{Z}$.</li>\n",
    "    </ul>  \n",
    "    </div>\n",
    "</div> "
   ]
  },
  {
   "cell_type": "markdown",
   "metadata": {
    "slideshow": {
     "slide_type": "slide"
    }
   },
   "source": [
    "# Sampleperiode $T_s$\n",
    "\n",
    "* Samplene ***må*** tas med **jevne tidsintervall**.\n",
    "    * Forutsetningen for at diskretiseringsmetodene faktisk skal fungere.\n",
    "* Tidsintervallet fra ett sampletidspunkt til neste kalles en ***sampleperiode*** $T_s$.\n",
    "<br><br>\n",
    "<img src=\"Figurer/01_Introduksjon/Fig9_Ts.png\" style=\"width: 80%; margin-left: 100px\" />"
   ]
  },
  {
   "cell_type": "markdown",
   "metadata": {
    "slideshow": {
     "slide_type": "slide"
    }
   },
   "source": [
    "# Samplingsfrekvens $f_s$\n",
    "\n",
    "* ***Samplingsfrekvens*** $f_s$ er et tall på hvor mange sampler som tas i løpet av ett sekund.\n",
    "* Relasjon til sampleperiode:\n",
    "$$f_s = \\frac{1}{T_s}$$\n",
    "* Sammenheng mellom måletidspunkt og samplenummer:\n",
    "$$t = n\\cdot T_s = \\frac{n}{f_s}$$\n",
    "$$n = \\frac{t}{T_s} = t\\cdot f_s$$\n",
    "* Sammenheng mellom analogt og digitalt signal:\n",
    "$$x[n] = x(t)|_{t = n\\cdot T_s}$$"
   ]
  },
  {
   "cell_type": "markdown",
   "metadata": {
    "slideshow": {
     "slide_type": "slide"
    }
   },
   "source": [
    "# Modell \n",
    "\n",
    "* En systemmodell for et digitalt system vil som regel inneholde en såkalt A/D omformer.\n",
    "    * Mange mikrokontrollere som f.eks. Arduino har en A/D omformer innebygd.\n",
    "\n"
   ]
  },
  {
   "cell_type": "markdown",
   "metadata": {
    "slideshow": {
     "slide_type": "slide"
    }
   },
   "source": [
    "# Seg 2: Regn ut regulatorens utgangsverdi i det tidsdiskrete domenet\n",
    "\n",
    "* For hver ny måling ($e[n]$) som fulløres av A/D omformeren, så må en ny utgangsverdi ($u[n]$) beregnes."
   ]
  },
  {
   "cell_type": "markdown",
   "metadata": {
    "slideshow": {
     "slide_type": "fragment"
    }
   },
   "source": [
    "* Bokstaven `z` i transferfunksjonen $G_c(z)$ antyder at dette er den digitale regulatorens *z-transform*. \n",
    "    * z-transformasjon er som laplace, bare for digitale LTI-system."
   ]
  },
  {
   "cell_type": "markdown",
   "metadata": {
    "slideshow": {
     "slide_type": "slide"
    }
   },
   "source": [
    "# Steg 3: Tilbake til tidskontinuerlige signal\n",
    "\n",
    "* Alle metoder for rekonstruksjon bygger på å erstatte én signalsample med en \"pulsform\"\n",
    "* \"Zero Order Hold\" er en vanlig og ukomplisert tilnærming.\n",
    "    * Betyr i praksis \"sett utgangsspenningen lik nåværende sampleverdi $x[n]$, og la stå til det kommer en ny sampleverdi\".\n",
    "* Uganssignalet blir en trappetrinns-approksimasjon\n",
    "<img src=\"Figurer/05_Sampling_og_Aliasing/Fig20_ZOH.png\" width=\"75%\">"
   ]
  },
  {
   "cell_type": "markdown",
   "metadata": {
    "slideshow": {
     "slide_type": "slide"
    }
   },
   "source": [
    "# Er ZOH utgangssignal greit?\n",
    "\n",
    "* I de fleste tilfeller vil det fysiske prosessen fint glatte ut trappetrinnskurven.\n",
    "    * Prosessen fungerer som et lavpassfilter\n",
    "    \n",
    "<img src=\"Figurer/05_Sampling_og_Aliasing/Fig21_AntiImaging.png\" width=\"75%\">"
   ]
  },
  {
   "cell_type": "markdown",
   "metadata": {
    "slideshow": {
     "slide_type": "slide"
    }
   },
   "source": [
    "# Modell av hybridsystem\n",
    "\n",
    "<img src=\"Figurer/16_DigitalKontroller/Fig1_sloyfe.png\" style=\"width: 60%; margin-left: 200px\" />"
   ]
  },
  {
   "cell_type": "markdown",
   "metadata": {
    "slideshow": {
     "slide_type": "fragment"
    }
   },
   "source": [
    "* La oss for enkelhets skyld anta at prosessen $G_p(s)$ er en RLC-krets, og alle de tidskontinuerlige signalene $r(t)$, $y(t)$ og $\\bar{u}(t)$ er elektriske spennings-signal."
   ]
  },
  {
   "cell_type": "markdown",
   "metadata": {
    "slideshow": {
     "slide_type": "slide"
    }
   },
   "source": [
    "## Eksempel på realisering med Arduino\n"
   ]
  },
  {
   "cell_type": "markdown",
   "metadata": {
    "slideshow": {
     "slide_type": "slide"
    }
   },
   "source": [
    "# Case: *Digital PID-regulator*"
   ]
  },
  {
   "cell_type": "markdown",
   "metadata": {
    "slideshow": {
     "slide_type": "slide"
    }
   },
   "source": [
    "# Integratorleddet\n",
    "* Kan utregnes med enkel numerisk integrasjon.\n",
    "* Løpende integral er sum av areal til rektanglene som strekker seg bakover i tid fra alle sampeltidspunkt.\n",
    "\n",
    "<img src=\"Figurer/16_DigitalKontroller/Fig13_Backdiff.png\" style=\"width: 50%; margin-left: 15%\" >"
   ]
  },
  {
   "cell_type": "markdown",
   "metadata": {
    "slideshow": {
     "slide_type": "fragment"
    }
   },
   "source": [
    "* Hvordan vil denne koden se ut?"
   ]
  },
  {
   "cell_type": "markdown",
   "metadata": {
    "slideshow": {
     "slide_type": "slide"
    }
   },
   "source": [
    "# Differanseligningen\n",
    "\n",
    "* Systemet vi nettopp implementerte med Arduino C beskrives i teorien med en *differanseligning*:$\\\\ $\n",
    "$$y[n] = y[n-1] + T_s\\cdot x[n]$$\n",
    "    * $x[n]$ er inngangsverdi ved tidspunkt $t = n\\cdot T_s$\n",
    "    * $y[n]$ er utgangsverdi (beregnet løpende integral av $x(t)$) ved tidspunkt $t = n\\cdot T_s$"
   ]
  },
  {
   "cell_type": "markdown",
   "metadata": {
    "slideshow": {
     "slide_type": "fragment"
    }
   },
   "source": [
    "### Standardform:\n",
    "\n",
    "$$y[n] - y[n-1] = T_s\\cdot x[n]$$\n",
    "\n",
    "* Inngangs-signal $x[n]$ og utgangs-signal $y[n]$ plassert på hver sin side av likhetstegnet."
   ]
  },
  {
   "cell_type": "markdown",
   "metadata": {
    "slideshow": {
     "slide_type": "fragment"
    }
   },
   "source": [
    "* Digitale filtre beskrives typisk med bruk av en differanseligning.\n",
    "    * En integrator er én type digitalt filter."
   ]
  },
  {
   "cell_type": "markdown",
   "metadata": {
    "slideshow": {
     "slide_type": "slide"
    }
   },
   "source": [
    "# Frekvensanalyse av digitale filtre (i python/matlab)\n",
    "\n",
    "* Alltid lurt å verifisere at diskretiseringen har ønskede frekvensegenskaper.\n",
    "* Programmeringsverktøy kan brukes til å sammenligne frekvensegenskapene til både det kontinuerlige og det diskréte systemet.\n",
    "\n",
    "`Figur`"
   ]
  },
  {
   "cell_type": "markdown",
   "metadata": {
    "slideshow": {
     "slide_type": "slide"
    }
   },
   "source": [
    "## Steg 1: Finn filterkoeffisienter\n",
    "\n",
    "* Generell form for differanseligninger:\n",
    "\\begin{align}\n",
    "a_0 \\cdot y[n] + a_1 \\cdot y[n-1] + \\ldots + a_N \\cdot y[n-N] &= b_0 \\cdot x[n] + b_1 \\cdot x[n-1] + \\ldots + b_M \\cdot x[n-M]\\\\\n",
    "\\sum_{k=0}^{N} a_k \\cdot y[n-k] &= \\sum_{k=0}^{M} b_k \\cdot x[n-k]\n",
    "\\end{align}\n",
    "    * Tallrekkene $a_k$ og $b_k$ er *filterkoeffisienter*\n",
    "    "
   ]
  },
  {
   "cell_type": "markdown",
   "metadata": {
    "slideshow": {
     "slide_type": "fragment"
    }
   },
   "source": [
    "### Filterkoeffisienter for integrator:\n",
    "\\begin{align}\n",
    "y[n] - y[n-1] &= T_s\\cdot x[n]\\\\\n",
    "\\mathbf{1} \\cdot y[n]\\  \\mathbf{- 1} \\cdot y[n-1] &= \\mathbf{T_s} \\cdot x[n] \n",
    "\\end{align}\n",
    "\n",
    "$$ a_k = \\{1, -1\\},\\ \\  b_k = \\{T_s\\}$$"
   ]
  },
  {
   "cell_type": "markdown",
   "metadata": {
    "slideshow": {
     "slide_type": "slide"
    }
   },
   "source": [
    "## Steg 2: Beregn frekvensrespons og lag plot\n",
    "\n",
    "* Her har både Matlab og Python en funksjon som heter `freqz()`"
   ]
  },
  {
   "cell_type": "code",
   "execution_count": null,
   "metadata": {},
   "outputs": [],
   "source": [
    "import numpy as np\n",
    "import matplotlib.pyplot as plt\n",
    "import scipy.signal as sig\n",
    "\n",
    "T_s = 0.01 # 100 sampler per sekund\n",
    "a_k = [1, -1] \n",
    "b_k = [T_s]\n",
    "\n",
    "f, Hz = sig.freqz(b_k, a_k, fs=1/T_s) # Finn frekvensrespons\n",
    "w = f*2*np.pi # Konverter fra Hz til rad/s\n",
    "\n",
    "# Vis Hz og Hs i to subplot for å sammenligne gain og fase\n",
    "plt.subplot();plt.grid(True); plt.ylabel('Gain'); plt.xlabel('Frequency (rad/s)')\n",
    "plt.plot(w, np.abs(Hz), label=r'$\\left|H(z)\\right|$')\n",
    "plt.legend()"
   ]
  },
  {
   "cell_type": "markdown",
   "metadata": {
    "slideshow": {
     "slide_type": "slide"
    }
   },
   "source": [
    "## Steg 3: Sammenlign frekvensrespons for det tidskontinuerlige systemet"
   ]
  },
  {
   "cell_type": "code",
   "execution_count": null,
   "metadata": {},
   "outputs": [],
   "source": [
    "import numpy as np\n",
    "import matplotlib.pyplot as plt\n",
    "import scipy.signal as sig\n",
    "\n",
    "T_s = 0.01 # 100 sampler per sekund\n",
    "a_k = [1, -1] \n",
    "b_k = [T_s]\n",
    "\n",
    "f, Hz = sig.freqz(b_k, a_k, fs=1/T_s) # Finn frekvensrespons\n",
    "w = f*2*np.pi # Konverter fra Hz til rad/s\n",
    "Hs = 1/(1j*w) # Regn ut frekvensresponsen til 1/s\n",
    "\n",
    "# Vis Hz og Hs i to subplot for å sammenligne gain og fase\n",
    "plt.subplot(2,1,1); plt.grid(True); plt.ylabel('Gain'); \n",
    "plt.plot(w, np.abs(Hz), label=r'$\\left|H(z)\\right|$')\n",
    "plt.plot(w, np.abs(Hs), '-.', label=r'$\\left|H(s)\\right|$')\n",
    "plt.legend()\n",
    "plt.subplot(2,1,2); plt.grid(True); plt.ylabel('Phase (degrees)'); plt.xlabel('Frequency (rad/s)')\n",
    "plt.plot(w, np.angle(Hz)/np.pi*180, label=r'$\\angle H(z)$')\n",
    "plt.plot(w, np.angle(Hs)/np.pi*180, '-.', label=r'$\\angle H(s)$')\n",
    "plt.legend()"
   ]
  },
  {
   "cell_type": "markdown",
   "metadata": {
    "slideshow": {
     "slide_type": "slide"
    }
   },
   "source": [
    "# Derivatorleddet\n",
    "\n",
    "* Hvordan oppnå en diskrét realisering av $\\frac{d x(t)}{dt}$?"
   ]
  },
  {
   "cell_type": "markdown",
   "metadata": {
    "slideshow": {
     "slide_type": "fragment"
    }
   },
   "source": [
    "* Enkleste løsning: finne differansen mellom to nåværende og forrige målte verdi.\n",
    "    * Differanseligning: $y[n] = \\frac{1}{T_s}\\cdot x[n] - \\frac{1}{T_s}\\cdot x[n-1]$\n",
    "    * Filterkoeffisienter: $a_k = \\{1\\}, \\ \\ b_k = \\left\\{ \\frac{1}{T_s}, - \\frac{1}{T_s}\\right\\}$"
   ]
  },
  {
   "cell_type": "markdown",
   "metadata": {
    "slideshow": {
     "slide_type": "fragment"
    }
   },
   "source": [
    "* Potensiell Arduino-implementasjon:\n",
    "<pre><font color=\"#00979c\">float</font> <font color=\"#000000\">Differentiator</font><font color=\"#434f54\">:</font><font color=\"#434f54\">:</font><font color=\"#d35400\">update</font><font color=\"#000000\">(</font><font color=\"#00979c\">float</font> <font color=\"#000000\">x</font><font color=\"#000000\">)</font>\n",
    "<font color=\"#000000\">{</font>\n",
    " &nbsp;<font color=\"#000000\">y</font> <font color=\"#434f54\">=</font> <font color=\"#000000\">(</font><font color=\"#000000\">x</font> <font color=\"#434f54\">-</font> <font color=\"#000000\">previous_x</font><font color=\"#000000\">)</font><font color=\"#434f54\">&#47;</font><font color=\"#000000\">Ts</font><font color=\"#000000\">;</font>\n",
    " &nbsp;<font color=\"#000000\">previous_x</font> <font color=\"#434f54\">=</font> <font color=\"#000000\">x</font><font color=\"#000000\">;</font>\n",
    " &nbsp;<font color=\"#5e6d03\">return</font> <font color=\"#000000\">y</font><font color=\"#000000\">;</font>\n",
    "<font color=\"#000000\">}</font></pre>"
   ]
  },
  {
   "cell_type": "markdown",
   "metadata": {
    "slideshow": {
     "slide_type": "slide"
    }
   },
   "source": [
    "## Frekvensanalyse av $y[n] = \\frac{1}{T_s}\\cdot x[n] - \\frac{1}{T_s}\\cdot x[n-1]$"
   ]
  },
  {
   "cell_type": "code",
   "execution_count": null,
   "metadata": {},
   "outputs": [],
   "source": [
    "import numpy as np\n",
    "import matplotlib.pyplot as plt\n",
    "import scipy.signal as sig\n",
    "\n",
    "T_s = 0.01 # 100 sampler per sekund\n",
    "a_k = [1] \n",
    "b_k = [1/T_s, -1/T_s]\n",
    "\n",
    "f, Hz = sig.freqz(b_k, a_k, fs=1/T_s) # Finn frekvensrespons\n",
    "w = f*2*np.pi # Konverter fra Hz til rad/s\n",
    "Hs = 1j*w # Regn ut frekvensresponsen til s\n",
    "\n",
    "# Vis Hz og Hs i to subplot for å sammenligne gain og fase\n",
    "plt.subplot(2,1,1); plt.grid(True); plt.ylabel('Gain'); \n",
    "plt.plot(w, np.abs(Hz), label=r'$\\left|H(z)\\right|$')\n",
    "plt.plot(w, np.abs(Hs), '-.', label=r'$\\left|H(s)\\right|$')\n",
    "plt.legend()\n",
    "plt.subplot(2,1,2); plt.grid(True); plt.ylabel('Phase (degrees)'); plt.xlabel('Frequency (rad/s)')\n",
    "plt.plot(w, np.angle(Hz)/np.pi*180, label=r'$\\angle H(z)$')\n",
    "plt.plot(w, np.angle(Hs)/np.pi*180, '-.', label=r'$\\angle H(s)$')\n",
    "plt.legend()"
   ]
  },
  {
   "cell_type": "markdown",
   "metadata": {
    "slideshow": {
     "slide_type": "slide"
    }
   },
   "source": [
    "# Målestøy i sensor\n",
    "* Alle samplene vil typisk ha litt avvik av forskjellige årsaker.\n",
    "* Avviket er ofte tilfeldig, og dermed også delvis høyfrekvent.\n",
    "* Enkel differanseutregning vil forsterke den høyfrekvente delen av målestøyet velidig mye."
   ]
  },
  {
   "cell_type": "markdown",
   "metadata": {
    "slideshow": {
     "slide_type": "fragment"
    }
   },
   "source": [
    "* Er det egentlig ønskelig med et derivasjonsledd som opererer i maksimalt frekvensområde?"
   ]
  },
  {
   "cell_type": "markdown",
   "metadata": {
    "slideshow": {
     "slide_type": "slide"
    }
   },
   "source": [
    "# Derivator med lavpassfilter\n",
    "\n",
    "* Gitt at prosessen har lavpass-egenskaper, er det lite interesse for å derivere i høye frekvenser.\n",
    "* Det er vanlig å sette en øvre grensefrekvens $\\omega_c$ for derivatoren.\n",
    "    * Lavpassfilter i serie med derivator $s$:\n",
    "$$H(s) = s \\cdot \\frac{\\omega_c}{s+\\omega_c}$$"
   ]
  },
  {
   "cell_type": "markdown",
   "metadata": {
    "slideshow": {
     "slide_type": "fragment"
    }
   },
   "source": [
    "* Differensialligning:\n",
    "$$ \\frac{d y(t)}{dt} + \\omega_c \\cdot y(t) = \\omega_c \\cdot \\frac{d x(t)}{dt} $$"
   ]
  },
  {
   "cell_type": "markdown",
   "metadata": {
    "slideshow": {
     "slide_type": "fragment"
    }
   },
   "source": [
    "* Hvordan kan dette diskretiseres?"
   ]
  },
  {
   "cell_type": "markdown",
   "metadata": {
    "slideshow": {
     "slide_type": "fragment"
    }
   },
   "source": [
    "* Enkleste strategi: erstatte $\\frac{d y(t)}{dt}$ med $\\frac{y[n]-y[n-1]}{T_s}$, og  $\\frac{d x(t)}{dt}$ med $\\frac{x[n]-x[n-1]}{T_s}$"
   ]
  },
  {
   "cell_type": "markdown",
   "metadata": {
    "slideshow": {
     "slide_type": "slide"
    }
   },
   "source": [
    "# Diskret derivator med lavpassfilter\n",
    "\n",
    "* Differanseligning:\n",
    "\n",
    "$$ y[n] - \\frac{1}{\\omega_c \\cdot T_s + 1} \\cdot y[n-1] = \\frac{\\omega_c}{\\omega_c \\cdot T_s + 1} \\cdot x[n] - \\frac{\\omega_c}{\\omega_c \\cdot T_s + 1} x[n-1]$$\n",
    "\n",
    "* Filterkoeffisienter:\n",
    "\n"
   ]
  },
  {
   "cell_type": "markdown",
   "metadata": {
    "slideshow": {
     "slide_type": "slide"
    }
   },
   "source": [
    "# Frekvensanalyse"
   ]
  },
  {
   "cell_type": "code",
   "execution_count": null,
   "metadata": {},
   "outputs": [],
   "source": [
    "T_s = 0.001\n",
    "w_c = 0.1/Ts*2*np.pi\n",
    "\n",
    "a_k = np.array([1, -1/(w_c*T_s + 1)])\n",
    "b_k = np.array([1, -1])*w_c/(w_c*T_s + 1)\n",
    "\n",
    "f, Hz = sig.freqz(b_k, a_k, fs=1/T_s) # Finn frekvensrespons\n",
    "w = f*2*np.pi # Konverter fra Hz til rad/s\n",
    "Hs = 1j*w # Regn ut frekvensresponsen til s\n",
    "\n",
    "print(\"b:\",b_k, \"\\na:\", a_k)\n",
    "\n",
    "# Vis Hz og Hs i to subplot for å sammenligne gain og fase\n",
    "plt.subplot(2,1,1); plt.grid(True); plt.ylabel('Gain'); \n",
    "plt.plot(w, np.abs(Hz), label=r'$\\left|H(z)\\right|$')\n",
    "plt.plot(w, np.abs(Hs), '-.', label=r'$\\left|H(s)\\right|$')\n",
    "plt.legend()\n",
    "plt.subplot(2,1,2); plt.grid(True); plt.ylabel('Phase (degrees)'); plt.xlabel('Frequency (rad/s)')\n",
    "plt.plot(w, np.angle(Hz)/np.pi*180, label=r'$\\angle H(z)$')\n",
    "plt.plot(w, np.angle(Hs)/np.pi*180, '-.', label=r'$\\angle H(s)$')\n",
    "plt.legend()"
   ]
  },
  {
   "cell_type": "markdown",
   "metadata": {
    "slideshow": {
     "slide_type": "slide"
    }
   },
   "source": [
    "# Forsinkelser i det digitale systemet\n",
    "\n",
    "* Glatting av trappetrinnskurven (lavpassfiltrering) viser tydelig at ZOH-signalet vil henge etter med $\\frac{T_s}{2}$ sekund.\n",
    "    \n",
    "<img src=\"Figurer/05_Sampling_og_Aliasing/Fig22_ZOH2.png\" width=\"65%\">"
   ]
  },
  {
   "cell_type": "markdown",
   "metadata": {
    "slideshow": {
     "slide_type": "fragment"
    }
   },
   "source": [
    "* Prosesseringstid må også tas med i bildet. Denne kann være inntil én sampleperiode $T_s$.\n",
    "    * NB! Vær sikker på at prosesseringstiden ikke er *mer* enn $T_s$. Da vil reell sampletid fort bli en helt annen."
   ]
  },
  {
   "cell_type": "markdown",
   "metadata": {
    "slideshow": {
     "slide_type": "fragment"
    }
   },
   "source": [
    "* Maksimal \"lovlig\" forsinkelse: $d = \\frac{3\\cdot T_s}{2}$"
   ]
  },
  {
   "cell_type": "markdown",
   "metadata": {
    "slideshow": {
     "slide_type": "slide"
    }
   },
   "source": [
    "# Tidsorsinkelse og stabilitet\n",
    "\n",
    "* Gitt $d = \\frac{3\\cdot T_s}{2}$, korrigert transferfunksjon for regulatoren blir da:\n",
    "$$\\hat{G}(s) = G(s)\\cdot e^{-\\frac{3 \\cdot T_s}{2}\\cdot s}$$\n",
    "    * Korrigert faserespons $\\angle \\hat{G}(\\omega)$:\n",
    "$$\\angle \\hat{G}(\\omega) = \\angle G(\\omega) - \\frac{3 \\cdot T_s}{2} \\cdot \\omega$$"
   ]
  },
  {
   "cell_type": "markdown",
   "metadata": {
    "slideshow": {
     "slide_type": "fragment"
    }
   },
   "source": [
    "* Figuren viser hvordan en forsinkelse på $\\frac{T_s}{2}$ ved ulike samplingsfrekvenser for et reguleringssystem kan påvirke fase-kurven.\n",
    "<img src=\"Figurer/05_Sampling_og_Aliasing/Fig23_DiscreteControl.png\" width=\"75%\">"
   ]
  },
  {
   "cell_type": "markdown",
   "metadata": {
    "slideshow": {
     "slide_type": "slide"
    }
   },
   "source": [
    "# Nyquist-frekvensen\n",
    "\n",
    "* Diskrete systemer vil ikke kunne håndtere frekvensegenser over til et visst punkt. Denne grensen er Nyquist-frekvensen.\n",
    "\n",
    "## $$\\text{Nyquist-frekvens} = \\frac{f_s}{2} = \\frac{1}{2\\cdot T_s}$$\n",
    "\n",
    "* Sinusbølger med frekvenser utover nyquist-frekvensen vil \"se ut\" som noe annet basert på samplene.\n",
    "    * Dette er kjent som *aliasing*"
   ]
  },
  {
   "cell_type": "markdown",
   "metadata": {
    "slideshow": {
     "slide_type": "slide"
    }
   },
   "source": [
    "# Oppsummering\n"
   ]
  }
 ],
 "metadata": {
  "celltoolbar": "Slideshow",
  "hide_input": false,
  "kernelspec": {
   "display_name": "Python 3 (ipykernel)",
   "language": "python",
   "name": "python3"
  },
  "language_info": {
   "codemirror_mode": {
    "name": "ipython",
    "version": 3
   },
   "file_extension": ".py",
   "mimetype": "text/x-python",
   "name": "python",
   "nbconvert_exporter": "python",
   "pygments_lexer": "ipython3",
   "version": "3.12.8"
  },
  "toc": {
   "base_numbering": 1,
   "nav_menu": {},
   "number_sections": false,
   "sideBar": true,
   "skip_h1_title": false,
   "title_cell": "Innholdstabell",
   "title_sidebar": "Innhold",
   "toc_cell": false,
   "toc_position": {},
   "toc_section_display": true,
   "toc_window_display": false
  },
  "varInspector": {
   "cols": {
    "lenName": 16,
    "lenType": 16,
    "lenVar": 40
   },
   "kernels_config": {
    "python": {
     "delete_cmd_postfix": "",
     "delete_cmd_prefix": "del ",
     "library": "var_list.py",
     "varRefreshCmd": "print(var_dic_list())"
    },
    "r": {
     "delete_cmd_postfix": ") ",
     "delete_cmd_prefix": "rm(",
     "library": "var_list.r",
     "varRefreshCmd": "cat(var_dic_list()) "
    }
   },
   "position": {
    "height": "541.844px",
    "left": "1870px",
    "right": "20px",
    "top": "120px",
    "width": "243.312px"
   },
   "types_to_exclude": [
    "module",
    "function",
    "builtin_function_or_method",
    "instance",
    "_Feature"
   ],
   "window_display": false
  }
 },
 "nbformat": 4,
 "nbformat_minor": 4
}
