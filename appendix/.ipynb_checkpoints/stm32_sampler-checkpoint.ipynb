{
 "cells": [
  {
   "cell_type": "code",
   "execution_count": null,
   "id": "0230dd77-9bb7-4445-98ef-2f1d99c9b3f0",
   "metadata": {},
   "outputs": [],
   "source": []
  },
  {
   "cell_type": "markdown",
   "id": "c1a8b6d6-f11f-4a61-8d5e-f28d295c41c5",
   "metadata": {
    "slideshow": {
     "slide_type": "slide"
    }
   },
   "source": [
    "<img src=\"figures/NTNU_logo_vertical.svg\" align=\"left\" style=\"width: 30%\">\n",
    "<br clear=\"all\" />\n",
    "<br></br>\n",
    "\n",
    "# Intro to STM32 programming workshop \n",
    "\n",
    "* **Course AIS2201 - Signal Processing**\n",
    "* **Uke 36, 2025**\n",
    "* **Lecturer: Kai Erik Hoff**\n",
    "\n"
   ]
  },
  {
   "cell_type": "markdown",
   "id": "0340ea1d-6f7e-4bc5-a490-381ffd744e3c",
   "metadata": {},
   "source": [
    "## Desktop programming vs. embedded programming\n"
   ]
  },
  {
   "cell_type": "markdown",
   "id": "85aef06b-e43d-40c1-a4b5-e4208aabaecc",
   "metadata": {},
   "source": [
    "<div style=\"width: 100%;\">\n",
    "    <div style=\"width: 45%; float:left\">\n",
    "    <h4>Desktop programming</h4>\n",
    "    <ul>\n",
    "    <li>Hardware agnostic</li>\n",
    "    <li>Runs on an operating system </li>\n",
    "    <li>Processing resources are (relatively) abundant </li>\n",
    "    </ul>\n",
    "    </div>\n",
    "    <div style=\"width: 45%; float:right\">\n",
    "    <h4>Embedded programming</h4>\n",
    "    <ul>\n",
    "    <li>Hardware Specific</li>\n",
    "    <li>No operating system</li>\n",
    "    <ul>            \n",
    "        <li>The embedded program is the <i><b>only</b></i> program running on the system</li>\n",
    "    </ul>\n",
    "    <li>Strict limitations on resources</li>\n",
    "    </ul>\n",
    "    </div>\n",
    "</div> "
   ]
  },
  {
   "cell_type": "markdown",
   "id": "837692a2-0d75-43e6-a4e8-98399bb58968",
   "metadata": {},
   "source": [
    "## Embedded programming with the arduino framework"
   ]
  },
  {
   "cell_type": "markdown",
   "id": "5766751b-0957-4eb6-ade5-c4c416593e8f",
   "metadata": {},
   "source": [
    "<img src=\"figures/inflatable_pool.png\" align=\"left\" style=\"width: 55%; margin-left: 100px\">"
   ]
  },
  {
   "cell_type": "markdown",
   "id": "be45a630-6094-4990-b03f-0c669fb16587",
   "metadata": {},
   "source": [
    "## Embedded programming with the arduino framework"
   ]
  },
  {
   "cell_type": "markdown",
   "id": "18acc716-289d-4b0b-8056-a7fd4305de49",
   "metadata": {},
   "source": [
    "* Hardware configuration hidden beneath a layer of abstraction\n",
    "\n"
   ]
  },
  {
   "cell_type": "markdown",
   "id": "20e2f63a-61ee-4354-a242-f7f8987c88c8",
   "metadata": {},
   "source": [
    "* Arduino core library provides hardware-independent API\n",
    "    * **Example:** [`analogRead()`](https://github.com/arduino/ArduinoCore-avr/blob/master/cores/arduino/wiring_analog.c#L38) manages ADC configuration depending on the platform\n"
   ]
  },
  {
   "cell_type": "markdown",
   "id": "fbf31ad5-45d3-4ed0-9b05-24cadeeeab6e",
   "metadata": {},
   "source": [
    "* Preprocessing before compilation\n",
    "    * Hardware-specific `C++` code \"template\" is generated based on hardware platform\n",
    "    * Arduino sketch code is inserted into template\n",
    "\n",
    ">```C++\n",
    ">int main(void)\n",
    ">{\n",
    ">\tinit(); // General hardware config\n",
    ">\tinitVariant(); // Board-specific hardware config\n",
    ">\tsetup(); // User-defined setup() function call\n",
    ">    \n",
    ">\tfor (;;) {\n",
    ">\t    loop(); // User-defined loop() function call\n",
    ">\t}\n",
    ">\treturn 0;\n",
    ">}\n",
    ">```"
   ]
  },
  {
   "cell_type": "markdown",
   "id": "b0c05081-1d92-46cf-9d5f-27426c5df728",
   "metadata": {},
   "source": [
    "## Embedded programming with direct register manipulation"
   ]
  },
  {
   "cell_type": "markdown",
   "id": "4b7ce58d-3035-49d6-a381-56a67413fd60",
   "metadata": {},
   "source": [
    "\n",
    "\n",
    "<div style=\"width: 100%;\">\n",
    "    <img src=\"figures/deep_sea_cliff.jpeg\" align=\"right\" style=\"width: 40%; margin-left: 100px\">\n",
    "    <div style=\"width: 50%\">\n",
    "    <br>\n",
    "    <ul>\n",
    "        <li>Primary resource: $\\approx 1400$ pages long reference manual. </li>\n",
    "        <li>Typical program: contains a significant portion of <a href=\"https://en.wikipedia.org/wiki/Bitwise_operation\" target=\"_blank\">bitwise boolean operations</a></li>\n",
    "        <li>Why does anyone do it?</li>\n",
    "        <ul>\n",
    "            <li>Enables direct control of hardware</li>\n",
    "            <li>If resource optimization is <i>really</i> important</li>\n",
    "        </ul>\n",
    "    </ul>\n",
    "    </div>\n",
    "</div> "
   ]
  },
  {
   "cell_type": "markdown",
   "id": "d1aff4c9-2e97-41e1-b00f-1a671685e606",
   "metadata": {},
   "source": [
    "## The STM32 CubeIDE framework"
   ]
  },
  {
   "cell_type": "markdown",
   "id": "0b4e0932-deef-43e0-9d5f-38d4a6ea6cc6",
   "metadata": {},
   "source": [
    "<img src=\"figures/swimming_pool.jpg\" align=\"left\" style=\"width: 55%; margin-left: 100px\">"
   ]
  },
  {
   "cell_type": "markdown",
   "id": "efb1b067-d95e-4008-b8e3-1784f6cd22cc",
   "metadata": {},
   "source": [
    "## The STM32 CubeIDE framework"
   ]
  },
  {
   "cell_type": "markdown",
   "id": "ff6ab0a5-af33-4155-b7ff-e795d742fe53",
   "metadata": {},
   "source": [
    "* Provides a graphical programming interface for hardware config\n",
    "    * Prevents invalid combinations of configuration settings"
   ]
  },
  {
   "cell_type": "markdown",
   "id": "a32802a2-31fa-41f3-aa2f-3669e556eec4",
   "metadata": {},
   "source": [
    "* `C` code template is auto-generated based on HW configuration\n",
    "    * User inserts code into appropriate regions"
   ]
  },
  {
   "cell_type": "markdown",
   "id": "327f1b85-014e-4b81-8d99-a117c89b86a5",
   "metadata": {},
   "source": [
    "* Hardware abstraction layer ([HAL](https://www.st.com/content/ccc/resource/technical/document/user_manual/2f/71/ba/b8/75/54/47/cf/DM00105879.pdf/files/DM00105879.pdf/jcr:content/translations/en.DM00105879.pdf)) library with more direct control than arduino core library"
   ]
  },
  {
   "cell_type": "markdown",
   "id": "a3c354db-d566-45e5-a222-4e0744defbb3",
   "metadata": {},
   "source": [
    "## Why not stick to Arduino framework?"
   ]
  },
  {
   "cell_type": "markdown",
   "id": "af262d46-3cb2-4744-8499-71dd73f0dedd",
   "metadata": {},
   "source": [
    "* Severely limits our options in regards to *how* hardware components are utilized"
   ]
  },
  {
   "cell_type": "markdown",
   "id": "7361ea1f-cd94-4999-922e-21ff480f7ff5",
   "metadata": {},
   "source": [
    "* Not ideal for DSP implementation\n",
    "    * Managing periodic sampling through software is cumbersome, inefficient, full of pitfalls, and ultimately unnecessary\n",
    "    * Analog-to-digital converters *can manage periodic sampling on their own*, leaving the processor free to work on other tasks"
   ]
  },
  {
   "cell_type": "markdown",
   "id": "21429344-7e0f-4451-8ffd-db8de2d8aced",
   "metadata": {},
   "source": [
    "* But: we will need to wade into the unfamiliar waters of peripheral hardware management"
   ]
  }
 ],
 "metadata": {
  "kernelspec": {
   "display_name": "Python 3 (ipykernel)",
   "language": "python",
   "name": "python3"
  },
  "language_info": {
   "codemirror_mode": {
    "name": "ipython",
    "version": 3
   },
   "file_extension": ".py",
   "mimetype": "text/x-python",
   "name": "python",
   "nbconvert_exporter": "python",
   "pygments_lexer": "ipython3",
   "version": "3.12.2"
  }
 },
 "nbformat": 4,
 "nbformat_minor": 5
}
