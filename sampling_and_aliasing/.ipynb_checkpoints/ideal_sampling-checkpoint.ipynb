{
 "cells": [
  {
   "cell_type": "code",
   "execution_count": 1,
   "id": "3481a8b1-8636-4848-ae57-5db2f9c2801a",
   "metadata": {
    "slideshow": {
     "slide_type": "skip"
    }
   },
   "outputs": [],
   "source": [
    "# Generelle moduler og funksjonsbeskrivelser brukt i forelesningen\n",
    "from numpy import sin, cos, pi, arctan2, exp\n",
    "import numpy as np\n",
    "import matplotlib.pyplot as plt\n",
    "import scipy.signal as sig\n",
    "from scipy.io import wavfile, loadmat               \n",
    "from IPython.display import Video, Audio\n",
    "\n",
    "\n",
    "\n",
    "%matplotlib ipympl"
   ]
  },
  {
   "cell_type": "markdown",
   "id": "4743909d-c1f5-42b6-b1cc-51d0f7b96dbd",
   "metadata": {
    "slideshow": {
     "slide_type": "slide"
    }
   },
   "source": [
    "<img src=\"figures/NTNU_logo_vertical.svg\" align=\"left\" style=\"width: 30%\">\n",
    "<br clear=\"all\" />\n",
    "<br></br>\n",
    "\n",
    "# Ideal Analog-to-Digital Conversion\n",
    "\n",
    "* **Course AIS2201 - Signal Processing**\n",
    "* **Uke 35, 2024**\n",
    "* **Lecturer: Kai Erik Hoff**\n",
    "\n"
   ]
  },
  {
   "cell_type": "markdown",
   "id": "afbbf216-6e91-43ea-85b6-1f376b7fbadb",
   "metadata": {
    "slideshow": {
     "slide_type": "slide"
    }
   },
   "source": [
    "## Topics\n",
    "\n",
    "* Intro/sampling recap\n",
    "* Sampling and normalized frequencies\n",
    "* Intro to Aliasing\n",
    "* Nyquist Sampling Theorem\n",
    "* Sampling and the signal spectrum\n"
   ]
  },
  {
   "cell_type": "markdown",
   "id": "eb599778-fd55-403a-9961-34c0e1f92ad2",
   "metadata": {
    "slideshow": {
     "slide_type": "slide"
    }
   },
   "source": [
    "# Uniform Sampling\n",
    "\n",
    "* Sampling a signal at regular intervals $T_s$.\n",
    "    * Crucial for both frequency analysis and filtering\n",
    "\n",
    "<img src=\"figures/Fig9_Ts.png\" style=\"width: 80%; margin-left: 100px\" />\n"
   ]
  },
  {
   "cell_type": "markdown",
   "id": "a0c360de-999d-4eef-a3cb-22a3ab69e3b4",
   "metadata": {
    "slideshow": {
     "slide_type": "slide"
    }
   },
   "source": [
    "# Sampling frequency and sampling period\n",
    "\n",
    "* **Sampling frequency:**\n",
    "    - Number of samples taken per second ($f_s$)\n",
    "* **Samplingsperiode:**\n",
    "    - Time interval between samples ($T_s$)\n",
    "    $$T_s = \\frac{1}{f_s}$$\n",
    "* Relation between time of conversion $t_n$ and sample number $n$:\n",
    "$$\\begin{align}t_n &= n\\cdot T_s = \\frac{n}{f_s} \\\\\n",
    "n &= \\frac{t_n}{T_s} = t_n\\cdot f_s\\end{align}$$\n",
    "* Ideal sampling expressed mathematically:\n",
    "$$x[n] = x(t)|_{t = n\\cdot T_s}$$"
   ]
  },
  {
   "cell_type": "markdown",
   "id": "57bdee1c-6b10-4241-9220-2d6c4a852f74",
   "metadata": {
    "slideshow": {
     "slide_type": "slide"
    }
   },
   "source": [
    "# Ideal sampling\n",
    "\n",
    "* Samples of the analog signal $x(t)$ are taken without error at the precise moment $t=n\\cdot T_s$.\n",
    "\n",
    "<img src=\"figures/Fig4_IdealSampling.png\" style=\"width: 60%; margin-left: 100px\">\n",
    "     \n",
    "* _More on non-ideal sampling later._"
   ]
  },
  {
   "cell_type": "markdown",
   "id": "d953a516-b33a-4565-99d8-92cf3c803b55",
   "metadata": {
    "slideshow": {
     "slide_type": "slide"
    }
   },
   "source": [
    "# Sampling sinusoids\n",
    "\n",
    "* We can find an expression for the discrete sinusoid.\n",
    "\n",
    "\\begin{align}\n",
    "x(t) &= \\cos(2\\pi f \\cdot t + \\phi) \\\\\n",
    "x[n] &= x(t)|_{t=n\\cdot T_s} \\\\\n",
    "&= \\cos(2\\pi f\\cdot nT_s +\\phi)\\\\\n",
    "&= \\cos\\left(2\\pi \\frac{f}{f_s}\\cdot n + \\phi\\right)\n",
    "\\end{align}\n"
   ]
  },
  {
   "cell_type": "markdown",
   "id": "8f4e756a-9e6b-4e2a-b2ad-9fa2b5aaaf1c",
   "metadata": {
    "slideshow": {
     "slide_type": "fragment"
    }
   },
   "source": [
    "\n",
    "* ***Normalized Frequency***\n",
    "    - alternatively *Digital Frequency*\n",
    "$$\\begin{align}\n",
    "\\hat{f} &= \\frac{f}{f_s}\\\\\n",
    "\\hat{\\omega} &= 2\\pi \\frac{f}{f_s}\n",
    "\\end{align}$$"
   ]
  },
  {
   "cell_type": "markdown",
   "id": "359b1f71-64d0-422a-921a-49ed8b8d69fc",
   "metadata": {
    "slideshow": {
     "slide_type": "fragment"
    }
   },
   "source": [
    "* Number of cycles per second \"no longer relevant\".\n",
    "* For digital signals the we often measure frequency in *cycles per sample*\n",
    "\n",
    "* PS. The book does not have a separate notation for normalized frequency, using omega ($\\omega$) for \"radians per second\" **and** \"radians per sample\". Using the $\\hat{\\ \\ }$ notation is a personal preference from the lecturer to improve clarity."
   ]
  },
  {
   "cell_type": "markdown",
   "id": "258da23b-82e9-4a1c-a07c-3956f646ca87",
   "metadata": {
    "slideshow": {
     "slide_type": "slide"
    }
   },
   "source": [
    "# Sampling a sine wave\n",
    "\n",
    "* Frequency spectrum for the signal $x(t) = \\cos(100\\pi \\cdot t)$ sampled with two separate sampling frequencies.\n",
    "\n",
    "<img src=\"figures/Fig5_SampledSinusoids.png\" style=\"width: 60%; margin-left: 100px\">\n"
   ]
  },
  {
   "cell_type": "markdown",
   "id": "4479632a-816b-4b59-b5fc-f5cc96389e66",
   "metadata": {
    "slideshow": {
     "slide_type": "slide"
    }
   },
   "source": [
    "## Example 1:\n",
    "\n",
    "* A sinusoidal signal $x(t)$ with frequency $f=144\\text{Hz}$, amplitude $A = 4\\text{V}$ and phase $\\phi = \\frac{\\pi}{3} \\text{rad}$ is sampled using an A/D converter with sampling frequency $f_s = 800\\text{Hz}$.\n",
    "    - Find an expression $x[n]$ for the sampled sinusoid\n",
    "    - What is hte normalized angular frequency $\\hat{\\omega}$?\n",
    "<!--* Et sinusformet signal $x(t)$ med frekvens $f=144\\text{Hz}$, amplitude $A = 4\\text{V}$ og fase $\\theta = \\frac{\\pi}{3}$ samples av en A/D omformer med samplingsfrekvens $f_s = 800\\text{Hz}$. \n",
    "    - Hva blir funksjonsuttrykket for det samplede signalet $x[n]$?\n",
    "    - Hva er den normaliserte vinkelfrekvensen $\\hat{\\omega}$?-->"
   ]
  }
 ],
 "metadata": {
  "kernelspec": {
   "display_name": "Python 3 (ipykernel)",
   "language": "python",
   "name": "python3"
  },
  "language_info": {
   "codemirror_mode": {
    "name": "ipython",
    "version": 3
   },
   "file_extension": ".py",
   "mimetype": "text/x-python",
   "name": "python",
   "nbconvert_exporter": "python",
   "pygments_lexer": "ipython3",
   "version": "3.11.5"
  }
 },
 "nbformat": 4,
 "nbformat_minor": 5
}
