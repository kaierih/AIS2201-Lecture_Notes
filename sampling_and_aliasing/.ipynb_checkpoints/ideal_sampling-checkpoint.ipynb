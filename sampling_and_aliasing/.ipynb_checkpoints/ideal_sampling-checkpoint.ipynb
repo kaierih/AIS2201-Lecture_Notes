{
 "cells": [
  {
   "cell_type": "code",
   "execution_count": 2,
   "id": "86f07854-e3f6-4dc7-92ed-1d634a43e567",
   "metadata": {
    "slideshow": {
     "slide_type": "skip"
    }
   },
   "outputs": [],
   "source": [
    "from numpy import sin, cos, pi, exp\n",
    "import numpy as np\n",
    "import scipy.signal as sig\n",
    "import matplotlib.pyplot as plt\n",
    "from IPython.display import Audio\n",
    "\n",
    "# Configure default pyplot settings\n",
    "plt.rcParams[\"figure.figsize\"] = [8.00, 4.5]\n",
    "plt.rcParams[\"figure.autolayout\"] = True\n",
    "plt.rcParams[\"axes.grid\"] = True\n",
    "plt.rcParams[\"axes.xmargin\"] = 0.0\n",
    "\n",
    "# Enable importing from modules in top-level directory\n",
    "from sys import path\n",
    "if path[0] != '..': path.insert(0, '..')"
   ]
  },
  {
   "cell_type": "markdown",
   "id": "e74c97a7-95c2-471f-8459-d5c6385da7ea",
   "metadata": {
    "slideshow": {
     "slide_type": "slide"
    }
   },
   "source": [
    "<img src=\"figures/NTNU_logo_vertical.svg\" align=\"left\" style=\"width: 30%\">\n",
    "<br clear=\"all\" />\n",
    "<br></br>\n",
    "\n",
    "# Ideal Sampling and Normalized Frequency\n",
    "\n",
    "* **Course AIS2201 - Signal Processing**\n",
    "* **Uke 35, 2024**\n",
    "* **Lecturer: Kai Erik Hoff**\n",
    "\n"
   ]
  },
  {
   "cell_type": "markdown",
   "id": "6ea7783d-1ef1-4171-a1f7-90ad178c9d22",
   "metadata": {
    "slideshow": {
     "slide_type": "slide"
    }
   },
   "source": [
    "## Topics\n",
    "\n",
    "* Intro/sampling recap\n",
    "* Sampling and normalized frequencies\n",
    "\n"
   ]
  },
  {
   "cell_type": "markdown",
   "id": "2ce0c10d-7333-4eec-a007-6ceb663f5f30",
   "metadata": {
    "slideshow": {
     "slide_type": "slide"
    }
   },
   "source": [
    "# Uniform Sampling\n",
    "\n",
    "* Sampling a signal at regular intervals $T_s$.\n",
    "    * Crucial for both frequency analysis and filtering\n",
    "\n",
    "<img src=\"figures/Fig9_Ts.png\" style=\"width: 80%; margin-left: 100px\" />\n"
   ]
  },
  {
   "cell_type": "markdown",
   "id": "6ad35cef-4b20-4fb2-9682-ea1703b414a5",
   "metadata": {
    "slideshow": {
     "slide_type": "slide"
    }
   },
   "source": [
    "# Sampling frequency and sampling period\n",
    "\n",
    "* **Sampling frequency:**\n",
    "    - Number of samples taken per second ($f_s$)\n",
    "* **Sampling period:**\n",
    "    - Time interval between samples ($T_s$)\n",
    "    $$T_s = \\frac{1}{f_s}$$\n",
    "* Relation between time of conversion $t_n$ and sample number $n$:\n",
    "$$\\begin{align}t_n &= n\\cdot T_s = \\frac{n}{f_s} \\\\\n",
    "n &= \\frac{t_n}{T_s} = t_n\\cdot f_s\\end{align}$$\n"
   ]
  },
  {
   "cell_type": "markdown",
   "id": "86b10066-cf81-46a7-98d0-f6813d936c23",
   "metadata": {
    "slideshow": {
     "slide_type": "slide"
    }
   },
   "source": [
    "# Ideal sampling\n",
    "\n",
    "* Samples of the analog signal $x(t)$ are taken without error at the precise moment $t=n\\cdot T_s$.\n",
    "\n",
    "\n",
    "\n",
    "\n",
    "\n",
    "<img src=\"figures/ideal_sampling.svg\" style=\"width: 60%; margin-left: 100px\">\n",
    "     \n"
   ]
  },
  {
   "cell_type": "markdown",
   "id": "0435f951-c55c-4d7b-8991-68bd9dc094c7",
   "metadata": {
    "slideshow": {
     "slide_type": "slide"
    }
   },
   "source": [
    "# Sampling sinusoids\n",
    "\n",
    "* We can find an expression for the discrete sinusoid.\n",
    "\n",
    "\\begin{align}\n",
    "x(t) &= \\cos(2\\pi f \\cdot t + \\phi) \\\\\n",
    "x[n] &= x(t)|_{t=n\\cdot T_s} \\\\\n",
    "&= \\cos(2\\pi f\\cdot nT_s +\\phi)\\\\\n",
    "&= \\cos\\left(2\\pi \\frac{f}{f_s}\\cdot n + \\phi\\right)\n",
    "\\end{align}\n"
   ]
  },
  {
   "cell_type": "markdown",
   "id": "bbb23840-5aa0-439a-829f-9caf3597d032",
   "metadata": {
    "slideshow": {
     "slide_type": "fragment"
    }
   },
   "source": [
    "\n",
    "* ***Normalized Frequency***\n",
    "    - alternatively *Digital Frequency*\n",
    "$$\\begin{align}\n",
    "\\hat{f} &= \\frac{f}{f_s}\\\\\n",
    "\\hat{\\omega} &= 2\\pi \\frac{f}{f_s}\n",
    "\\end{align}$$"
   ]
  },
  {
   "cell_type": "markdown",
   "id": "44c521ee-e41b-4aeb-b76b-1a427e53a554",
   "metadata": {
    "slideshow": {
     "slide_type": "fragment"
    }
   },
   "source": [
    "* Number of cycles per second \"no longer relevant\".\n",
    "* For digital signals the we often measure frequency in *cycles per sample*\n",
    "\n",
    "* PS. The book does not have a separate notation for normalized frequency, using omega ($\\omega$) for \"radians per second\" **and** \"radians per sample\". Using the $\\hat{\\ \\ }$ notation is a personal preference from the lecturer to improve clarity."
   ]
  },
  {
   "cell_type": "markdown",
   "id": "d127abc8-6d18-48e2-8792-c1de1557dc6a",
   "metadata": {
    "slideshow": {
     "slide_type": "slide"
    }
   },
   "source": [
    "# Sampling a sine wave\n",
    "\n",
    "* Frequency spectrum for the signal $x(t) = \\cos(100\\pi \\cdot t)$ sampled with two separate sampling frequencies.\n",
    "\n",
    "<img src=\"figures/Fig5_SampledSinusoids.png\" style=\"width: 60%; margin-left: 100px\">\n"
   ]
  },
  {
   "cell_type": "markdown",
   "id": "290d3cfe-d28a-4fa3-b29f-42d97a3cef25",
   "metadata": {
    "slideshow": {
     "slide_type": "slide"
    }
   },
   "source": [
    "## Example 1:\n",
    "\n",
    "* A sinusoidal signal $x(t)$ with frequency $f=144\\text{Hz}$, amplitude $A = 4\\text{V}$ and phase $\\phi = \\frac{\\pi}{3} \\text{rad}$ is sampled using an A/D converter with sampling frequency $f_s = 800\\text{Hz}$.\n",
    "    - Find an expression $x[n]$ for the sampled sinusoid\n",
    "    - What is the normalized angular frequency $\\hat{\\omega}$?\n",
    "<!--* Et sinusformet signal $x(t)$ med frekvens $f=144\\text{Hz}$, amplitude $A = 4\\text{V}$ og fase $\\theta = \\frac{\\pi}{3}$ samples av en A/D omformer med samplingsfrekvens $f_s = 800\\text{Hz}$. \n",
    "    - Hva blir funksjonsuttrykket for det samplede signalet $x[n]$?\n",
    "    - Hva er den normaliserte vinkelfrekvensen $\\hat{\\omega}$?-->"
   ]
  },
  {
   "cell_type": "markdown",
   "id": "8857ac47-ff2b-49b7-b05b-e34ea2437539",
   "metadata": {},
   "source": [
    "# Questions?"
   ]
  }
 ],
 "metadata": {
  "kernelspec": {
   "display_name": "Python 3 (ipykernel)",
   "language": "python",
   "name": "python3"
  },
  "language_info": {
   "codemirror_mode": {
    "name": "ipython",
    "version": 3
   },
   "file_extension": ".py",
   "mimetype": "text/x-python",
   "name": "python",
   "nbconvert_exporter": "python",
   "pygments_lexer": "ipython3",
   "version": "3.12.2"
  }
 },
 "nbformat": 4,
 "nbformat_minor": 5
}
