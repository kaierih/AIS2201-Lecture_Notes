{
 "cells": [
  {
   "cell_type": "markdown",
   "metadata": {
    "slideshow": {
     "slide_type": "slide"
    }
   },
   "source": [
    "<img src=\"Figurer/NTNU_Logo.png\" align=\"left\" style=\"width: 30%\">\n",
    "<br clear=\"all\" />\n",
    "<br></br>\n",
    "\n",
    "# ADC theory and continuous sampling\n",
    "\n",
    "* **Emne AIS2201 - Signalbehandling**\n",
    "* **Uke 36, 2024**\n",
    "* **Underviser: Kai Erik Hoff**\n",
    "\n"
   ]
  },
  {
   "cell_type": "markdown",
   "metadata": {},
   "source": [
    "# Topics\n",
    "* Sample & Hold\n",
    "* Successive Approximation Register ADC's\n",
    "* ADC modes of operation"
   ]
  },
  {
   "cell_type": "markdown",
   "metadata": {},
   "source": [
    "# Key points on peripherals\n",
    "\n",
    "* The Analog-to-Digital converters on a microcontroller board are *peripheral* components\n",
    "    * Independent components - can operate without using processor resources\n",
    "    * Communication over data bus using *registers*\n",
    "    * Operating speed derived from main processor clock signal\n",
    "\n",
    "<img src=\"figures/ADC_peripheral_overview.png\" style=\"width: 80%; margin-left: 100px\" />"
   ]
  },
  {
   "cell_type": "markdown",
   "metadata": {},
   "source": [
    "# Example: ADC illustration for STM32\n",
    "\n",
    "<img src=\"figures/ADC_block_diagram.png\" style=\"width: 80%; margin-left: 100px\" />\n",
    "\n",
    "\n",
    "* Analog multiplexer allows ADC to connect to many different ports\n",
    "* Internal registers store configuration (which port to connect to etc.)\n",
    "* Analog-to-digital conversion can be triggered by software\n",
    "* Converted data stored in \"output\" register\n",
    "* DMA request  / interrupt request sent when conversion is complete"
   ]
  },
  {
   "cell_type": "markdown",
   "metadata": {},
   "source": [
    "# Using ADC's in \"blocking mode\" (a.k.a. `analogRead()`)\n"
   ]
  },
  {
   "cell_type": "markdown",
   "metadata": {},
   "source": [
    "\n",
    "* While using tools such as `analogRead()` to acquire analog input on demand is simple, it is not particularly efficient.\n",
    "    * Also requires implementing *software solutions* to achieve periodic sampling, instead of making use of hardware designed for the job."
   ]
  },
  {
   "cell_type": "markdown",
   "metadata": {},
   "source": [
    "* Sample acquisition steps in \"blocking mode\":\n",
    "    1. Write new configuration to ADC registers (e.g. which port to connect to)\n",
    "    2. Send software trigger to start A/D conversion\n",
    "    3. Wait for conversion to complete\n",
    "    4. Read sample information from ADC output register"
   ]
  },
  {
   "cell_type": "markdown",
   "metadata": {},
   "source": [
    "* Additionally, functions such as `analogRead()` are *hardware agnostic*, meaning their use is the same across a wide range of microcontroller models. While this makes it easy for newcomers to program a microprocessor without difficulty, the consequence is that execution `analogRead()` has a significant overhead. As can be seen in the [analogRead source code](https://github.com/arduino/ArduinoCore-avr/blob/master/cores/arduino/wiring_analog.c#L38), a large portion of the function consists of a sizeable decision structure (many if-statements) which determines what configuration to use depending on the hardware platform."
   ]
  },
  {
   "cell_type": "markdown",
   "metadata": {},
   "source": [
    "# Using ADC's in \"continuous mode\"\n",
    "\n"
   ]
  },
  {
   "cell_type": "markdown",
   "metadata": {},
   "source": [
    "* The port(s) we want an ADC to sample from only needs to be configured once at the start-up portion of the program\n",
    "    * For use of multiple different ports the ADC can be configured to do a \"sweep\""
   ]
  },
  {
   "cell_type": "markdown",
   "metadata": {},
   "source": [
    "* The ADC can be set to begin a new A/D conversion immediately following a completed conversion\n",
    "    * Notification can be sent to the main processor once a sample is ready using [interrupt requests](https://en.wikipedia.org/wiki/Interrupt_request)."
   ]
  },
  {
   "cell_type": "markdown",
   "metadata": {},
   "source": [
    "* Sampling frequency is determined by total A/D conversion time."
   ]
  },
  {
   "cell_type": "markdown",
   "metadata": {},
   "source": [
    "# A/D conversion time"
   ]
  },
  {
   "cell_type": "markdown",
   "metadata": {},
   "source": [
    "* Governed by peripheral clock frequency (derived from main system clock)\n",
    "\n",
    "<img src=\"figures/clock_signal.jpg\" style=\"width: 50%; margin-left: 100px\" />"
   ]
  },
  {
   "cell_type": "markdown",
   "metadata": {},
   "source": [
    "* A $180\\text{ MHz}$ microprocessor runs on a clock signal with $180\\ 000\\ 000$ such pulses per second.\n",
    "    * Processor completes one logigal operation per pulse\n",
    "    * Peripheral clock frequency occasionally scaled down from main clock frequency (divided by $2$, $4$ ,$8$ etc..)\n",
    "    * ADC has built-in prescaler to further reduce clock frequency"
   ]
  },
  {
   "cell_type": "markdown",
   "metadata": {},
   "source": [
    "* One A/D conversion requires a set number of *clock cycles*\n",
    "    * Determined by type of ADC and configuration"
   ]
  },
  {
   "cell_type": "markdown",
   "metadata": {},
   "source": [
    "# Sample & hold\n",
    "\n",
    "* First stage in the Analog-to-Digital conversion process\n",
    "* Purpose: acquire the input voltage at a specific time ($n\\cdot T_s$) and keep this voltage constant while conversion to digital information is underway.\n",
    "\n",
    "<img src=\"figures/sample_hold.png\" style=\"width: 70%; margin-left: 100px\" />"
   ]
  },
  {
   "cell_type": "markdown",
   "metadata": {},
   "source": [
    "* This approach is common for most ADC designs. The differences arise in *how* the binary representation is achieved using the sample & hold signal as input.\n",
    "* From this point on we will focus on one specific type of ADC: the **Successive Approximation Register**. The reason for this choice is because it is this type of ADC we will encounter when programming our STM32 mircrocontroller."
   ]
  },
  {
   "cell_type": "markdown",
   "metadata": {},
   "source": [
    "## \"Sample phase\" illustrated\n",
    "\n",
    "<img src=\"figures/sample_phase.png\" style=\"width: 80%; margin-left: 100px\" />"
   ]
  },
  {
   "cell_type": "markdown",
   "metadata": {},
   "source": [
    "* The input voltage is fed to a capacitor, which will be able to hold a charge once the connection is broken. The logical circuitry which is responsible for the actual A/D conversion is idle during this time."
   ]
  },
  {
   "cell_type": "markdown",
   "metadata": {},
   "source": [
    "## \"Hold phase\" illustrated\n",
    "\n",
    "<img src=\"figures/hold_phase.png\" style=\"width: 80%; margin-left: 100px\" />\n"
   ]
  },
  {
   "cell_type": "markdown",
   "metadata": {},
   "source": [
    "* Connection between analog input and capacitor is broken. Assuming infinite input impedance in the successive approximation register, the capacitor will maintain it's charge for the duration of the conversion."
   ]
  },
  {
   "attachments": {},
   "cell_type": "markdown",
   "metadata": {},
   "source": [
    "# The successive approximation register\n",
    "\n",
    "<img src=\"figures/SAR_illustration.png\" style=\"width: 80%; margin-left: 100px\" />"
   ]
  },
  {
   "cell_type": "markdown",
   "metadata": {},
   "source": [
    "* Converts *one bit at a time* starting with the most significant bit (msb)\n",
    "* The DAC will produce a voltage output determined by data register content\n",
    "* The comparator compares capacitor voltage and DAC output.\n",
    "    * Outputs `1` if $v_C > v_{DAC}$\n",
    "    * Outputs `0` if $v_C < v_{DAC}$\n",
    "* The conversion process can be compared to a [*binary search*](https://en.wikipedia.org/wiki/Binary_search)"
   ]
  },
  {
   "cell_type": "markdown",
   "metadata": {},
   "source": [
    "## SAR example conversion:   $\\ \\ v_c = 2.1\\text{ V}, \\ \\ \\text{n}_{\\text{bits}}=6$\n"
   ]
  },
  {
   "cell_type": "code",
   "execution_count": 1,
   "metadata": {
    "collapsed": true,
    "jupyter": {
     "outputs_hidden": true
    },
    "scrolled": true
   },
   "outputs": [
    {
     "ename": "ModuleNotFoundError",
     "evalue": "No module named 'Kildekode'",
     "output_type": "error",
     "traceback": [
      "\u001b[1;31m---------------------------------------------------------------------------\u001b[0m",
      "\u001b[1;31mModuleNotFoundError\u001b[0m                       Traceback (most recent call last)",
      "Cell \u001b[1;32mIn[1], line 1\u001b[0m\n\u001b[1;32m----> 1\u001b[0m \u001b[38;5;28;01mfrom\u001b[39;00m \u001b[38;5;21;01mKildekode\u001b[39;00m\u001b[38;5;21;01m.\u001b[39;00m\u001b[38;5;21;01mimage_cycler\u001b[39;00m \u001b[38;5;28;01mimport\u001b[39;00m ImageCycler\n\u001b[0;32m      2\u001b[0m get_ipython()\u001b[38;5;241m.\u001b[39mrun_line_magic(\u001b[38;5;124m'\u001b[39m\u001b[38;5;124mmatplotlib\u001b[39m\u001b[38;5;124m'\u001b[39m, \u001b[38;5;124m'\u001b[39m\u001b[38;5;124mipympl\u001b[39m\u001b[38;5;124m'\u001b[39m)\n\u001b[0;32m      3\u001b[0m ImageCycler([\u001b[38;5;124m'\u001b[39m\u001b[38;5;124mSAR_ex1.png\u001b[39m\u001b[38;5;124m'\u001b[39m, \u001b[38;5;124m'\u001b[39m\u001b[38;5;124mSAR_ex2.png\u001b[39m\u001b[38;5;124m'\u001b[39m, \u001b[38;5;124m'\u001b[39m\u001b[38;5;124mSAR_ex3.png\u001b[39m\u001b[38;5;124m'\u001b[39m, \u001b[38;5;124m'\u001b[39m\u001b[38;5;124mSAR_ex4.png\u001b[39m\u001b[38;5;124m'\u001b[39m, \u001b[38;5;124m'\u001b[39m\u001b[38;5;124mSAR_ex5.png\u001b[39m\u001b[38;5;124m'\u001b[39m, \u001b[38;5;124m'\u001b[39m\u001b[38;5;124mSAR_ex6.png\u001b[39m\u001b[38;5;124m'\u001b[39m, \u001b[38;5;124m'\u001b[39m\u001b[38;5;124mSAR_ex7.png\u001b[39m\u001b[38;5;124m'\u001b[39m],\n\u001b[0;32m      4\u001b[0m             \u001b[38;5;124m\"\u001b[39m\u001b[38;5;124mFigurer/05_Sampling_og_Aliasing/\u001b[39m\u001b[38;5;124m\"\u001b[39m,\n\u001b[0;32m      5\u001b[0m             description \u001b[38;5;241m=\u001b[39m \u001b[38;5;124m\"\u001b[39m\u001b[38;5;124mClock cycle nr.\u001b[39m\u001b[38;5;124m\"\u001b[39m);\n",
      "\u001b[1;31mModuleNotFoundError\u001b[0m: No module named 'Kildekode'"
     ]
    }
   ],
   "source": [
    "from Kildekode.image_cycler import ImageCycler\n",
    "%matplotlib ipympl\n",
    "ImageCycler(['SAR_ex1.png', 'SAR_ex2.png', 'SAR_ex3.png', 'SAR_ex4.png', 'SAR_ex5.png', 'SAR_ex6.png', 'SAR_ex7.png'],\n",
    "            \"Figurer/05_Sampling_og_Aliasing/\",\n",
    "            description = \"Clock cycle nr.\");"
   ]
  },
  {
   "cell_type": "markdown",
   "metadata": {},
   "source": [
    "# Determining the sampling rate for continuous sampling"
   ]
  },
  {
   "cell_type": "markdown",
   "metadata": {},
   "source": [
    "#### Summary of factors which affect sampling frequency\n",
    "* Successive approximation conversion time\n",
    "    * Unit: clock cycles\n",
    "    * Not configurable unless a reduction in bit precision is acceptable\n",
    "* Sample time (*the duration of the \"sample phase\" where the capacitor is charged*)\n",
    "    * Unit: clock cycles\n",
    "    * Highly configurable\n",
    "* ADC prescaler,\n",
    "    * Determines relative speed of ADC clock ot peripheral clock\n",
    "    * Integer value\n",
    "    * Configurable with constraints (must be power of two $2^N$)\n",
    "* Peripheral clock prescaler\n",
    "    * Determines relative speed of peripheral clock to system clock\n",
    "    * Integer value\n",
    "    * Configurable with constraints (must be power of two $2^N$)\n",
    "* System clock\n",
    "    * Fundamental \"heartbeat\" of entire microcontroller\n",
    "    * Unit: Hz/KHz/MHz\n",
    "    * Partially configurable"
   ]
  },
  {
   "cell_type": "markdown",
   "metadata": {},
   "source": [
    "# Continuous sample rate calculation\n",
    "\n",
    "* Combining all factors above presents a formula for determining sampling frequency $f_s$:\n",
    "\n",
    "## $$f_s = \\frac{\\frac{\\text{System Clock}}{\\text{Peripheral Prescaler }\\times \\text{ ADC Prescaler}}}{\\text{Sample Time} + \\text{Conversion Time}} $$"
   ]
  },
  {
   "cell_type": "markdown",
   "metadata": {},
   "source": [
    "# ADC configuration\n",
    "* On a microcontroller, registers are accessible for reading/writing using [macros](https://www.geeksforgeeks.org/macros-and-its-types-in-c-cpp/).\n",
    "    * The names of these macros and what each bit represents is listed in the reference manual for the microcontroller in question."
   ]
  },
  {
   "cell_type": "markdown",
   "metadata": {},
   "source": [
    "#### Example:\n",
    "```C++\n",
    "ADC1->CR2 = <some code here>;\n",
    "```\n",
    "* Macro for selecting \"Control Register 2\" for \"ADC 1\" (stm32 has 3 ADCs)"
   ]
  },
  {
   "cell_type": "markdown",
   "metadata": {},
   "source": [
    "# Accessing individual bits"
   ]
  },
  {
   "cell_type": "markdown",
   "metadata": {},
   "source": [
    "* When modifying a register we often wish to set a specific bit in an integer to either `1` or `0` while at the same time leaving the rest of the bits untouched."
   ]
  },
  {
   "cell_type": "markdown",
   "metadata": {},
   "source": [
    "#### Example:\n",
    "\n",
    "* add something here later!"
   ]
  },
  {
   "cell_type": "markdown",
   "metadata": {},
   "source": [
    "* Requires bitwise operators"
   ]
  },
  {
   "cell_type": "markdown",
   "metadata": {},
   "source": [
    "# Bitwise operators\n",
    "\n",
    "| Operator | Function | Example |\n",
    "|---|---|---|\n",
    "|`~`| Bitwise NOT | `~0b00001111` equals `0b11110000` | \n",
    "|`&`| Bitwise AND | `0b00001111 & 0b00111100` equals `0b00001100`|\n",
    "|`\\|`| Bitwise OR | `0b00001111 & 0b00111100` equals `0b00111111`|\n",
    "|`^`| Bitwise XOR | `0b00001111 & 0b00111100` equals `0b00110011`|\n",
    "|`>>`|Bitwise Right Shift| `0b11110000 >> 1` equals `0b01111000`|\n",
    "|`<<`|Bitwise Left Shift | `0b00001111 << 1` equals `0b00011110`| "
   ]
  },
  {
   "cell_type": "markdown",
   "metadata": {},
   "source": [
    "### Code example 1\n",
    "* Set bit nr. 0 (counting from the right and starting with 0) to `1` in the variable `EX_REGISTER`"
   ]
  },
  {
   "cell_type": "code",
   "execution_count": null,
   "metadata": {},
   "outputs": [],
   "source": [
    "EX_REGISTER = 0x8244 # Hexadecimal notation, 16 bit\n",
    "\n",
    "# DO SOMETHING HERE!\n",
    "\n",
    "print(f\"{EX_REGISTER:b}\")"
   ]
  },
  {
   "cell_type": "markdown",
   "metadata": {},
   "source": [
    "### Code example 2\n",
    "* Set bit nr. 5 (counting from the right and starting with 0) to `1` in the variable `EX_REGISTER`"
   ]
  },
  {
   "cell_type": "code",
   "execution_count": null,
   "metadata": {},
   "outputs": [],
   "source": [
    "# DO SOMETHING HERE!\n",
    "\n",
    "print(f\"{EX_REGISTER:b}\")"
   ]
  },
  {
   "cell_type": "markdown",
   "metadata": {},
   "source": []
  },
  {
   "cell_type": "markdown",
   "metadata": {},
   "source": [
    "### Code example 3\n",
    "* Set bit nr. 6 (counting from the right and starting with 0) to `0` in the variable `EX_REGISTER`"
   ]
  },
  {
   "cell_type": "code",
   "execution_count": null,
   "metadata": {},
   "outputs": [],
   "source": [
    "# DO SOMETHING HERE!\n",
    "\n",
    "print(f\"{EX_REGISTER:b}\")"
   ]
  },
  {
   "cell_type": "markdown",
   "metadata": {},
   "source": [
    "### Code example 4\n",
    "* Set bits 9 through 11 to `101` in the variable `EX_REGISTER`"
   ]
  },
  {
   "cell_type": "code",
   "execution_count": null,
   "metadata": {},
   "outputs": [],
   "source": [
    "# DO SOMETHING HERE!\n",
    "\n",
    "print(f\"{EX_REGISTER:b}\")"
   ]
  },
  {
   "cell_type": "markdown",
   "metadata": {},
   "source": [
    "# Closing remarks\n",
    "\n",
    "* A lot of hardware manufacturers provide libraries for interacting with hardware, so we can make use of the hardware without requiring us to figure out all the register settigns ourselves.\n",
    "    * The STM32 CubeIDE lets us use a GUI tool to generate all the hardware-configuring code.\n",
    "* It is still useful to have a conception of what goes on \"underneath the hood\". \n",
    "* We can be prepared for those occasions when such a library is not provided, or we wish to do something very specific not supported by the library."
   ]
  },
  {
   "cell_type": "markdown",
   "metadata": {},
   "source": [
    "# Questions?"
   ]
  }
 ],
 "metadata": {
  "celltoolbar": "Slideshow",
  "hide_input": false,
  "kernelspec": {
   "display_name": "Python 3 (ipykernel)",
   "language": "python",
   "name": "python3"
  },
  "language_info": {
   "codemirror_mode": {
    "name": "ipython",
    "version": 3
   },
   "file_extension": ".py",
   "mimetype": "text/x-python",
   "name": "python",
   "nbconvert_exporter": "python",
   "pygments_lexer": "ipython3",
   "version": "3.12.2"
  },
  "toc": {
   "base_numbering": 1,
   "nav_menu": {},
   "number_sections": false,
   "sideBar": true,
   "skip_h1_title": false,
   "title_cell": "Table of Contents",
   "title_sidebar": "Contents",
   "toc_cell": false,
   "toc_position": {},
   "toc_section_display": true,
   "toc_window_display": false
  },
  "varInspector": {
   "cols": {
    "lenName": 16,
    "lenType": 16,
    "lenVar": 40
   },
   "kernels_config": {
    "python": {
     "delete_cmd_postfix": "",
     "delete_cmd_prefix": "del ",
     "library": "var_list.py",
     "varRefreshCmd": "print(var_dic_list())"
    },
    "r": {
     "delete_cmd_postfix": ") ",
     "delete_cmd_prefix": "rm(",
     "library": "var_list.r",
     "varRefreshCmd": "cat(var_dic_list()) "
    }
   },
   "types_to_exclude": [
    "module",
    "function",
    "builtin_function_or_method",
    "instance",
    "_Feature"
   ],
   "window_display": false
  }
 },
 "nbformat": 4,
 "nbformat_minor": 4
}
