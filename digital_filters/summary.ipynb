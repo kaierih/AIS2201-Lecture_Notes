{
 "cells": [
  {
   "cell_type": "code",
   "execution_count": null,
   "id": "3a3f8334-7956-4c38-8829-d6b69c4c2b48",
   "metadata": {},
   "outputs": [],
   "source": []
  },
  {
   "cell_type": "markdown",
   "id": "2a5570dc-9514-48dd-a4d8-cec1f59b64ad",
   "metadata": {
    "slideshow": {
     "slide_type": "slide"
    }
   },
   "source": [
    "# DTFT relevante egenskaper\n",
    "\n",
    "* Nyttige egenskaper når man utfører operasjoner på digitale filtre\n",
    "\n",
    "|Property|Time-domain $x[n]$|Frequency domain $X\\left(\\hat{\\omega}\\right)$|Appears in:|\n",
    "|:--|:----------:|:-----------------------:|---|\n",
    "|Perdiodisistet i frekvensdomenet| | \\begin{equation}X\\left(\\hat{\\omega}+2\\pi\\right)=X\\left(\\hat{\\omega}\\right)\\end{equation} |  |\n",
    "|Linearitet | \\begin{equation}a\\cdot x_1[n] + b\\cdot x_2[n] \\end{equation}|\\begin{equation}a\\cdot X_1\\left(\\hat{\\omega}\\right) +b\\cdot X_2\\left(\\hat{\\omega}\\right)\\end{equation}| Parallell filter structures|\n",
    "|Komplekskonjugert symmetri| $x[n]$ er et reelt signal. | \\begin{equation}X\\left(-\\hat{\\omega}\\right) = X^{*}\\left(\\hat{\\omega}\\right)\\end{equation}|---|\n",
    "|Tidsreversering | $x[-n]$ | \\begin{equation}X\\left(-\\hat{\\omega}\\right)\\end{equation}|---|\n",
    "|Tidsforskyvning | $x[n-n_d]$ | \\begin{equation}e^{-j\\hat{\\omega}\\cdot n_d} \\cdot X\\left(\\hat{\\omega}\\right)\\end{equation}|---|\n",
    "|Frekvensforskyvning | $x[n]\\cdot e^{j\\hat{\\omega}_0\\cdot n}$ | \\begin{equation}X\\left(\\hat{\\omega}-\\hat{\\omega}_0\\right) \\end{equation} | ---|\n",
    "|Modulasjon | $x[n]\\cdot \\cos (\\hat{\\omega}_0 \\cdot n)$ | \\begin{equation}\\frac{1}{2}X\\left(\\hat{\\omega}-\\hat{\\omega}_0\\right) + \\frac{1}{2}X\\left(\\hat{\\omega}+\\hat{\\omega}_0\\right)\\end{equation}| Bandpass/Highpass filter design|\n",
    "|Konvolusjon| $x[n]*h[n]$ | \\begin{equation}X\\left(\\hat{\\omega}\\right)\\cdot H\\left(\\hat{\\omega}\\right)\\end{equation}| Cascade filter structures|\n",
    "|Multiplikasjon | $x[n]\\cdot w[n]$ | \\begin{equation}X\\left(\\hat{\\omega}\\right)*W\\left(\\hat{\\omega}\\right)\\end{equation}|---|"
   ]
  },
  {
   "cell_type": "markdown",
   "id": "df915249-64bc-4f59-9843-56bfb49c1341",
   "metadata": {
    "slideshow": {
     "slide_type": "slide"
    }
   },
   "source": [
    "# DTFT vanlige transformasjonspar\n",
    "\n",
    "* Nyttige transformasjonspar for filterdesign\n",
    "\n",
    "|Tidsdomene: $h[n]$ | Frekvensdomene: $H\\left(\\hat{\\omega}\\right)$ | Brukes i: |\n",
    "|:-:|:-:| :-: |\n",
    "|$\\delta[n]$|$1$|  |\n",
    "|$\\delta[n-n_d]$ | $e^{-j\\hat{\\omega}\\cdot n_d}$ | Tidsforsinkelse |\n",
    "| $$u[n]-u[n-L]$$ | $$ \\frac{\\sin\\left(\\frac{1}{2}L\\hat{\\omega}\\right)}{\\sin\\left(\\frac{1}{2}\\hat{\\omega}\\right)}\\cdot e^{- j \\cdot \\frac{L-1}{2}\\cdot \\hat{\\omega}} $$| Middelverdifilter |\n",
    "|$$\\frac{\\sin(\\hat{\\omega}_b\\cdot n)}{\\pi \\cdot n}$$|$$\\begin{cases}1, \\ \\ \\ |\\hat{\\omega}|\\leq \\hat{\\omega}_b\\\\ 0, \\ \\ \\  \\hat{\\omega}_b < |\\hat{\\omega}| \\leq \\pi \\end{cases}$$| Lavpassfilter | \n",
    "|$$\\frac{\\hat{\\omega}_c \\cos(\\hat{\\omega}_c n)}{\\pi n} - \\frac{\\sin(\\hat{\\omega}_c n)}{\\pi n}$$ | $$\\begin{cases} j\\hat{\\omega}, \\ \\ \\  |\\hat{\\omega}| \\leq \\hat{\\omega}_c \\\\ 0, \\ \\ \\ \\ \\ \\hat{\\omega}_c < |\\hat{\\omega}| \\leq \\pi \\end{cases}$$| Båndbegrenset Derivasjon|\n",
    "|$$a^n\\cdot u[n], \\ \\ (|a|<1) $$| $$\\frac{1}{1-a\\cdot e^{-j\\hat{\\omega}}}$$| Eksponentielt glattefilter |"
   ]
  }
 ],
 "metadata": {
  "kernelspec": {
   "display_name": "Python 3 (ipykernel)",
   "language": "python",
   "name": "python3"
  },
  "language_info": {
   "codemirror_mode": {
    "name": "ipython",
    "version": 3
   },
   "file_extension": ".py",
   "mimetype": "text/x-python",
   "name": "python",
   "nbconvert_exporter": "python",
   "pygments_lexer": "ipython3",
   "version": "3.12.2"
  }
 },
 "nbformat": 4,
 "nbformat_minor": 5
}
