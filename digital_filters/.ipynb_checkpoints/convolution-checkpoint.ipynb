{
 "cells": [
  {
   "cell_type": "code",
   "execution_count": 1,
   "metadata": {
    "slideshow": {
     "slide_type": "-"
    },
    "tags": []
   },
   "outputs": [],
   "source": [
    "# Generelle moduler og funksjonsbeskrivelser brukt i forelesningen\n",
    "from numpy import sin, cos, pi, exp\n",
    "import scipy.signal as sig\n",
    "import numpy.fft as fft\n",
    "import numpy as np\n",
    "import matplotlib.pyplot as plt\n",
    "\n",
    "plt.rcParams[\"figure.figsize\"] = [8.00, 4.5]\n",
    "plt.rcParams[\"figure.autolayout\"] = True\n",
    "plt.rcParams[\"axes.grid\"] = True\n",
    "plt.rcParams[\"axes.xmargin\"] = 0.0\n",
    "\n",
    "%matplotlib ipympl"
   ]
  },
  {
   "cell_type": "markdown",
   "metadata": {
    "slideshow": {
     "slide_type": "slide"
    }
   },
   "source": [
    "<img src=\"figures/NTNU_logo_vertical.svg\" align=\"left\" style=\"width: 30%\">\n",
    "<br clear=\"all\" />\n",
    "<br></br>\n",
    "\n",
    "# Discrete Convolution\n",
    "\n",
    "* **Course AIS2201 - Signalbehandling**\n",
    "* **Week 41, 2025**\n",
    "* **Lecturer: Kai Erik Hoff**\n"
   ]
  },
  {
   "cell_type": "markdown",
   "metadata": {
    "slideshow": {
     "slide_type": "slide"
    },
    "tags": []
   },
   "source": [
    "# Topics\n",
    "\n",
    "* Digital filters as a concept\n",
    "* Desired properties (LTI)\n",
    "* Discrete LTI-systems (the difference equation)\n",
    "* IIR filters summarized\n",
    "    * Exponential averager is a IIR filter\n",
    "    * Digital IIR filters created by discretizing continuous systems\n",
    "* FIR filters\n",
    "    * Coefficients = impulse response\n",
    "    * Filtering = convolving impulse respone & signal"
   ]
  },
  {
   "cell_type": "markdown",
   "metadata": {
    "slideshow": {
     "slide_type": "slide"
    }
   },
   "source": [
    "# What is a FIR filter?\n",
    "\n",
    "\n",
    " \n"
   ]
  },
  {
   "cell_type": "markdown",
   "metadata": {
    "slideshow": {
     "slide_type": "fragment"
    }
   },
   "source": [
    "* **FIR** - **F**inite **I**mpulse **R**esponse"
   ]
  },
  {
   "cell_type": "markdown",
   "metadata": {
    "slideshow": {
     "slide_type": "fragment"
    }
   },
   "source": [
    "* Describes a digital filter which calculates the output $y[n]$ based *only* on a linear combination of the input values $x[n]$ at various samplingtimes."
   ]
  },
  {
   "cell_type": "markdown",
   "metadata": {
    "slideshow": {
     "slide_type": "fragment"
    }
   },
   "source": [
    "* Entirely described by the filter coefficients $b_k$"
   ]
  },
  {
   "cell_type": "markdown",
   "metadata": {
    "slideshow": {
     "slide_type": "fragment"
    }
   },
   "source": [
    "* Can be viewed as a Discrete LTI-system where $a_k$ equals:\n",
    "$$\n",
    "a_k = \n",
    "\\begin{cases}\n",
    "1,\\ \\ \\  k = 0\\\\\n",
    "0,\\ \\ \\  k \\neq 0\n",
    "\\end{cases}\n",
    "$$"
   ]
  },
  {
   "cell_type": "markdown",
   "metadata": {
    "slideshow": {
     "slide_type": "fragment"
    }
   },
   "source": [
    "* Difference equation for FIR filters:\n",
    "### $$ y[n] = \\sum_{k=0}^{N} b_k \\cdot x[n-k]$$"
   ]
  },
  {
   "cell_type": "markdown",
   "metadata": {
    "slideshow": {
     "slide_type": "fragment"
    }
   },
   "source": [
    "* $N$ denotes the *filter order*\n",
    "    * Determines how many samples \"back in time\" the FIR filter needs to keep samples in the buffer."
   ]
  },
  {
   "cell_type": "markdown",
   "metadata": {
    "slideshow": {
     "slide_type": "fragment"
    }
   },
   "source": [
    "* Mathematically much simpler to work with than a IIR filter"
   ]
  },
  {
   "cell_type": "markdown",
   "metadata": {
    "editable": true,
    "slideshow": {
     "slide_type": "notes"
    },
    "tags": []
   },
   "source": [
    "# FIR filter system diagram\n",
    "\n",
    "\n",
    "<br>\n",
    "<img src=\"figures/tapped_delay_line.svg\" style=\"width: 60%; margin-left: 10%\" />\n",
    "\n",
    "\n"
   ]
  },
  {
   "cell_type": "markdown",
   "metadata": {
    "slideshow": {
     "slide_type": "fragment"
    }
   },
   "source": [
    "* FIR filters commonly referred to as *tapped delay line* filters"
   ]
  },
  {
   "cell_type": "markdown",
   "metadata": {
    "slideshow": {
     "slide_type": "fragment"
    }
   },
   "source": [
    "* Number of \"taps\" ($M=N+1$) are a more common metric for size of filter than the filter order"
   ]
  },
  {
   "cell_type": "markdown",
   "metadata": {
    "editable": true,
    "slideshow": {
     "slide_type": "notes"
    },
    "tags": []
   },
   "source": [
    "# Digital filter properties: *The Impulse Response*\n",
    "\n",
    "<img src=\"figures/impulse_response.svg\" style=\"width: 60%; margin-left: 200px\" />\n",
    "\n",
    "* The mathematical properties of a digital filter which is both linear and time-invariant are contained entirely within it's impulse response.\n",
    "\n",
    "<!--\n",
    "* Premiss for LTI-system:\n",
    "    * *Dersom systemets reaksjon til en deltapuls $\\delta[n]$ er kjent, er det mulig å predikere hvordan systemet vil reagere på alle mulige inngangssignal.*\n",
    "* Utgangssignalet til et LTI-system gitt en impuls $\\delta[n]$ som inngangssignal kalles impulsresponsen $h[n]$ til systemet.\n",
    "-->"
   ]
  },
  {
   "cell_type": "markdown",
   "metadata": {
    "slideshow": {
     "slide_type": "slide"
    }
   },
   "source": [
    "# Designing/analyzing FIR filters"
   ]
  },
  {
   "cell_type": "markdown",
   "metadata": {
    "editable": true,
    "slideshow": {
     "slide_type": "notes"
    },
    "tags": []
   },
   "source": [
    "\n",
    "\n",
    "<img src=\"figures/impulse_response.svg\" align=\"right\" width=\"25%\" style=\"margin-right:100px\"/>\n",
    "\n",
    "<div style=\"width: 50%\"><ul><li> Working with FIR filters involves analyzing/shaping the <i>Impulse Response</i> of the FIR filter.</li></ul></div>\n"
   ]
  },
  {
   "cell_type": "markdown",
   "metadata": {
    "slideshow": {
     "slide_type": "fragment"
    }
   },
   "source": [
    "* The impulse response of a FIR filter **very** is easily acquired.\n",
    "    * This is in contrast to IIR filters where calculating the impulse response is highly cumbersome, and not generally relevant when analyzing IIR filters."
   ]
  },
  {
   "cell_type": "markdown",
   "metadata": {
    "slideshow": {
     "slide_type": "slide"
    }
   },
   "source": [
    "# FIR filters impulse response\n",
    "\n",
    "\\begin{align}\n",
    "h[n] &= \\sum_{k=0}^{M} b_k \\cdot \\delta[n-k]\\\\\n",
    "     &= b_0 \\cdot \\delta[n] + b_1\\cdot \\delta[n-1] + \\ldots + b_M\\cdot \\delta[n-M]\\\\ \\\\\n",
    "     &= \\begin{cases} b_k \\big|_{k=n}, & 0 \\leq n \\leq M \\\\ 0, & \\text{otherwise} \\end{cases}\n",
    "\\end{align}\n",
    "\n"
   ]
  },
  {
   "cell_type": "markdown",
   "metadata": {
    "slideshow": {
     "slide_type": "fragment"
    }
   },
   "source": [
    "* The impulse response of a FIR filter is a signal which contains each filter coefficient $b_k$ in turn.\n",
    "\n",
    "| $$n$$ | $$ n < 0 $$ | $$0$$ | $$1$$ | $$2$$ | $$3$$ | $$\\ldots$$ | $$N$$ | $$N+1$$ | $$n > N +1 $$ |\n",
    "|---|---|---|---|---|---|---|---|---|---|\n",
    "|$$x[n] = \\delta[n]$$ | $$0$$ | $$1$$ |  $$0$$ | $$0$$ | $$0$$ | $$0$$ | $$0$$ | $$0$$ | $$0$$ |\n",
    "|$$y[n] = h[n]$$ |$$0$$ | $$b_0$$ | $$b_1$$ | $$b_2$$ | $$b_3$$ | $$\\ldots$$ | $$b_N$$ | $$0$$ | $$0$$|"
   ]
  },
  {
   "cell_type": "markdown",
   "metadata": {
    "slideshow": {
     "slide_type": "slide"
    }
   },
   "source": [
    "## Question\n",
    "* What is the impulse respone $h[n]$ of an 8-point moving average filter?"
   ]
  },
  {
   "cell_type": "markdown",
   "metadata": {
    "slideshow": {
     "slide_type": "slide"
    }
   },
   "source": [
    "# Why the impulse response $h[n]$ of a filter is important"
   ]
  },
  {
   "cell_type": "markdown",
   "metadata": {
    "slideshow": {
     "slide_type": "fragment"
    }
   },
   "source": [
    "\n",
    "1. Any signal can be decomposed into a sum of scaled and shifted deltapulses.\n",
    "\n",
    "$$x[n] = \\sum_{k=0}^{\\infty} x[k] \\cdot \\delta[n-k]$$\n",
    "\n"
   ]
  },
  {
   "cell_type": "markdown",
   "metadata": {
    "slideshow": {
     "slide_type": "fragment"
    }
   },
   "source": [
    "2. The properties of *linearity* and *time-invariance* imply that the ouputput of a LTI-system can be expressed as a sum of scaled and shifted *impulse responses*.\n",
    "\\begin{align}\n",
    "y[n] &= F(x[n])\\\\\n",
    "     &= F\\left(\\sum_{k=-\\infty}^{\\infty} x[k]\\cdot \\delta[n-k]\\right)\\\\\n",
    "     &= \\sum_{k=-\\infty}^{\\infty} x[k]\\cdot F(\\delta[n-k])\\\\\n",
    "     &= \\sum_{k=-\\infty}^{\\infty} x[k]\\cdot h[n-k]\n",
    "\\end{align}"
   ]
  },
  {
   "cell_type": "markdown",
   "metadata": {
    "slideshow": {
     "slide_type": "slide"
    },
    "tags": []
   },
   "source": [
    "# Convolution\n",
    "\n",
    "* The output of a LTI-ystem can be calucated by ***convolving*** the input signal $x[n]$ with the system's impulse response $h[n]$.\n",
    "    * Convolution operator: $*$\n",
    "\n",
    "\\begin{align}\n",
    "y[n] &= \\sum_{k=-\\infty}^{\\infty} x[k]\\cdot h[n-k]\\\\\n",
    "&= x[n]*h[n]\n",
    "\\end{align}"
   ]
  },
  {
   "cell_type": "markdown",
   "metadata": {
    "slideshow": {
     "slide_type": "fragment"
    }
   },
   "source": [
    "* Using convolution to calculate the output of a IIR filter is not practical\n",
    "    * The impulse response $h[n]$ of an IIR filter is infinitely long, resulting in an infinite number of calculations"
   ]
  },
  {
   "cell_type": "markdown",
   "metadata": {
    "slideshow": {
     "slide_type": "fragment"
    }
   },
   "source": [
    "* FIR filters are filters which in practice perform convolution\n",
    "    * The impulse response and the filter coefficients are the same array of numbers"
   ]
  },
  {
   "cell_type": "markdown",
   "metadata": {
    "slideshow": {
     "slide_type": "slide"
    }
   },
   "source": [
    "## Demo: Filtrering av signal med konvolusjon"
   ]
  },
  {
   "cell_type": "code",
   "execution_count": 2,
   "metadata": {
    "slideshow": {
     "slide_type": "-"
    },
    "tags": []
   },
   "outputs": [
    {
     "ename": "ModuleNotFoundError",
     "evalue": "No module named 'Kildekode'",
     "output_type": "error",
     "traceback": [
      "\u001b[31m---------------------------------------------------------------------------\u001b[39m",
      "\u001b[31mModuleNotFoundError\u001b[39m                       Traceback (most recent call last)",
      "\u001b[36mCell\u001b[39m\u001b[36m \u001b[39m\u001b[32mIn[2]\u001b[39m\u001b[32m, line 1\u001b[39m\n\u001b[32m----> \u001b[39m\u001b[32m1\u001b[39m \u001b[38;5;28;01mfrom\u001b[39;00m \u001b[34;01mKildekode\u001b[39;00m\u001b[34;01m.\u001b[39;00m\u001b[34;01m_10_Konvolusjon\u001b[39;00m \u001b[38;5;28;01mimport\u001b[39;00m convolutionDemo\n\u001b[32m      2\u001b[39m n = np.arange(\u001b[32m30\u001b[39m); xn = np.cos(pi/\u001b[32m5\u001b[39m*n) \u001b[38;5;66;03m# Sinussekvens\u001b[39;00m\n\u001b[32m      3\u001b[39m hn =  np.array(np.ones(\u001b[32m5\u001b[39m)/\u001b[32m5\u001b[39m)                      \u001b[38;5;66;03m# \u001b[39;00m\n",
      "\u001b[31mModuleNotFoundError\u001b[39m: No module named 'Kildekode'"
     ]
    }
   ],
   "source": [
    "from Kildekode._10_Konvolusjon import convolutionDemo\n",
    "n = np.arange(30); xn = np.cos(pi/5*n) # Sinussekvens\n",
    "hn =  np.array(np.ones(5)/5)                      # \n",
    "convolutionDemo(xn, hn, fig_num=2,figsize=(10,7));    #"
   ]
  },
  {
   "cell_type": "markdown",
   "metadata": {
    "slideshow": {
     "slide_type": "fragment"
    },
    "tags": []
   },
   "source": [
    "* Convolution step-by-step:\n",
    "    1. Flip the impulse response $h[n]$ aboug $n=0$ (time-reversal)\n",
    "    2. Calculate the product sum where the signal $x[n]$ overlaps with the flipped impulse response $h[-n]$\n",
    "    3. Shift the flipped impulse response one step along the $x$-axis\n",
    "    4. Repeat step 2 & 3 as long as there are overlapping samples\n",
    " \n",
    "* You are encouraged to used try out the demo with various input signals and impulse responses"
   ]
  },
  {
   "cell_type": "markdown",
   "metadata": {
    "slideshow": {
     "slide_type": "slide"
    }
   },
   "source": [
    "## Observations\n",
    "\n",
    "* Output signal length equals the sum of input signal length and impulse response length minus 1:\n",
    "$$L_y = L_x + M-1$$\n",
    "\n",
    "* The digital filter has a \"response time\", and the waveform of the filtered signal will typically lag behind the input signal."
   ]
  },
  {
   "cell_type": "markdown",
   "metadata": {
    "slideshow": {
     "slide_type": "slide"
    }
   },
   "source": [
    "# Calculating convolution\n",
    "\n",
    "* When calculating by hand, the simplest approach is to use a multiplication table\n",
    "<br>\n",
    "<br>\n",
    "\n",
    "<div>\n",
    "<img src=\"figures/ConvIllustration1.png\" width=\"43%\" align=\"left\"/>\n",
    "</div>"
   ]
  },
  {
   "cell_type": "markdown",
   "metadata": {
    "slideshow": {
     "slide_type": "slide"
    },
    "tags": []
   },
   "source": [
    "# Calculating convolution\n",
    "\n",
    "* When calculating by hand, the simplest approach is to use a multiplication table\n",
    "* The convolution result is found by adding up the products along each diagonal\n",
    "\n",
    "<img src=\"figures/ConvIllustration2.png\" width=\"65%\" align=\"left\" />"
   ]
  },
  {
   "cell_type": "markdown",
   "metadata": {
    "slideshow": {
     "slide_type": "slide"
    }
   },
   "source": [
    "## Programming example: *create a function to calculate convolution \"from scratch\"*\n",
    "\n",
    "$$ y[n] = \\sum_{k=0}^{\\infty}x[k]\\cdot h[n-k]$$\n"
   ]
  },
  {
   "cell_type": "code",
   "execution_count": null,
   "metadata": {},
   "outputs": [],
   "source": [
    "def convolve(x, h):\n",
    "    \n",
    "    M = len(h)  # Number of filter \"taps\"\n",
    "    L_x = len(x)  # Length of input signal\n",
    "    L_y = M + L_x -1   # Length of filtered signal\n",
    "    y = np.zeros(L_y)  # \"Empty\" output signal\n",
    "    \n",
    "    for n in range(L_y):  # For each sample in the output y[n]\n",
    "        for k in range(M):  # For each \"tap\" in the filter\n",
    "            if 0 <= n - k < M:  # If x[k] overlaps with h[n-k]\n",
    "                y[n] += x[k]*h[n-k]\n",
    "    return y\n",
    "\n",
    "x = np.ones(10)\n",
    "h = np.ones(5)\n",
    "convolve(x, h)"
   ]
  },
  {
   "cell_type": "markdown",
   "metadata": {
    "slideshow": {
     "slide_type": "slide"
    }
   },
   "source": [
    "# Convolution using python\n",
    "\n",
    "* The `numpy` module has a function  [`convolve()`](https://numpy.org/doc/2.0/reference/generated/numpy.convolve.html)."
   ]
  },
  {
   "cell_type": "code",
   "execution_count": null,
   "metadata": {
    "slideshow": {
     "slide_type": "-"
    },
    "tags": []
   },
   "outputs": [],
   "source": [
    "xn = np.ones(20) # x[n] = u[n]-u[n-10]\n",
    "hn = np.array([1, -1, 2, -1, 1]) # Fra regneeksempel 2\n",
    "yn = np.convolve(xn, hn)\n",
    "yn = yn[:20]\n",
    "plt.close(3);plt.figure(3, figsize=(8,3))\n",
    "plt.stem(yn)"
   ]
  },
  {
   "cell_type": "markdown",
   "metadata": {
    "slideshow": {
     "slide_type": "slide"
    }
   },
   "source": [
    "# Step response and the transitional phase\n",
    "\n",
    "* The step response $s[n]$ of of a filter $h[n]$ is defined as the outpu signal $y[n]$ when the input $x[n]$ is a [heaviside step function](https://en.wikipedia.org/wiki/Heaviside_step_function) $u[n]$\n",
    "\n",
    "\n"
   ]
  },
  {
   "cell_type": "markdown",
   "metadata": {
    "slideshow": {
     "slide_type": "fragment"
    }
   },
   "source": [
    "$$s[n] = h[n]*u[n]$$\n",
    "\n",
    "* Equivalent to the running sum of the impulse response: $$s[n] = \\sum_{k=0}^n h[k]$$\n"
   ]
  },
  {
   "cell_type": "markdown",
   "metadata": {
    "slideshow": {
     "slide_type": "fragment"
    }
   },
   "source": [
    "* Eksempel med 5-punkts middelverdifilter:\n",
    "<img src=\"figures/StepResponse.png\" width=\"65%\"/>\n",
    "\n",
    "* The *Transitional phase* can be fomulated as *\"number of samples of lag before the filter output adjusts to sudden changes in the input signal\"*\n",
    "    * Example: if the frequency of a input sinusoid is changed suddenly, it will take $N$ samples before the output can be considered as strictly sinusoidal"
   ]
  },
  {
   "cell_type": "markdown",
   "metadata": {
    "slideshow": {
     "slide_type": "slide"
    }
   },
   "source": [
    "## Regneeksempel 2:\n",
    "* Calculate the step response of the filter\n",
    "$$h[n] = \\delta[n]-\\delta[n-1]+2\\delta[n-2]-\\delta[n-3]+\\delta[n-4]$$"
   ]
  },
  {
   "cell_type": "markdown",
   "metadata": {
    "slideshow": {
     "slide_type": "slide"
    }
   },
   "source": [
    "# Convolution in image processing: *edge detection*\n",
    "\n",
    "* Simple FIR filters such as a first order difference filter *can* be used to highlight edges in images\n",
    "    * $h[n] = \\delta[n] - \\delta[n-1]$\n",
    "    \n",
    "#### Below we can see a grayscale image, as well as an intensity profile from one row in the image."
   ]
  },
  {
   "cell_type": "code",
   "execution_count": null,
   "metadata": {
    "slideshow": {
     "slide_type": "-"
    },
    "tags": []
   },
   "outputs": [],
   "source": [
    "Im = plt.imread(\"Figures/fir_filters/camera.png\")\n",
    "Im = Im[:,:,0]  # Extract grayscale image as 2D array\n",
    "plt.figure()\n",
    "plt.subplot(3,1,(1,2))\n",
    "plt.imshow(Im, cmap=\"gray\")\n",
    "rows, cols = Im.shape\n",
    "plt.plot([0, cols-1], [300, 300], 'r')\n",
    "plt.subplot(3,1,3)\n",
    "plt.plot(Im[300,:])\n",
    "plt.title(\"Row 100 as a graph\")\n",
    "plt.xlabel('Pixels')\n",
    "plt.ylabel('Pixel value')\n",
    "plt.tight_layout()"
   ]
  },
  {
   "cell_type": "markdown",
   "metadata": {
    "slideshow": {
     "slide_type": "slide"
    }
   },
   "source": [
    "### We can use the differenc filter to filter each pixel row/column individually"
   ]
  },
  {
   "cell_type": "code",
   "execution_count": null,
   "metadata": {},
   "outputs": [],
   "source": [
    "h = np.array([1, -1])\n",
    "h_hori = h.reshape(1, 2)  # Single row, two columns\n",
    "h_vert = h.reshape(2, 1)  # Single column, two rows\n",
    "\n",
    "# Filter image in each direction\n",
    "Im_filt_h = sig.convolve2d(Im, h_hori, mode=\"same\")\n",
    "Im_filt_v = sig.convolve2d(Im, h_vert, mode=\"same\")\n",
    "\n",
    "# Plot the result\n",
    "plt.figure(figsize=(12,9))\n",
    "plt.subplot(1,2,1)\n",
    "plt.imshow(abs(Im_filt_h), cmap=\"gray\")\n",
    "plt.title(\"Horizontal difference filter\")\n",
    "plt.subplot(1,2,2)\n",
    "plt.imshow(abs(Im_filt_v), cmap=\"gray\")\n",
    "plt.title(\"Vertical difference filter\")"
   ]
  },
  {
   "cell_type": "markdown",
   "metadata": {
    "slideshow": {
     "slide_type": "slide"
    }
   },
   "source": [
    "### Combine the two images. "
   ]
  },
  {
   "cell_type": "code",
   "execution_count": null,
   "metadata": {},
   "outputs": [],
   "source": [
    "Im_filt = np.sqrt(Im_filt_h**2 + Im_filt_v**2)\n",
    "plt.figure()\n",
    "plt.imshow(np.abs(Im_filt), cmap=\"gray\")"
   ]
  },
  {
   "cell_type": "markdown",
   "metadata": {
    "slideshow": {
     "slide_type": "slide"
    }
   },
   "source": [
    "### Use thresholding to create a binary image showing the location of edges"
   ]
  },
  {
   "cell_type": "code",
   "execution_count": null,
   "metadata": {
    "slideshow": {
     "slide_type": "slide"
    },
    "tags": []
   },
   "outputs": [],
   "source": [
    "threshold = 0.15\n",
    "Im_edges = Im_filt > threshold*np.max(Im_filt)\n",
    "plt.figure()\n",
    "plt.imshow(np.abs(Im_edges), cmap=\"gray\")"
   ]
  },
  {
   "cell_type": "markdown",
   "metadata": {
    "slideshow": {
     "slide_type": "slide"
    },
    "tags": []
   },
   "source": [
    "# Convolution properties\n",
    "\n",
    "1. Commutative\n",
    "\\begin{align}\n",
    "x[n]*y[n] &= y[n]*x[n] \\\\\n",
    "\\sum_{k=-\\infty}^{\\infty} x[k]\\cdot y[n-k] &= \\sum_{k=-\\infty}^{\\infty} y[k]\\cdot x[n-k]\n",
    "\\end{align}\n",
    "\n",
    "\n",
    "2. Associative\n",
    "$$(x[n]*y[n])*v[n] = x[n]*(y[n]*v[n])$$\n",
    "\n",
    "\n",
    "3. Distributive *(linearity)*\n",
    "$$(x[n] + y[n])*v[n] = x[n]*v[n] + y[n]*v[n]$$\n",
    "\n",
    "\n",
    "4. Convolution in the frequency domain\n",
    "$$ x[n]*y[n] \\leftrightarrow X\\left(\\hat{\\omega} \\right)\\cdot Y\\left(\\hat{\\omega} \\right)$$"
   ]
  },
  {
   "cell_type": "markdown",
   "metadata": {
    "slideshow": {
     "slide_type": "slide"
    },
    "tags": []
   },
   "source": [
    "<img src=\"figures/Fig12_LTI_par.png\" style=\"width: 80%\" />"
   ]
  },
  {
   "cell_type": "markdown",
   "metadata": {
    "slideshow": {
     "slide_type": "slide"
    }
   },
   "source": [
    "<img src=\"figures/Fig12_LTI_cas.png\" style=\"width: 80%\" />"
   ]
  },
  {
   "cell_type": "markdown",
   "metadata": {
    "slideshow": {
     "slide_type": "slide"
    }
   },
   "source": [
    "## Regneeksempel 3:\n",
    "\n",
    "* Gitt følgende scenario:\n",
    "    1. Vi vil regne ut den deriverte til et inngangssignal $x[n]$\n",
    "        * Kan ut føres med et derivasjonsfilter: $h_1[n] = (\\delta[n] - \\delta[n-1])\\cdot \\frac{1}{T_s}$\n",
    "    2. $x[n]$ inkluderer en del målestøy, og vi er i hovedsak interessert i den lavfrekvente delen av signalet $x[n]$.\n",
    "        * Høyfrekvent støy vil forsterkes veldig av et derivasjonsfilter.\n",
    "    3. Det foreslås å bruke et *middelverdifilter* med lengde *L=6* for å lavpassfiltrere det deriverte signalet.\n",
    "        * Vi kombinerer altså et middelverdifilter i kaskade med derivasjonsfilteret.\n",
    "    \n",
    "* Finn impulsresponsen til det samlede systemet $h_{tot}[n]$.\n",
    "\n"
   ]
  },
  {
   "cell_type": "markdown",
   "metadata": {
    "slideshow": {
     "slide_type": "slide"
    }
   },
   "source": [
    "# Summary\n",
    "\n",
    "* Digital filters use a linear combination of available signal samples ($x[n-k] \\big/ y[n-k]$) to calculate the next output $y[n]$ for each sample.\n",
    "* The mathematical properties of a *Linear*, and *Time-invariant* system can be inferred from it's *impulse response* $h[n]$.\n",
    "* The output $y[n]$ for a LTI-system is calculated by *convolving* the input $x[n]$ and the impulse response $h[n]$:\n",
    "$$y[n] = \\sum_{k=0}^{\\infty} x[k] \\cdot h[n-k] = x[n]*h[n]$$\n",
    "* Utgangssignalet $y[n]$ til et LTI-system utregnes ved *konvolusjon* ($y[n] = x[n]*h[n]$).\n",
    "* FIR filters are *\"convolution machines\"*\n",
    "    * A LTI-system which ***only*** uses previous imput samples (x[n-k]) to calculate the output $y[n]$\n",
    "        * $y[n] = b_0 \\cdot x[n] + b_1 \\cdot x[n-1] + \\ldots + b_N \\cdot x[n-N]$\n",
    "    * The impulse response $h[n]$ is simply the a signal containing each filter coefficient $b_k$ in turn.\n",
    "* Two LTI-systems in cascade will have a total impulse response $h[n] = h_a[n] * h_b[n]$\n",
    "* Two LTI-systems in parallell will have a total impulse respones $h[n] = h_a[n] + h_b[n]$"
   ]
  }
 ],
 "metadata": {
  "celltoolbar": "Slideshow",
  "kernelspec": {
   "display_name": "Python 3 (ipykernel)",
   "language": "python",
   "name": "python3"
  },
  "language_info": {
   "codemirror_mode": {
    "name": "ipython",
    "version": 3
   },
   "file_extension": ".py",
   "mimetype": "text/x-python",
   "name": "python",
   "nbconvert_exporter": "python",
   "pygments_lexer": "ipython3",
   "version": "3.11.5"
  },
  "toc": {
   "base_numbering": 1
  },
  "varInspector": {
   "cols": {
    "lenName": 16,
    "lenType": 16,
    "lenVar": 40
   },
   "kernels_config": {
    "python": {
     "delete_cmd_postfix": "",
     "delete_cmd_prefix": "del ",
     "library": "var_list.py",
     "varRefreshCmd": "print(var_dic_list())"
    },
    "r": {
     "delete_cmd_postfix": ") ",
     "delete_cmd_prefix": "rm(",
     "library": "var_list.r",
     "varRefreshCmd": "cat(var_dic_list()) "
    }
   },
   "types_to_exclude": [
    "module",
    "function",
    "builtin_function_or_method",
    "instance",
    "_Feature"
   ],
   "window_display": false
  }
 },
 "nbformat": 4,
 "nbformat_minor": 4
}
